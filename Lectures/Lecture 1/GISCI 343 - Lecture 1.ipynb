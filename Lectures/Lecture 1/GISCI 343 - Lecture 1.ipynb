{
 "cells": [
  {
   "cell_type": "markdown",
   "metadata": {
    "slideshow": {
     "slide_type": "slide"
    }
   },
   "source": [
    "\n",
    "\n",
    "![](s1.JPG)\n",
    "\n"
   ]
  },
  {
   "cell_type": "markdown",
   "metadata": {
    "slideshow": {
     "slide_type": "slide"
    }
   },
   "source": [
    "# Welcome to 343!\n",
    "- you'll note that this class looks a little different than others in terms of its lectures. each 'slide' of you lectures is written using 'Markdown' (similar to a web page!) and is being displayed through Jupyter Notebooks (highlighted by red), where we will be spending most of our time\n",
    "\n",
    "![](s2-anacondaNav.JPG)"
   ]
  },
  {
   "cell_type": "markdown",
   "metadata": {
    "slideshow": {
     "slide_type": "slide"
    }
   },
   "source": [
    "## First off, how can you follow along with your instructors in class. \n",
    "- all course content uses Open Source (free!) materials \n",
    "- all lecture materials have been prepared as Jupyter Notebooks. They can be found as Zip files on the course website, and downloaded to your computer. To open these you will need to install a distribution of [Jupyter Notebooks](https://jupyter.org)\n",
    "- There are a number of ways to install Jupyter Notebooks, but I recommend [Anaconda Navigator](https://www.anaconda.com/products/individual)\n",
    "- Anaconda is installed on lab machines, but can also be put on your own machines for use in class or at home. No 'vpn' required. It is also installed on FlexIT if you prefer that!\n"
   ]
  },
  {
   "cell_type": "markdown",
   "metadata": {
    "slideshow": {
     "slide_type": "slide"
    }
   },
   "source": [
    "## Accessing Anaconda through FlexIT\n",
    "- [FlexIt](https://flexit.auckland.ac.nz)\n",
    "![](devBox_flexit.JPG)"
   ]
  },
  {
   "cell_type": "markdown",
   "metadata": {
    "slideshow": {
     "slide_type": "slide"
    }
   },
   "source": [
    "## Launching Anaconda through FlexIT\n",
    "![](devBox_anaconda.JPG)"
   ]
  },
  {
   "cell_type": "markdown",
   "metadata": {
    "slideshow": {
     "slide_type": "slide"
    }
   },
   "source": [
    "## Watching slides like how your instructor shows them\n",
    "- to display the slides as a deck, i recomend using RISE, an extension to Jupyter Notebooks. It adds a presentation engine to jupyter:\n",
    "1. Open CMD.exe prompt from Anaconda Promt\n",
    "\n",
    "![](s4-anacondaCMD.JPG)"
   ]
  },
  {
   "cell_type": "markdown",
   "metadata": {
    "slideshow": {
     "slide_type": "slide"
    }
   },
   "source": [
    "2. type the following code into the prompt\n",
    "\n",
    "<p style=\"background:black\">\n",
    "<code style=\"background:black;color:white\">C:\\Users\\YOUR_USERNAME> pip install RISE\n",
    "</code>\n",
    "</p>"
   ]
  },
  {
   "cell_type": "markdown",
   "metadata": {},
   "source": [
    "![](s5-installRISE.JPG)"
   ]
  },
  {
   "cell_type": "markdown",
   "metadata": {
    "slideshow": {
     "slide_type": "slide"
    }
   },
   "source": [
    "![](rise_on_flexit.JPG)"
   ]
  },
  {
   "cell_type": "markdown",
   "metadata": {
    "slideshow": {
     "slide_type": "slide"
    }
   },
   "source": [
    "3. press enter and with any luck, RISE should install. Text will go across the command line indicating that RISE has installed. \n",
    "4. Once it is installed, close and re-launch the Jupyter Notbook for this class and you should now see a new icon at the top of your Jupyter Notebook window. \n",
    "![](s6-RISEStart.JPG)\n",
    "4. if you click on any one of the cells in the Notebook and then the RISE icon, you should be able to see the presentation just as I do while presenting. \n",
    "5. It is not essential if this doesn't work, just a convenience. Do let me know if it doesn't work and you'd like some help."
   ]
  },
  {
   "cell_type": "markdown",
   "metadata": {
    "slideshow": {
     "slide_type": "slide"
    }
   },
   "source": [
    "## A quick detour\n",
    "### what is command prompt/line? \n",
    "- command prompt is a version of MS DOS. it allows us to interact with the computer in the way it was designed to before fancy graphics were possible.\n",
    "- how could this possibly be important?\n",
    "  - well, when software developers don't want to create complex GUI (graphical user interfaces) or they wan to make them useable from other programs, they can make them into command line only programs. \n",
    "  - you can also 'program' .bat files to automatically install programs or to complete automatic operations for you. In our example, PIP (python package installer) installd RISE and all of the packages that RISE needs to run as well!\n",
    "  - other operating systems have command line variants too. in Lunix/MacOS is is known as 'Terminal'. in these operating systems they use a different command language called 'bash'."
   ]
  },
  {
   "cell_type": "markdown",
   "metadata": {
    "slideshow": {
     "slide_type": "slide"
    }
   },
   "source": [
    "### how to use command line\n",
    "1. Open command prompt by navigating to the Windows start menu and typeing in Command Prompt\n",
    "2. once it opens it should look like \n",
    "<p style=\"background:black\">\n",
    "<code style=\"background:black;color:white\">C:\\Users\\YOUR_USERNAME> \n",
    "</code>\n",
    "</p>"
   ]
  },
  {
   "cell_type": "markdown",
   "metadata": {
    "slideshow": {
     "slide_type": "slide"
    }
   },
   "source": [
    "### how to use command line\n",
    "- what this is showing us is that command line is running, and it is currently set to the directory C:\\Users\\YOUR_USERNAME\n",
    "- the way that command prompt works is that it completes whatever command you issue from this directory.\n",
    "- For example\n",
    "  - if we want to know all the files in the current diretory we could use the command \"dir\" for \"list directory\" (on linux/Mac this command is 'ls')\n",
    "\n",
    "<p style=\"background:black\">\n",
    "<code style=\"background:black;color:white\">C:\\Users\\YOUR_USERNAME>dir \n",
    "</code>\n",
    "</p>\n",
    "  "
   ]
  },
  {
   "cell_type": "markdown",
   "metadata": {
    "slideshow": {
     "slide_type": "slide"
    }
   },
   "source": [
    "### how to use command line\n",
    "- there are a lot of different command you could use. so far we have used pip (a program) and dir (a command). \n",
    "   - if you want to change directory, you can use the \"cd\" (change directory) command (same on linux/MacOS).\n",
    "\n",
    "<p style=\"background:black\">\n",
    "<code style=\"background:black;color:white\">C:\\Users\\YOUR_USERNAME>cd Desktop\n",
    "</code>\n",
    "</p>   \n",
    "\n",
    "- this command changes to the sub-directory \"Desktop\" in your user profile. you could use \"dir\" again to see the items on your desktop!\n",
    "- don't worry if this isn't super clear yet, we can revisit later when we need it again. "
   ]
  },
  {
   "cell_type": "markdown",
   "metadata": {
    "slideshow": {
     "slide_type": "slide"
    }
   },
   "source": [
    "# Second, Who are you?\n",
    "![](noun_whois_2077652.png)\n",
    "<!--who is by priyanka from the Noun Project)-->\n",
    "1. Major\n",
    "2. How Many GISci courses\n",
    "3. Coding Background\n",
    "4. Languages"
   ]
  },
  {
   "cell_type": "markdown",
   "metadata": {
    "slideshow": {
     "slide_type": "slide"
    }
   },
   "source": [
    "# And who are we?\n",
    "![](michael_who.JPG)\n",
    "<!-- Please excuse this slide is ripped from GISCI 242 -->\n",
    "- michael.martin@auckland.ac.nz\n",
    "- building 302, office 419"
   ]
  },
  {
   "cell_type": "markdown",
   "metadata": {
    "slideshow": {
     "slide_type": "slide"
    }
   },
   "source": [
    "## Who is Sila?\n",
    "![](sila_who.JPG)\n",
    "<!-- Please excuse this slide is ripped from GISCI 242 -->\n",
    "- katarzyna.sila-nowicka@auckland.ac.nz"
   ]
  },
  {
   "cell_type": "markdown",
   "metadata": {
    "slideshow": {
     "slide_type": "slide"
    }
   },
   "source": [
    "# Class Structure\n",
    "\n",
    "### Group based learning\n",
    "- In GISci 343 we make use of group based learning as much as possible. Through discussion we solidify and challenge our understanding. Plus, it's much more fun than listening to us lecture!\n",
    "\n",
    "### Challenges\n",
    "- Each lecture finishes with a 'challenge problem'. challenges will give you a chance to try out a short, but tough, programming problem with anyone else in your group that is keen to have a go. If you attempt/solve it, you get to demonstrate your solution at the beginning of the next class\n",
    "\n",
    "### Canvas\n",
    "- All content will be posted to Canvas, including lectures and labs. We will endeavour to get our content up 24 hours in advance of class, but may make small changes in the hours leading up to class\n",
    "- Piazza worked well for 242 last year so we will keep pushing forward with that mechanism of incidental communication and support from your fellow students"
   ]
  },
  {
   "cell_type": "markdown",
   "metadata": {
    "slideshow": {
     "slide_type": "slide"
    }
   },
   "source": [
    "# Assessment\n",
    "\n",
    "### 1. Lectures\n",
    "- come to class, __the lectures give you everything you need to complete your labs__ . Skip at your peril. (in person or on zoom)\n",
    "- classes are 1x2hr per week. \n",
    "\n",
    "### 2. Labs: 50%\n",
    "- labs are designed with minimal instruction. *wait, what?!?!* \n",
    "- see above. Our labs follow lecture content, and will give you the freedom to explore these concepts more deeply then we have time in class.\n",
    "- Your tutor is there to help you troubleshoot as you discover on your own.\n",
    "\n",
    "### 3. Project: 30%\n",
    "- much of the class is learning how to __'do stuff'__. As such, we want you to *do* something, *for someone* for your final project in the course. More on this later\n",
    "\n",
    "### 4. Student Led Lecture: 20%\n",
    "- if you have taken GISCI 242 this will be familiar to you. We will assign a group of algorithms to individuals, and then have others watch and come up with questions for these presentations by topic. later we will meet by groups answer these questions and create write-ups."
   ]
  },
  {
   "cell_type": "markdown",
   "metadata": {
    "slideshow": {
     "slide_type": "slide"
    }
   },
   "source": [
    "![](noun_break_2212859.png)\n",
    "<!-- break by ahmad from the Noun Project -->\n",
    "- ask if you have questions during the break"
   ]
  },
  {
   "cell_type": "markdown",
   "metadata": {
    "slideshow": {
     "slide_type": "slide"
    }
   },
   "source": [
    "# Lecture 1 part 2 - Elements of Programming\n",
    "![](noun_hacker_1978313.png)\n",
    "<!-- hacker by ProSymbols from the Noun Project -->"
   ]
  },
  {
   "cell_type": "markdown",
   "metadata": {
    "slideshow": {
     "slide_type": "slide"
    }
   },
   "source": [
    "# What is Programming?\n",
    "- programming is a way to tell computers what you want them to do\n",
    "- its not really more complicated than that. If you can explain it out loud as a set of steps, you can program it.\n",
    "- the advantage of using programming is that it makes complex or repetitive tasks easier to complete in a reasonable amount of time. "
   ]
  },
  {
   "cell_type": "code",
   "execution_count": null,
   "metadata": {},
   "outputs": [],
   "source": [
    "# our first program. Have it welcome a list of classmates to class. \n",
    "# top 10 NZ boy/girl names for european and maori persons in 2020.\n",
    "# https://www.newshub.co.nz/home/lifestyle/2021/01/revealed-new-zealand-s-most-popular-baby-names-for-2020.html\n",
    "\n",
    "import random\n",
    "# ask the computer to say hello to members of the class\n",
    "names = [\"Ava\",\"Lily\",\"Sophie\",\"Ella\",\"Oliver\",\"Jack\",\"Noah\",\"Leo\",\"Lucas\",\"George\",\"Charlie\",\"William\",\"Thomas\",\"Hunter\",\"Mia\",\"Aria\",\"Maia\",\"Amaia\",\"Kora\",\"Kaia\",\"Aroha\",\"Anahera\",\"Tiana\",\"Kaea\",\"Nikau\",\"Manaia\",\"Ari\",\"Mikaere\",\"Koa\",\"Ihaia\",\"Manaaki\",\"Te\",\"Ariki\",\"Taika\",\"Mateo\",\"Wiremu\"]\n",
    "greetings = [\"welcome\",\"hello\",\"greetings\",\"salutations\"]\n",
    "\n",
    "for name in names:\n",
    "    i = random.randint(0,len(greetings)-1) #choose a random greeting\n",
    "    print (greetings[i] + \" \"+name+\" it's nice to meet you\")\n"
   ]
  },
  {
   "cell_type": "markdown",
   "metadata": {
    "slideshow": {
     "slide_type": "slide"
    }
   },
   "source": [
    "# examples of when programs can do things better.\n",
    "1. You want to make an animated map. In ArcMap there is no native way to animate changes in the map surface given small changes of attributes. You could however create animated maps by telling ArcMap to may the change of one step and then render the scene. \n",
    "- example: Michael's disneyworld density map\n",
    "2. you have a model that predicts the top 10 topics of conversation by neighbourhood using social media data. You need to retrieve the posts to the area, compute a model over a number of iterations, then place the labels (words) over the area before moving to the next neighbourhood.\n",
    "- Example: Michael's Social Media Topic Models\n",
    "\n",
    "### both of these tasks could be done by hand, or by button click -- it would be exhausting through!\n"
   ]
  },
  {
   "cell_type": "markdown",
   "metadata": {
    "slideshow": {
     "slide_type": "slide"
    }
   },
   "source": [
    "# languages don't matter, do they?\n",
    "- in a sense, yes, most computer programming languages could probably do a given task.\n",
    "\n",
    "- for example, print a message to the console:\n",
    "\n",
    "1. *Python*: <code>print(\"Hello World\")</code>\n",
    "2. *C#*: <code>console.writeln(\"Hello Word\");</code>\n",
    "3. *Javascript*: <code>console.log(\"Hello Word\");</code>\n",
    "4. *Fortran*: <code>write(*,*) \"Hello World\" end</code>\n",
    "\n",
    "- but, there are important differences in programming languages. while there could be a million ways to classify languages, the two most important are \n",
    "1. level (high and low)\n",
    "  1. high (Javascript and Python)\n",
    "  2. low (C, C++, Assembly, Bytecode)\n",
    "2. purpose\n",
    "  1. Logic [Prolog](https://en.wikipedia.org/wiki/Prolog)\n",
    "  2. Functional [Haskel](https://www.haskell.org/)\n",
    "  3. Statistics [R-lang](https://www.r-project.org/)\n",
    "  4. Fine-Arts [processing](https://p5js.org/examples/interaction-snake-game.html)\n",
    "  5. CPU control [assembly](https://en.wikipedia.org/wiki/MIPS_architecture)\n",
    "  6. Webpage control [javascript](https://www.w3schools.com/js/DEFAULT.asp)\n",
    "\n",
    "#### so where does python come in ?"
   ]
  },
  {
   "cell_type": "markdown",
   "metadata": {
    "slideshow": {
     "slide_type": "slide"
    }
   },
   "source": [
    "# Pseudo-Code and Commenting\n",
    "\n",
    "## Pseudo-code\n",
    "- before we get to writing code, we should probably review how to approach solving a given task\n",
    "- Pseudo-code is a pre-programming language that allows us to first understand how we are going to approach solving a given task, then iterate a potential solution. the benefit of using pseudo code is we can see the potential pitfalls of our approach before we even write a line of code!\n",
    "  - writing pseudo code can be done in multiple levels, from high to low.\n",
    "\n",
    "## Commenting\n",
    "- commenting is a bit like meta-data. it's code *about* code. \n",
    "  - commenting gives us information about how our code works, what it does and how to follow logic\n",
    "  - comments are written intructions to the coder, not the complier (or interpreter)\n",
    "  - comments do not perform actions"
   ]
  },
  {
   "cell_type": "markdown",
   "metadata": {
    "slideshow": {
     "slide_type": "slide"
    }
   },
   "source": [
    "# Pseudo-Code\n",
    "## high level instructions\n",
    "- When writing pseudo-code think in terms of the steps you need to take to solve a given problem.\n",
    "- Pseudo-code has no defined strucutre, but we can use two levels of it for this class\n",
    "\n",
    "### at a high level\n",
    "- for example, how do we make a birthday cake?\n",
    "1. combine flour, eggs, oil, water and baking powder in a bowl\n",
    "2. mix until homogenous\n",
    "3. pour into a greased baking pan, 1 inch high\n",
    "4. put the pan into preheated oven\n",
    "5. bake until a fork comes out clean \n",
    "6. let cool until cake is room temperature\n",
    "7. decorate with frosting, m&ms, and candles\n",
    "8. serve flaming while singing\n",
    "\n"
   ]
  },
  {
   "cell_type": "markdown",
   "metadata": {
    "slideshow": {
     "slide_type": "slide"
    }
   },
   "source": [
    "# Pseudo Code\n",
    "## less-high level instructions\n",
    "- from a basic understanding of the problem, lets try to think more like a program.\n",
    "- design your pseudo code with computer code structures. \n",
    "  - for now, we can use variables, loops and conditionals (if)\n",
    "  - use tab indentation to demonstrate ownership\n",
    " "
   ]
  },
  {
   "cell_type": "code",
   "execution_count": null,
   "metadata": {},
   "outputs": [],
   "source": [
    "'''\n",
    "var ingredients = base ingredients = [eggs, milk, water, oil,sugar,baking powder,flour]\n",
    "var bowl_items = empty array of items in the mixing bowl = []\n",
    "var mixed = if the mix is combined = False\n",
    "var pan = []\n",
    "var oven = items in the oven = []\n",
    "var oven_status = is it on? = False\n",
    "var oven_temp = the current oven temp = 0\n",
    "var target_temp = 175\n",
    "var time_in_oven = 0\n",
    "var fork_out_clean = False\n",
    "\n",
    "\n",
    "1. loop through the ingredient items and add these to the mixing bowl\n",
    "    for item in ingredients:\n",
    "        bowl_items.append(item)\n",
    "\n",
    "2. mix all the elements together until combined\n",
    "    while mixed == false:\n",
    "        assume that each iteration of the loop mixed one item into batter\n",
    "        bowl_items.del(0)\n",
    "\n",
    "        check if there is anything left to mix\n",
    "\n",
    "        if bowl_items.len()==0: \n",
    "            mixed = True\n",
    "\n",
    "3. pre-heat the oven, wait for it to come to temp, add mix to pan, and into the oven.\n",
    "    if oven_status == False:\n",
    "        oven status = True\n",
    "\n",
    "    wait foroven to get to temp\n",
    "    while oven_temp < target_temp:\n",
    "        wait(5) #5 minutes\n",
    "        oven_temp = oven_temp + 1\n",
    "    \n",
    "    add mix to pan\n",
    "    pan.append(mix)\n",
    "    \n",
    "    cook for 30 min then start checking temp\n",
    "    while time_in_oven < 30:\n",
    "        wait(5)\n",
    "        time_in_oven = time_in_oven +5\n",
    "    \n",
    "    check the fork status every 5 min\n",
    "    while fork_out_clean == False:\n",
    "        wait(5)\n",
    "        fork_out_clean=check(pan)\n",
    "\n",
    "4. let the cake cool \n",
    "\n",
    ".....\n",
    "\n",
    "5. decorate\n",
    "....\n",
    "\n",
    "\n",
    "        \n",
    "    \n",
    "\n",
    "'''"
   ]
  },
  {
   "cell_type": "markdown",
   "metadata": {
    "slideshow": {
     "slide_type": "slide"
    }
   },
   "source": [
    "# Code Commenting\n",
    "- getting into the habit of code commenting can be really hard in retrospect. its __*a lot*__ easier if we just get onto the right track at the beginning. \n",
    "- there are lots of way you can comment, but for this class we will use my specific style. you will have marks taken away from your assignments for not using this style!\n",
    "\n",
    "## block comments\n",
    "1. use code blocks to introduce any file, class or method. we will get to classes and methods later in the class\n",
    "<code>\n",
    "    '''-------------------------------\n",
    "    Hello_world.py\n",
    "    Description:\n",
    "        describe the file\n",
    "    input: \n",
    "        whatever you need to start the program, i.e. command line arguments or other files\n",
    "    output: \n",
    "        any resulting fiels the program creates\n",
    "    '''-------------------------------\n",
    "</code>\n",
    "- for methods and classes you replace the input/output with @params/@returns respectively (more in this later)   \n",
    "    "
   ]
  },
  {
   "cell_type": "markdown",
   "metadata": {
    "slideshow": {
     "slide_type": "slide"
    }
   },
   "source": [
    "## inline comments\n",
    "2. inline comments\n",
    "<code>\n",
    "    import random # used for generating a pseud-random number, included with python 3\n",
    "</code>\n",
    "\n",
    "- use inline comments for simple things like variables\n",
    "<code>\n",
    "    # set up variables\n",
    "    names = [\"Priya\",\"Rasoul\"] # Array, sample names to use\n",
    "</code>"
   ]
  },
  {
   "cell_type": "markdown",
   "metadata": {
    "slideshow": {
     "slide_type": "slide"
    }
   },
   "source": [
    "## block of inline comments\n",
    "3. block of inline comments for logic\n",
    "- for showing the logic steps in a complex peice of code\n",
    "<code>\n",
    "    # for loop to create animation for each area in town\n",
    "    # 1. add layers to rendering array\n",
    "    # 2. send array to rendering engine\n",
    "    # 3. use retured variable from render as a frame, save to array as animation frame\n",
    "    # 4. send frames to GIF animator\n",
    "animation frames = []\n",
    "    for place in town:\n",
    "        render_tems=place[1:3] # array slicing... we'll get there\n",
    "        frame = this.render(render_items) # assuming a render method exists in this class\n",
    "        animation_frames.append(frame)\n",
    "    this.make_gif(animation_frames)        \n",
    "</code>"
   ]
  },
  {
   "cell_type": "code",
   "execution_count": null,
   "metadata": {},
   "outputs": [],
   "source": [
    "    ''' ---------------------------\n",
    "    Hello_World.py\n",
    "    \n",
    "    Description:\n",
    "        in this program we welcome each student to class using a list of popular names from the internet\n",
    "            top 10 NZ boy/girl names for european and maori persons in 2020.\n",
    "            https://www.newshub.co.nz/home/lifestyle/2021/01/revealed-new-zealand-s-most-popular-baby-names-for-2020.html\n",
    "    input\n",
    "        none\n",
    "    output\n",
    "        none\n",
    "    --------------------------------'''\n",
    "    \n",
    "    # imported modules\n",
    "    import random # random is included with Python 3 and gives is pseudo random numbers\n",
    "    \n",
    "    # names: a formatted list of names to welcome to class    \n",
    "    names = [\"Ava\",\"Lily\",\"Sophie\",\"Ella\",\"Oliver\",\"Jack\",\"Noah\",\"Leo\",\"Lucas\", \\\n",
    "        \"George\",\"Charlie\",\"William\",\"Thomas\",\"Hunter\",\"Mia\",\"Aria\",\"Maia\",\"Amaia\",\"Kora\",\\\n",
    "        \"Kaia\",\"Aroha\",\"Anahera\",\"Tiana\",\"Kaea\",\"Nikau\",\"Manaia\",\"Ari\",\"Mikaere\",\\\n",
    "        \"Koa\",\"Ihaia\",\"Manaaki\",\"Te\",\"Ariki\",\"Taika\",\"Mateo\",\"Wiremu\"]\n",
    "\n",
    "    \n",
    "    greetings = [\"welcome\",\"hello\",\"greetings\",\"salutations\"] #a short list of greetings we can use\n",
    "    \n",
    "    \n",
    "    #loop through each name, print to screen\n",
    "    # 1. choose a random greeting\n",
    "    # 2. format and print it to screen\n",
    "    for name in names:\n",
    "        \n",
    "        # choose a random greeting using the random module.\n",
    "        # using len(gettings)-1 means I get the number of items in the array (4), and then \n",
    "        # subtract 1 because arrays are addressed starting at 0\n",
    "        i = random.randint(0,len(greetings)-1) \n",
    "        \n",
    "        # format and print a random greeting with each name\n",
    "        print (greetings[i] + \" \"+name+\" it's nice to meet you\")"
   ]
  },
  {
   "cell_type": "markdown",
   "metadata": {
    "slideshow": {
     "slide_type": "slide"
    }
   },
   "source": [
    "# Exercise\n",
    "1. In your groups design __Pseudo-Code__ to solve the __Travelling Salesperson__ problem in exactly 20 steps.\n",
    "2. Design the problem at two levels.\n",
    "- A) at a high level (readable by anyone regardless of computer knowledge)\n",
    "- B) at a lower level to help write a program. Include inputs, loops, conditionals, and variables\n",
    "\n",
    "##### [wiki link to problem](https://en.wikipedia.org/wiki/Travelling_salesman_problem)"
   ]
  },
  {
   "cell_type": "markdown",
   "metadata": {
    "slideshow": {
     "slide_type": "slide"
    }
   },
   "source": [
    "# Challenge Exercise\n",
    "#### by yourself or as a group, design Pseudo Code to accomplish the __Paxster__ problem in no more than 25 steps.\n",
    "\n",
    "- the Paxster problem is the inverse of the Travelling Salesperson. Instead of trying to solve how to reach all destinations in the minimum amount of time, you are trying to cover all streets in a city without (or minimally) crossing over the same street twice\n",
    "- design the solution with level B specificity.\n",
    "\n",
    "- [Example of the Paxster Problem](https://www.youtube.com/watch?v=jy_W5qsjB5U)\n",
    "<!-- <iframe width=\"560\" height=\"315\" src=\"https://www.youtube-nocookie.com/embed/jy_W5qsjB5U\" frameborder=\"0\" allow=\"accelerometer; autoplay; clipboard-write; encrypted-media; gyroscope; picture-in-picture\" allowfullscreen></iframe> -->\n"
   ]
  },
  {
   "cell_type": "code",
   "execution_count": null,
   "metadata": {},
   "outputs": [],
   "source": [
    "from IPython.display import YouTubeVideo\n",
    "\n",
    "YouTubeVideo('jy_W5qsjB5U', width=800, height=300)"
   ]
  }
 ],
 "metadata": {
  "celltoolbar": "Slideshow",
  "kernelspec": {
   "display_name": "Python 3",
   "language": "python",
   "name": "python3"
  },
  "language_info": {
   "codemirror_mode": {
    "name": "ipython",
    "version": 3
   },
   "file_extension": ".py",
   "mimetype": "text/x-python",
   "name": "python",
   "nbconvert_exporter": "python",
   "pygments_lexer": "ipython3",
   "version": "3.7.3"
  }
 },
 "nbformat": 4,
 "nbformat_minor": 2
}
