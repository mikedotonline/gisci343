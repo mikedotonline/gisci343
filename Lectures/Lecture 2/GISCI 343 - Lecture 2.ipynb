{
 "cells": [
  {
   "cell_type": "markdown",
   "metadata": {
    "slideshow": {
     "slide_type": "slide"
    }
   },
   "source": [
    "# We will get started at 5 past the hour"
   ]
  },
  {
   "cell_type": "markdown",
   "metadata": {
    "slideshow": {
     "slide_type": "slide"
    }
   },
   "source": [
    "# Lecture 2 - Data Bootcamp\n",
    "### Getting the goods on understanding data\n",
    "![](images/new_cayuma.JPG)\n",
    "- everything up until pandas we saw in 242, but now we will go a little deeper\n",
    "- obviously we don't have enough time to get into everthing in this class, but we will try to nerd out a little today"
   ]
  },
  {
   "cell_type": "markdown",
   "metadata": {
    "slideshow": {
     "slide_type": "slide"
    }
   },
   "source": [
    "## Basic Data Types and Operations\n",
    "- what is a variable?\n",
    "  - a variable is a location in memory\n",
    "  - python takes care of this for us, on-the-fly and in a way that we never actually see\n",
    "    - but if we take a peak beind the curtain, we can actually see how it actually works"
   ]
  },
  {
   "cell_type": "code",
   "execution_count": 1,
   "metadata": {
    "slideshow": {
     "slide_type": "fragment"
    }
   },
   "outputs": [
    {
     "name": "stdout",
     "output_type": "stream",
     "text": [
      "5 and this variable's physical memory address is 140723029709760\n"
     ]
    }
   ],
   "source": [
    "x = 5\n",
    "print (str(x)+ \" and this variable's physical memory address is \"+str(id(x)))"
   ]
  },
  {
   "cell_type": "markdown",
   "metadata": {
    "slideshow": {
     "slide_type": "slide"
    }
   },
   "source": [
    "- now, this is a good time to talk about _mutability_\n",
    "  - mutability mean that variables can be changed without being erased. \n",
    "  - some types of variables like integers are *immutable*\n",
    "    - this means if we change them, they get a different memory address, and the old memory address gets recycled (thanks python!)"
   ]
  },
  {
   "cell_type": "code",
   "execution_count": 2,
   "metadata": {
    "slideshow": {
     "slide_type": "fragment"
    }
   },
   "outputs": [
    {
     "name": "stdout",
     "output_type": "stream",
     "text": [
      "5 and this variable's physical memory address is 140723029709760\n",
      "hello and this variable's physical memory address is 1757225737440\n"
     ]
    }
   ],
   "source": [
    "y = 5\n",
    "print (str(y)+ \" and this variable's physical memory address is \"+str(id(y)))\n",
    "\n",
    "y = \"hello\"\n",
    "print (y+ \" and this variable's physical memory address is \"+str(id(y)))"
   ]
  },
  {
   "cell_type": "markdown",
   "metadata": {
    "slideshow": {
     "slide_type": "slide"
    }
   },
   "source": [
    "### mutability continued\n",
    "- other variables can be changed in place, these are the mutable types\n",
    "  - these are more complex data types, usually lists of information, dictionaries, data objects, and data frames\n",
    " "
   ]
  },
  {
   "cell_type": "code",
   "execution_count": 3,
   "metadata": {
    "slideshow": {
     "slide_type": "fragment"
    }
   },
   "outputs": [
    {
     "name": "stdout",
     "output_type": "stream",
     "text": [
      "['Hello', 'Goodbye'] and this variables physical memory address is 1757225115400\n",
      "['Hello', 'Goodbye', 'Coriander'] and this variables physical memory address is 1757225115400\n"
     ]
    }
   ],
   "source": [
    "l = [\"Hello\",\"Goodbye\"] # this is an array\n",
    "\n",
    "print (str(l)+ \" and this variables physical memory address is \"+str(id(l)))\n",
    "\n",
    "l.append(\"Coriander\") # add this string to the array!\n",
    "\n",
    "print (str(l)+ \" and this variables physical memory address is \"+str(id(l)))"
   ]
  },
  {
   "cell_type": "markdown",
   "metadata": {
    "slideshow": {
     "slide_type": "slide"
    }
   },
   "source": [
    "- mutability is important because of how memory management works\n",
    "  - you can think about it in terms of the blockchain (Dodgecoin) \n",
    "  - you don't want things to get overwritten\n",
    "  - python does this for us without us seeing, which is great. in other languages you have to do it yourself!\n",
    "    - if you don't use memory management well, you create 'leaks'. this causes the computer to crash!\n",
    "    - in C you would have things called 'pointers' that are variables that track where memory exists. However, it used to be easy to get it wrong, and you could overwrite memory that is crtically important (like the memory that stores where the operating system exists!)\n",
    "  - for us we only need to think about memory if we load data\n",
    "  - lets say you have an array. then you add to it"
   ]
  },
  {
   "cell_type": "code",
   "execution_count": 4,
   "metadata": {
    "slideshow": {
     "slide_type": "slide"
    }
   },
   "outputs": [
    {
     "name": "stdout",
     "output_type": "stream",
     "text": [
      "myArray as bytes:72\n",
      "\tmyArray as kb:0.0703125\n",
      "\tmyArray as mb:6.866455078125e-05\n"
     ]
    }
   ],
   "source": [
    "import sys # a systems command library\n",
    "\n",
    "myArray = [\"hello friends\"] # simple array with one item\n",
    "i =0 # simple integer counter\n",
    "\n",
    "# to make this more understandable\n",
    "byt = sys.getsizeof(myArray)\n",
    "kb = byt/1024 #kilobytes\n",
    "mb = kb/1024 #megabytes\n",
    "\n",
    "# how much memory does this array take up?\n",
    "print(\"myArray as bytes:\"+str(byt)+\"\\n\\tmyArray as kb:\"+str(kb)+\"\\n\\tmyArray as mb:\"+str(mb))"
   ]
  },
  {
   "cell_type": "code",
   "execution_count": 5,
   "metadata": {
    "slideshow": {
     "slide_type": "fragment"
    }
   },
   "outputs": [
    {
     "ename": "KeyboardInterrupt",
     "evalue": "",
     "output_type": "error",
     "traceback": [
      "\u001b[1;31m---------------------------------------------------------------------------\u001b[0m",
      "\u001b[1;31mKeyboardInterrupt\u001b[0m                         Traceback (most recent call last)",
      "\u001b[1;32m<ipython-input-5-9a7d0680ebe9>\u001b[0m in \u001b[0;36m<module>\u001b[1;34m\u001b[0m\n\u001b[0;32m      2\u001b[0m \u001b[0mi\u001b[0m \u001b[1;33m=\u001b[0m\u001b[1;36m0\u001b[0m\u001b[1;33m\u001b[0m\u001b[1;33m\u001b[0m\u001b[0m\n\u001b[0;32m      3\u001b[0m \u001b[1;32mwhile\u001b[0m \u001b[0mi\u001b[0m \u001b[1;33m<\u001b[0m \u001b[1;36m1\u001b[0m\u001b[1;33m:\u001b[0m\u001b[1;33m\u001b[0m\u001b[1;33m\u001b[0m\u001b[0m\n\u001b[1;32m----> 4\u001b[1;33m     \u001b[0mmyArray\u001b[0m\u001b[1;33m.\u001b[0m\u001b[0mappend\u001b[0m\u001b[1;33m(\u001b[0m\u001b[1;34m\"adding item: \"\u001b[0m\u001b[1;33m+\u001b[0m\u001b[0mstr\u001b[0m\u001b[1;33m(\u001b[0m\u001b[0mi\u001b[0m\u001b[1;33m)\u001b[0m\u001b[1;33m)\u001b[0m\u001b[1;33m\u001b[0m\u001b[1;33m\u001b[0m\u001b[0m\n\u001b[0m\u001b[0;32m      5\u001b[0m \u001b[1;31m# what could go wrong ?\u001b[0m\u001b[1;33m\u001b[0m\u001b[1;33m\u001b[0m\u001b[1;33m\u001b[0m\u001b[0m\n\u001b[0;32m      6\u001b[0m \u001b[1;33m\u001b[0m\u001b[0m\n",
      "\u001b[1;31mKeyboardInterrupt\u001b[0m: "
     ]
    }
   ],
   "source": [
    "# lets add some content to this array...\n",
    "i =0\n",
    "while i < 1:\n",
    "    myArray.append(\"adding item: \"+str(i))\n",
    "# what could go wrong ?\n",
    "\n",
    "# use stop button after a bit"
   ]
  },
  {
   "cell_type": "code",
   "execution_count": 6,
   "metadata": {
    "slideshow": {
     "slide_type": "slide"
    }
   },
   "outputs": [
    {
     "name": "stdout",
     "output_type": "stream",
     "text": [
      "54078413\n"
     ]
    }
   ],
   "source": [
    "print(str(len(myArray))) # print out the number of items in the array"
   ]
  },
  {
   "cell_type": "code",
   "execution_count": 7,
   "metadata": {
    "slideshow": {
     "slide_type": "fragment"
    }
   },
   "outputs": [
    {
     "name": "stdout",
     "output_type": "stream",
     "text": [
      "myArray as bytes:486705824\n",
      "\tmyArray as kb:475298.65625\n",
      "\tmyArray as mb:464.1588439941406\n"
     ]
    }
   ],
   "source": [
    "import sys # we don't need to do this again, but in case this cell gets run out of sequence....\n",
    "\n",
    "# to make this more understandable\n",
    "byt = sys.getsizeof(myArray)\n",
    "kb = byt/1024\n",
    "mb = kb/1024\n",
    "\n",
    "print(\"myArray as bytes:\"+str(byt)+\"\\n\\tmyArray as kb:\"+str(kb)+\"\\n\\tmyArray as mb:\"+str(mb))"
   ]
  },
  {
   "cell_type": "markdown",
   "metadata": {
    "slideshow": {
     "slide_type": "fragment"
    }
   },
   "source": [
    "- in sum. memory management matters\n",
    "- mutable variables means we have to be careful about how we load and store data in variables\n",
    "\n",
    "### but wait, what kinds of variables are there ?"
   ]
  },
  {
   "cell_type": "markdown",
   "metadata": {
    "slideshow": {
     "slide_type": "slide"
    }
   },
   "source": [
    "# simple variable types"
   ]
  },
  {
   "cell_type": "markdown",
   "metadata": {
    "slideshow": {
     "slide_type": "fragment"
    }
   },
   "source": [
    "### basic data types and binary storage\n",
    "- int (1,2,3,4)\n",
    "- float (1.1,2.2,3.4)\n",
    "- bool\n",
    "- char/string \"Hello World\"\n"
   ]
  },
  {
   "cell_type": "markdown",
   "metadata": {
    "slideshow": {
     "slide_type": "slide"
    }
   },
   "source": [
    "### int\n",
    "- integer variables are whole numbers"
   ]
  },
  {
   "cell_type": "code",
   "execution_count": 8,
   "metadata": {
    "slideshow": {
     "slide_type": "fragment"
    }
   },
   "outputs": [
    {
     "name": "stdout",
     "output_type": "stream",
     "text": [
      "type of x:int\n",
      "size of x:28\n"
     ]
    }
   ],
   "source": [
    "# here is an int\n",
    "x = 5\n",
    "print(\"type of x:\"+type(x).__name__)\n",
    "print(\"size of x:\"+str(sys.getsizeof(x)))\n"
   ]
  },
  {
   "cell_type": "markdown",
   "metadata": {
    "slideshow": {
     "slide_type": "slide"
    }
   },
   "source": [
    "### float\n",
    "- floating point numbers are numbers with decimal values"
   ]
  },
  {
   "cell_type": "code",
   "execution_count": 9,
   "metadata": {
    "slideshow": {
     "slide_type": "fragment"
    }
   },
   "outputs": [
    {
     "name": "stdout",
     "output_type": "stream",
     "text": [
      "type of x:float\n",
      "size of x:24\n"
     ]
    }
   ],
   "source": [
    "# here is a float\n",
    "y = 555555.533333\n",
    "print(\"type of x:\"+type(y).__name__)\n",
    "print(\"size of x:\"+str(sys.getsizeof(y)))"
   ]
  },
  {
   "cell_type": "markdown",
   "metadata": {
    "slideshow": {
     "slide_type": "slide"
    }
   },
   "source": [
    "### ints are whole numbers. floats are decimal. but what happens when they mix?\n",
    "- when two types of variables mix, it is called casting\n",
    "  - some types of casting are implicit. \n",
    "    - this means that python seeing two type of data and makes a decision on how to match them for us"
   ]
  },
  {
   "cell_type": "code",
   "execution_count": 10,
   "metadata": {
    "slideshow": {
     "slide_type": "fragment"
    }
   },
   "outputs": [
    {
     "name": "stdout",
     "output_type": "stream",
     "text": [
      "1.6666666666666667\n"
     ]
    }
   ],
   "source": [
    "print(str(x/3))"
   ]
  },
  {
   "cell_type": "code",
   "execution_count": 11,
   "metadata": {
    "slideshow": {
     "slide_type": "fragment"
    }
   },
   "outputs": [
    {
     "data": {
      "text/plain": [
       "float"
      ]
     },
     "execution_count": 11,
     "metadata": {},
     "output_type": "execute_result"
    }
   ],
   "source": [
    "y = x/3 #implicit casting\n",
    "type(y)"
   ]
  },
  {
   "cell_type": "code",
   "execution_count": 13,
   "metadata": {
    "slideshow": {
     "slide_type": "fragment"
    }
   },
   "outputs": [
    {
     "data": {
      "text/plain": [
       "1"
      ]
     },
     "execution_count": 13,
     "metadata": {},
     "output_type": "execute_result"
    }
   ],
   "source": [
    "y = int(x/3) #explicit casting\n",
    "type (y)\n",
    "y"
   ]
  },
  {
   "cell_type": "markdown",
   "metadata": {
    "slideshow": {
     "slide_type": "slide"
    }
   },
   "source": [
    "### Bool\n",
    "- boolean variables are only True or false\n",
    "- they are used for conditional statements and flags\n",
    "  - last week we used a boolean flag to set if out cake was done in our pseduocode"
   ]
  },
  {
   "cell_type": "code",
   "execution_count": 14,
   "metadata": {
    "slideshow": {
     "slide_type": "fragment"
    }
   },
   "outputs": [],
   "source": [
    "x = True"
   ]
  },
  {
   "cell_type": "code",
   "execution_count": 15,
   "metadata": {
    "slideshow": {
     "slide_type": "fragment"
    }
   },
   "outputs": [
    {
     "data": {
      "text/plain": [
       "28"
      ]
     },
     "execution_count": 15,
     "metadata": {},
     "output_type": "execute_result"
    }
   ],
   "source": [
    "sys.getsizeof(x)\n",
    "# funny, its about the size of an int...."
   ]
  },
  {
   "cell_type": "markdown",
   "metadata": {
    "slideshow": {
     "slide_type": "slide"
    }
   },
   "source": [
    "### can you cast a boolean?"
   ]
  },
  {
   "cell_type": "code",
   "execution_count": 16,
   "metadata": {
    "slideshow": {
     "slide_type": "fragment"
    }
   },
   "outputs": [
    {
     "data": {
      "text/plain": [
       "1"
      ]
     },
     "execution_count": 16,
     "metadata": {},
     "output_type": "execute_result"
    }
   ],
   "source": [
    "int(x)"
   ]
  },
  {
   "cell_type": "code",
   "execution_count": 17,
   "metadata": {
    "slideshow": {
     "slide_type": "fragment"
    }
   },
   "outputs": [
    {
     "data": {
      "text/plain": [
       "0"
      ]
     },
     "execution_count": 17,
     "metadata": {},
     "output_type": "execute_result"
    }
   ],
   "source": [
    "y = False\n",
    "int(y)"
   ]
  },
  {
   "cell_type": "markdown",
   "metadata": {
    "slideshow": {
     "slide_type": "slide"
    }
   },
   "source": [
    "## what are bool good for?\n",
    "- booleans allow us to test logic\n",
    "- booleans give us the power of conditionals"
   ]
  },
  {
   "cell_type": "code",
   "execution_count": 18,
   "metadata": {
    "slideshow": {
     "slide_type": "fragment"
    }
   },
   "outputs": [
    {
     "data": {
      "text/plain": [
       "True"
      ]
     },
     "execution_count": 18,
     "metadata": {},
     "output_type": "execute_result"
    }
   ],
   "source": [
    "x = 4\n",
    "y = 5\n",
    "x < 5"
   ]
  },
  {
   "cell_type": "markdown",
   "metadata": {
    "slideshow": {
     "slide_type": "fragment"
    }
   },
   "source": [
    "### type of conditionals\n",
    "- there are many forms of conditionals\n",
    "  - Equal to (==)\n",
    "  - NOT (!)\n",
    "  - OR (|) - inclusive\n",
    "  - AND (&) -exclusive\n",
    "  - exclusive OR (^) very exclusive. only if opposite\n",
    "  - Greater Than (>)\n",
    "  - Less Than (<)"
   ]
  },
  {
   "cell_type": "code",
   "execution_count": 19,
   "metadata": {
    "slideshow": {
     "slide_type": "slide"
    }
   },
   "outputs": [
    {
     "data": {
      "text/plain": [
       "False"
      ]
     },
     "execution_count": 19,
     "metadata": {},
     "output_type": "execute_result"
    }
   ],
   "source": [
    "# equal to\n",
    "x = 5\n",
    "y = 4\n",
    "x == y"
   ]
  },
  {
   "cell_type": "code",
   "execution_count": 20,
   "metadata": {
    "slideshow": {
     "slide_type": "fragment"
    }
   },
   "outputs": [
    {
     "name": "stdout",
     "output_type": "stream",
     "text": [
      "False\n",
      "True\n",
      "True\n"
     ]
    }
   ],
   "source": [
    "print(True == False)\n",
    "print(True == True)\n",
    "print(False == False)"
   ]
  },
  {
   "cell_type": "code",
   "execution_count": 21,
   "metadata": {
    "slideshow": {
     "slide_type": "slide"
    }
   },
   "outputs": [
    {
     "name": "stdout",
     "output_type": "stream",
     "text": [
      "True\n"
     ]
    }
   ],
   "source": [
    "# not\n",
    "x = 5\n",
    "y = 4\n",
    "print(x != y)"
   ]
  },
  {
   "cell_type": "code",
   "execution_count": 22,
   "metadata": {
    "slideshow": {
     "slide_type": "fragment"
    }
   },
   "outputs": [
    {
     "name": "stdout",
     "output_type": "stream",
     "text": [
      "True\n",
      "False\n"
     ]
    }
   ],
   "source": [
    "print(True != False)\n",
    "print(True != True)"
   ]
  },
  {
   "cell_type": "code",
   "execution_count": 23,
   "metadata": {
    "slideshow": {
     "slide_type": "slide"
    }
   },
   "outputs": [
    {
     "name": "stdout",
     "output_type": "stream",
     "text": [
      "True\n"
     ]
    }
   ],
   "source": [
    "# or\n",
    "x = True\n",
    "y = False\n",
    "\n",
    "print(x | y)"
   ]
  },
  {
   "cell_type": "code",
   "execution_count": 24,
   "metadata": {
    "slideshow": {
     "slide_type": "fragment"
    }
   },
   "outputs": [
    {
     "name": "stdout",
     "output_type": "stream",
     "text": [
      "True\n",
      "True\n",
      "False\n"
     ]
    }
   ],
   "source": [
    "print(True | False)\n",
    "print(True | True)\n",
    "print(False | False)"
   ]
  },
  {
   "cell_type": "code",
   "execution_count": 27,
   "metadata": {
    "slideshow": {
     "slide_type": "slide"
    }
   },
   "outputs": [
    {
     "name": "stdout",
     "output_type": "stream",
     "text": [
      "False\n",
      "True\n",
      "False\n"
     ]
    }
   ],
   "source": [
    "# and\n",
    "# x & y\n",
    "print(True & False)\n",
    "print(True & True)\n",
    "print(False & False)"
   ]
  },
  {
   "cell_type": "code",
   "execution_count": 26,
   "metadata": {
    "slideshow": {
     "slide_type": "slide"
    }
   },
   "outputs": [
    {
     "name": "stdout",
     "output_type": "stream",
     "text": [
      "False\n",
      "False\n",
      "True\n",
      "True\n"
     ]
    }
   ],
   "source": [
    "print(True ^ True)\n",
    "print(False ^ False)\n",
    "print(True ^ False)\n",
    "print(False ^ True)"
   ]
  },
  {
   "cell_type": "code",
   "execution_count": 28,
   "metadata": {
    "slideshow": {
     "slide_type": "slide"
    }
   },
   "outputs": [
    {
     "data": {
      "text/plain": [
       "True"
      ]
     },
     "execution_count": 28,
     "metadata": {},
     "output_type": "execute_result"
    }
   ],
   "source": [
    "#greater than\n",
    "x > y"
   ]
  },
  {
   "cell_type": "code",
   "execution_count": 31,
   "metadata": {
    "slideshow": {
     "slide_type": "fragment"
    }
   },
   "outputs": [
    {
     "data": {
      "text/plain": [
       "True"
      ]
     },
     "execution_count": 31,
     "metadata": {},
     "output_type": "execute_result"
    }
   ],
   "source": [
    "#less than\n",
    "#x < y\n",
    "\n",
    "x =5\n",
    "y=5\n",
    "x>=y"
   ]
  },
  {
   "cell_type": "markdown",
   "metadata": {
    "slideshow": {
     "slide_type": "slide"
    }
   },
   "source": [
    "### char and strings \n",
    "- generally, chars (characters) are single items 'a' or 'b'\n",
    "- strings are sets of characters 'h','e','l','l','o'\n",
    "- in python, all chars are strings. "
   ]
  },
  {
   "cell_type": "code",
   "execution_count": 32,
   "metadata": {
    "slideshow": {
     "slide_type": "fragment"
    }
   },
   "outputs": [
    {
     "data": {
      "text/plain": [
       "str"
      ]
     },
     "execution_count": 32,
     "metadata": {},
     "output_type": "execute_result"
    }
   ],
   "source": [
    "c = 'h'\n",
    "type(c)"
   ]
  },
  {
   "cell_type": "code",
   "execution_count": 34,
   "metadata": {
    "slideshow": {
     "slide_type": "fragment"
    }
   },
   "outputs": [
    {
     "data": {
      "text/plain": [
       "str"
      ]
     },
     "execution_count": 34,
     "metadata": {},
     "output_type": "execute_result"
    }
   ],
   "source": [
    "c = 'hello'\n",
    "type(c)"
   ]
  },
  {
   "cell_type": "code",
   "execution_count": 35,
   "metadata": {},
   "outputs": [
    {
     "data": {
      "text/plain": [
       "54"
      ]
     },
     "execution_count": 35,
     "metadata": {},
     "output_type": "execute_result"
    }
   ],
   "source": [
    "sys.getsizeof(c)"
   ]
  },
  {
   "cell_type": "markdown",
   "metadata": {
    "slideshow": {
     "slide_type": "slide"
    }
   },
   "source": [
    "### strings have cool properties and methods\n",
    "- for example, we can use strings like they are arrays (more in these in a sec)"
   ]
  },
  {
   "cell_type": "code",
   "execution_count": 36,
   "metadata": {
    "slideshow": {
     "slide_type": "fragment"
    }
   },
   "outputs": [
    {
     "data": {
      "text/plain": [
       "'l'"
      ]
     },
     "execution_count": 36,
     "metadata": {},
     "output_type": "execute_result"
    }
   ],
   "source": [
    "#here is a protery of the string c\n",
    "c = 'hello'\n",
    "c[3]"
   ]
  },
  {
   "cell_type": "code",
   "execution_count": 37,
   "metadata": {
    "slideshow": {
     "slide_type": "fragment"
    }
   },
   "outputs": [
    {
     "data": {
      "text/plain": [
       "'Hello Michael'"
      ]
     },
     "execution_count": 37,
     "metadata": {},
     "output_type": "execute_result"
    }
   ],
   "source": [
    "# we could also add two strings together\n",
    "strA = \"Hello\"\n",
    "strB = \" Michael\"\n",
    "strA+strB"
   ]
  },
  {
   "cell_type": "code",
   "execution_count": 40,
   "metadata": {
    "slideshow": {
     "slide_type": "fragment"
    }
   },
   "outputs": [
    {
     "data": {
      "text/plain": [
       "2"
      ]
     },
     "execution_count": 40,
     "metadata": {},
     "output_type": "execute_result"
    }
   ],
   "source": [
    "# here is a method we can call upon for var (variable) c \n",
    "# c.upper()\n",
    "\n",
    "#strings have lots of method/functions we can call\n",
    "# for more of these, check out:\n",
    "# c.capitalize()\n",
    "c.count('l') "
   ]
  },
  {
   "cell_type": "markdown",
   "metadata": {
    "slideshow": {
     "slide_type": "slide"
    }
   },
   "source": [
    "## lastly for now, escape sequences\n",
    "- escape sequences are how we are able to print out spceial items in a string\n",
    "- for example, how can you tell python to print items on a new line? how can you use a tab?\n",
    "- escape sequences are string modifiers. the usually begin with a \"\\\\\" and then a letter\n",
    "  - a new line is \\\\n and a tab is \\\\t"
   ]
  },
  {
   "cell_type": "code",
   "execution_count": 42,
   "metadata": {
    "slideshow": {
     "slide_type": "fragment"
    }
   },
   "outputs": [
    {
     "name": "stdout",
     "output_type": "stream",
     "text": [
      "hello \n",
      "how are you\n"
     ]
    }
   ],
   "source": [
    "strA = 'hello \\nhow are you'\n",
    "print(strA)"
   ]
  },
  {
   "cell_type": "code",
   "execution_count": 43,
   "metadata": {
    "slideshow": {
     "slide_type": "fragment"
    }
   },
   "outputs": [
    {
     "name": "stdout",
     "output_type": "stream",
     "text": [
      "table layout \n",
      "1 \t2 \t3\n",
      "4 \t5 \t6\n",
      "7\t8\t9\n"
     ]
    }
   ],
   "source": [
    "strB = \"table layout \\n1 \\t2 \\t3\\n4 \\t5 \\t6\\n7\\t8\\t9\"\n",
    "print(strB)"
   ]
  },
  {
   "cell_type": "markdown",
   "metadata": {
    "slideshow": {
     "slide_type": "slide"
    }
   },
   "source": [
    "### but how do i print out an escape sequence?\n",
    "- add another \"\\\\\""
   ]
  },
  {
   "cell_type": "code",
   "execution_count": 44,
   "metadata": {
    "slideshow": {
     "slide_type": "fragment"
    }
   },
   "outputs": [
    {
     "name": "stdout",
     "output_type": "stream",
     "text": [
      "escape sequences are cool the the new line (\\n) and tab (\\t) escape \n",
      "\t see?\n",
      "\t\t...\n",
      "\t\t\t...\n"
     ]
    }
   ],
   "source": [
    "strC = \"escape sequences are cool the the new line (\\\\n) and tab (\\\\t) escape \\n\\t see?\\n\\t\\t...\\n\\t\\t\\t...\"\n",
    "print(strC)"
   ]
  },
  {
   "cell_type": "markdown",
   "metadata": {
    "slideshow": {
     "slide_type": "slide"
    }
   },
   "source": [
    "### string casting\n",
    "- can you store the letter \"s\" on the hard disk?"
   ]
  },
  {
   "cell_type": "markdown",
   "metadata": {
    "slideshow": {
     "slide_type": "fragment"
    }
   },
   "source": [
    "- can you store the number 5 on the hard disk?"
   ]
  },
  {
   "cell_type": "markdown",
   "metadata": {
    "slideshow": {
     "slide_type": "fragment"
    }
   },
   "source": [
    "- if you can't store these letters and numbers, how are they stored?"
   ]
  },
  {
   "cell_type": "markdown",
   "metadata": {
    "slideshow": {
     "slide_type": "slide"
    }
   },
   "source": [
    "- strings are 'encoded' into memory\n",
    "  - and different era's of computing used different kinds of encoding. \n",
    "  - early encoding was ASCII\n",
    "    - ascii gave us 256 values (8 bytes) to work with\n",
    "    "
   ]
  },
  {
   "cell_type": "markdown",
   "metadata": {
    "slideshow": {
     "slide_type": "fragment"
    }
   },
   "source": [
    "![](images/ascii_chart.jpg)"
   ]
  },
  {
   "cell_type": "markdown",
   "metadata": {
    "slideshow": {
     "slide_type": "slide"
    }
   },
   "source": [
    "### there are different types of encoding out there\n",
    "- ascii worked for a while\n",
    "- see:ascii art\n"
   ]
  },
  {
   "cell_type": "markdown",
   "metadata": {
    "slideshow": {
     "slide_type": "fragment"
    }
   },
   "source": [
    "![](images/Roflcopter.gif)\n",
    "- courtesy wikipedia: https://en.wikipedia.org/wiki/ASCII_art"
   ]
  },
  {
   "cell_type": "markdown",
   "metadata": {
    "slideshow": {
     "slide_type": "slide"
    }
   },
   "source": [
    "### clearly 256 characters isn't going to cut it.\n",
    "- more often now, we use unicode\n",
    "  - unicode has multiple types of encoding for character sets (english and arabic for example)\n",
    "  - unicode increases the size of characters from 256 to 143,859\n",
    "    - see:https://en.wikipedia.org/wiki/Unicode\n",
    "  - this matters because if you try display a string in one encoding type and it is another, you will have trouble"
   ]
  },
  {
   "cell_type": "code",
   "execution_count": 45,
   "metadata": {
    "slideshow": {
     "slide_type": "fragment"
    }
   },
   "outputs": [
    {
     "name": "stdout",
     "output_type": "stream",
     "text": [
      "b'\\xf0\\x9f\\x96\\x90'\n"
     ]
    }
   ],
   "source": [
    "# let s be a string we want to convert to unicode character\n",
    "s = \"\\U0001F590\".encode(\"UTF-8\")\n",
    "print(s)"
   ]
  },
  {
   "cell_type": "code",
   "execution_count": 46,
   "metadata": {
    "slideshow": {
     "slide_type": "fragment"
    }
   },
   "outputs": [
    {
     "name": "stdout",
     "output_type": "stream",
     "text": [
      "🖐\n"
     ]
    }
   ],
   "source": [
    "# okay, now decode the value again\n",
    "print(s.decode())"
   ]
  },
  {
   "cell_type": "markdown",
   "metadata": {
    "slideshow": {
     "slide_type": "slide"
    }
   },
   "source": [
    "## Arrays\n",
    "- arrays are lists of data\n",
    "- we have already seen them a couple times\n",
    "  - we saw them in 242 last year of course\n",
    "  - but we also saw them in lecture 1 with our names example, and today with strings\n",
    "- arrays are a fantastically lightweight way to store information"
   ]
  },
  {
   "cell_type": "code",
   "execution_count": 47,
   "metadata": {
    "slideshow": {
     "slide_type": "fragment"
    }
   },
   "outputs": [
    {
     "data": {
      "text/plain": [
       "['Anderson, Matthew',\n",
       " 'Barclay, Amy',\n",
       " 'Franklyn, Josh',\n",
       " 'Hong, Henry',\n",
       " 'Jodinata, Dominicus',\n",
       " 'Jovner, Georgi',\n",
       " 'Kolston, Sophie',\n",
       " 'Lee, Jonathon',\n",
       " 'Lee, Justin',\n",
       " 'Lewis, Cody',\n",
       " 'Lim-Yip, Alyssandra',\n",
       " 'Lin, Xizhe',\n",
       " 'Machado da',\n",
       " 'Cruz, Jenna',\n",
       " 'McKay, Ben',\n",
       " 'Mead, Alexander',\n",
       " 'Milliken, Thomas',\n",
       " 'Mukherjee, Shalini',\n",
       " 'Narayan, Kaveesh',\n",
       " 'Parsons, Thomas',\n",
       " 'Patel, Dex',\n",
       " 'Pedersen, Danielle',\n",
       " 'Richardson, Joshua',\n",
       " 'Sakik, Saima',\n",
       " 'Smith, Bella',\n",
       " 'Tenedero, Julia',\n",
       " 'Ware, Charli',\n",
       " 'Webster, Lucy']"
      ]
     },
     "execution_count": 47,
     "metadata": {},
     "output_type": "execute_result"
    }
   ],
   "source": [
    "names = [\"Anderson, Matthew\",\"Barclay, Amy\",\"Franklyn, Josh\",\"Hong, Henry\",\n",
    "         \"Jodinata, Dominicus\",\"Jovner, Georgi\",\"Kolston, Sophie\",\"Lee, Jonathon\",\n",
    "         \"Lee, Justin\",\"Lewis, Cody\",\"Lim-Yip, Alyssandra\",\"Lin, Xizhe\",\"Machado da\",\n",
    "         \"Cruz, Jenna\",\"McKay, Ben\",\"Mead, Alexander\",\"Milliken, Thomas\",\"Mukherjee, Shalini\",\n",
    "         \"Narayan, Kaveesh\",\"Parsons, Thomas\",\"Patel, Dex\",\"Pedersen, Danielle\",\"Richardson, Joshua\",\n",
    "         \"Sakik, Saima\",\"Smith, Bella\",\"Tenedero, Julia\",\"Ware, Charli\",\"Webster, Lucy\"]\n",
    "names"
   ]
  },
  {
   "cell_type": "markdown",
   "metadata": {
    "slideshow": {
     "slide_type": "slide"
    }
   },
   "source": [
    "- arrays are indexed\n",
    "  - the index starts at 0\n",
    "  - for the array \\[\"hello\",\"hi\",\"gidday\"\\]\n",
    "    - hello is index 0\n",
    "    - hi is index 1\n",
    "    - gidday is index 2\n",
    "  - but the length of the array is 3\n",
    "  - indexes are denoted by the \\[\\] characters"
   ]
  },
  {
   "cell_type": "code",
   "execution_count": 61,
   "metadata": {
    "slideshow": {
     "slide_type": "fragment"
    }
   },
   "outputs": [
    {
     "data": {
      "text/plain": [
       "'hello'"
      ]
     },
     "execution_count": 61,
     "metadata": {},
     "output_type": "execute_result"
    }
   ],
   "source": [
    "arr = [\"hello\",\"hi\",\"gidday\"]\n",
    "arr[0]"
   ]
  },
  {
   "cell_type": "code",
   "execution_count": 70,
   "metadata": {
    "slideshow": {
     "slide_type": "fragment"
    }
   },
   "outputs": [
    {
     "data": {
      "text/plain": [
       "'y'"
      ]
     },
     "execution_count": 70,
     "metadata": {},
     "output_type": "execute_result"
    }
   ],
   "source": [
    "# arr[len(arr)-1][len(arr[len(arr)-1]          \n",
    "i = arr[len(arr)-1]\n",
    "i[len(i)-1]\n",
    "\n",
    "#arr[len(arr)-1][len(arr[len(arr)-1])-1]\n",
    "arr[-1][-1]\n"
   ]
  },
  {
   "cell_type": "code",
   "execution_count": 50,
   "metadata": {
    "slideshow": {
     "slide_type": "fragment"
    }
   },
   "outputs": [
    {
     "ename": "IndexError",
     "evalue": "list index out of range",
     "output_type": "error",
     "traceback": [
      "\u001b[1;31m---------------------------------------------------------------------------\u001b[0m",
      "\u001b[1;31mIndexError\u001b[0m                                Traceback (most recent call last)",
      "\u001b[1;32m<ipython-input-50-522d7818859e>\u001b[0m in \u001b[0;36m<module>\u001b[1;34m\u001b[0m\n\u001b[1;32m----> 1\u001b[1;33m \u001b[0marr\u001b[0m\u001b[1;33m[\u001b[0m\u001b[1;36m3\u001b[0m\u001b[1;33m]\u001b[0m\u001b[1;33m\u001b[0m\u001b[1;33m\u001b[0m\u001b[0m\n\u001b[0m",
      "\u001b[1;31mIndexError\u001b[0m: list index out of range"
     ]
    }
   ],
   "source": [
    "arr[3]"
   ]
  },
  {
   "cell_type": "markdown",
   "metadata": {
    "slideshow": {
     "slide_type": "slide"
    }
   },
   "source": [
    "## arrays are lists of anything. including lists\n",
    "- this is where arrays really get useful\n",
    "- arrays are just collections of variables\n",
    "- you can mix variable types in arrays. I don't recommend it."
   ]
  },
  {
   "cell_type": "code",
   "execution_count": 53,
   "metadata": {
    "slideshow": {
     "slide_type": "fragment"
    }
   },
   "outputs": [
    {
     "ename": "TypeError",
     "evalue": "unsupported operand type(s) for +: 'int' and 'str'",
     "output_type": "error",
     "traceback": [
      "\u001b[1;31m---------------------------------------------------------------------------\u001b[0m",
      "\u001b[1;31mTypeError\u001b[0m                                 Traceback (most recent call last)",
      "\u001b[1;32m<ipython-input-53-8410ced25973>\u001b[0m in \u001b[0;36m<module>\u001b[1;34m\u001b[0m\n\u001b[0;32m      1\u001b[0m \u001b[0marr\u001b[0m \u001b[1;33m=\u001b[0m \u001b[1;33m[\u001b[0m\u001b[1;34m'hello'\u001b[0m\u001b[1;33m,\u001b[0m\u001b[1;36m3\u001b[0m\u001b[1;33m,\u001b[0m\u001b[1;32mTrue\u001b[0m\u001b[1;33m]\u001b[0m\u001b[1;33m\u001b[0m\u001b[1;33m\u001b[0m\u001b[0m\n\u001b[1;32m----> 2\u001b[1;33m \u001b[0msum\u001b[0m\u001b[1;33m(\u001b[0m\u001b[0marr\u001b[0m\u001b[1;33m)\u001b[0m\u001b[1;33m\u001b[0m\u001b[1;33m\u001b[0m\u001b[0m\n\u001b[0m",
      "\u001b[1;31mTypeError\u001b[0m: unsupported operand type(s) for +: 'int' and 'str'"
     ]
    }
   ],
   "source": [
    "arr = ['hello',3,True]\n",
    "sum(arr)"
   ]
  },
  {
   "cell_type": "code",
   "execution_count": 54,
   "metadata": {
    "slideshow": {
     "slide_type": "fragment"
    }
   },
   "outputs": [
    {
     "data": {
      "text/plain": [
       "12"
      ]
     },
     "execution_count": 54,
     "metadata": {},
     "output_type": "execute_result"
    }
   ],
   "source": [
    "arr = [3,4,5]\n",
    "sum(arr)"
   ]
  },
  {
   "cell_type": "markdown",
   "metadata": {
    "slideshow": {
     "slide_type": "slide"
    }
   },
   "source": [
    "## arrays can have arrays as items\n",
    "- this is called a multi dimensional array"
   ]
  },
  {
   "cell_type": "code",
   "execution_count": 55,
   "metadata": {
    "slideshow": {
     "slide_type": "fragment"
    }
   },
   "outputs": [
    {
     "data": {
      "text/plain": [
       "[1, 2, [1, 2]]"
      ]
     },
     "execution_count": 55,
     "metadata": {},
     "output_type": "execute_result"
    }
   ],
   "source": [
    "arr = [1,2]\n",
    "arr2= [1,2,arr]\n",
    "arr2"
   ]
  },
  {
   "cell_type": "markdown",
   "metadata": {
    "slideshow": {
     "slide_type": "fragment"
    }
   },
   "source": [
    "- a better idea is to make your dimensions consistent\n",
    "  - this way you know you can expect elements in specific places. later in the course we are likely to have pretty crazy arrays, this will help a lot!"
   ]
  },
  {
   "cell_type": "code",
   "execution_count": 56,
   "metadata": {
    "slideshow": {
     "slide_type": "fragment"
    }
   },
   "outputs": [
    {
     "data": {
      "text/plain": [
       "[[1, 2, 3], [4, 5, 6], [7, 8, 9]]"
      ]
     },
     "execution_count": 56,
     "metadata": {},
     "output_type": "execute_result"
    }
   ],
   "source": [
    "arr = [[1,2,3],[4,5,6],[7,8,9]]\n",
    "arr"
   ]
  },
  {
   "cell_type": "code",
   "execution_count": null,
   "metadata": {
    "slideshow": {
     "slide_type": "fragment"
    }
   },
   "outputs": [],
   "source": [
    "#is the same as \n",
    "arr = [[1,2,3],\n",
    "       [4,5,6],\n",
    "       [7,8,9]]"
   ]
  },
  {
   "cell_type": "markdown",
   "metadata": {},
   "source": [
    "### arrays have a couple interesting functions you'll use regularly\n",
    "- len() is the number of items in an array\n",
    "- append() adds a new item to the array"
   ]
  },
  {
   "cell_type": "markdown",
   "metadata": {
    "slideshow": {
     "slide_type": "slide"
    }
   },
   "source": [
    "# Break!\n"
   ]
  },
  {
   "cell_type": "markdown",
   "metadata": {
    "slideshow": {
     "slide_type": "slide"
    }
   },
   "source": [
    "# patterns. if and loops\n",
    "- if, for, and while\n",
    "  - these basic patterns get used over and over and over in programming. they allow us to process data relative to what we epect to see, and what we don't expect to see\n",
    "  - introducing if, for, and while introduces us to encapulation and tab-indentation\n",
    "    - anything that is tab-indented in something else belongs to it.\n",
    "    \n",
    "    \n",
    "- IF I GO TO THE STORE\n",
    "  - THEN I SHOULD DO THIS THING\n",
    "- OTHERWISE\n",
    "  - DO THIS OTHER THING\n",
    "  - OH AND THIS OTHER THING TOO"
   ]
  },
  {
   "cell_type": "markdown",
   "metadata": {
    "slideshow": {
     "slide_type": "slide"
    }
   },
   "source": [
    "### if\n",
    "- if is what changes the program flow based on data\n",
    "- there are three types of statements that we can use with if statements\n",
    "  - if, else if,else\n",
    "- if statements are where boolean logic starts to get useful\n",
    "  - if the logic is true, do this\n",
    "  - else if, the logic is slightly different and true, do this\n",
    "  - else, well fall back to this final thing"
   ]
  },
  {
   "cell_type": "code",
   "execution_count": 71,
   "metadata": {
    "slideshow": {
     "slide_type": "fragment"
    }
   },
   "outputs": [
    {
     "name": "stdout",
     "output_type": "stream",
     "text": [
      "1 is less than 2\n"
     ]
    }
   ],
   "source": [
    "# if\n",
    "x = 1\n",
    "y = 2\n",
    "\n",
    "if (x < y):\n",
    "    print(str(x)+\" is less than \"+str(y))"
   ]
  },
  {
   "cell_type": "code",
   "execution_count": 72,
   "metadata": {
    "slideshow": {
     "slide_type": "slide"
    }
   },
   "outputs": [
    {
     "name": "stdout",
     "output_type": "stream",
     "text": [
      "you are the teaching leading this lecture\n"
     ]
    }
   ],
   "source": [
    "# if-else\n",
    "name = \"Michael Martin\"\n",
    "\n",
    "if (name == \"Michael Martin\"):\n",
    "    print(\"you are the teaching leading this lecture\")\n",
    "else: \n",
    "    print (\"you could be a teacher or a student\")"
   ]
  },
  {
   "cell_type": "code",
   "execution_count": 74,
   "metadata": {
    "slideshow": {
     "slide_type": "fragment"
    }
   },
   "outputs": [
    {
     "name": "stdout",
     "output_type": "stream",
     "text": [
      "you are a tutor\n"
     ]
    }
   ],
   "source": [
    "# if-elif-else\n",
    "name = \"Amber\"\n",
    "# name = \"Sila\"\n",
    "# name = \"some other name\"\n",
    "\n",
    "if (name == \"Michael Martin\"):\n",
    "    print(\"you are the teacher leading this lecture\")\n",
    "elif (name == \"Sila\"): \n",
    "    print (\"ah, ok, you are also a teacher\")\n",
    "elif(name==\"Amber\"):\n",
    "    print(\"you are a tutor\")\n",
    "else:\n",
    "    print(\"you are not Michael or Sila, you must be a student\")"
   ]
  },
  {
   "cell_type": "markdown",
   "metadata": {
    "slideshow": {
     "slide_type": "slide"
    }
   },
   "source": [
    "### for loop\n",
    "- in python, for loops allow us to iterate through 'iterable' items\n",
    "  - yes that is confusing, but it really means anything that has sub-items in it\n",
    "  - an array is an iterable item"
   ]
  },
  {
   "cell_type": "code",
   "execution_count": 75,
   "metadata": {
    "slideshow": {
     "slide_type": "fragment"
    }
   },
   "outputs": [
    {
     "name": "stdout",
     "output_type": "stream",
     "text": [
      "item:1\n",
      "item:2\n",
      "item:3\n"
     ]
    }
   ],
   "source": [
    "# for loop\n",
    "arr = [1,2,3]\n",
    "\n",
    "# for an item 'i' in the array 'arr'\n",
    "for i in arr:\n",
    "    print (\"item:\"+str(i)) # print out the current item"
   ]
  },
  {
   "cell_type": "markdown",
   "metadata": {
    "slideshow": {
     "slide_type": "fragment"
    }
   },
   "source": [
    "- the for loop is deceptively useful. \n",
    "  - you could use it to go through every polygon in a shapefile, for example"
   ]
  },
  {
   "cell_type": "markdown",
   "metadata": {
    "slideshow": {
     "slide_type": "slide"
    }
   },
   "source": [
    "### while loop\n",
    "- while loops are like if statements, but far more dangerous.\n",
    "  - remember at the beignning of this class when we intentionally made a memory leak? \n",
    "  - imagine that, but you have no idea how you did it\n",
    "  - that is what while loops do. "
   ]
  },
  {
   "cell_type": "code",
   "execution_count": null,
   "metadata": {
    "slideshow": {
     "slide_type": "fragment"
    }
   },
   "outputs": [],
   "source": [
    "# while loops evaluate a condition at the top of every iteration\n",
    "# they continue until that condition evaluates to false\n",
    "while (true):\n",
    "    print(\"this loop will never end\")"
   ]
  },
  {
   "cell_type": "markdown",
   "metadata": {
    "slideshow": {
     "slide_type": "slide"
    }
   },
   "source": [
    "- while loops are good if you have a non-iterable set of items that you need to get through\n",
    "- for example, you just want your array to count to 10"
   ]
  },
  {
   "cell_type": "code",
   "execution_count": 77,
   "metadata": {
    "slideshow": {
     "slide_type": "fragment"
    }
   },
   "outputs": [
    {
     "name": "stdout",
     "output_type": "stream",
     "text": [
      "i equals:1\n",
      "i equals:2\n",
      "i equals:3\n",
      "i equals:4\n",
      "i equals:5\n",
      "i equals:6\n",
      "i equals:7\n",
      "i equals:8\n",
      "i equals:9\n",
      "i equals:10\n",
      "i equals:11\n"
     ]
    }
   ],
   "source": [
    "# a simple loop to count to 10\n",
    "\n",
    "i = 0 # this is called a counter\n",
    "while (i<=10): # keep going until i > 10\n",
    "    \n",
    "    i = i+1 # increment counter by 1\n",
    "    print(\"i equals:\"+str(i)) \n",
    "    \n",
    "# what if we wanted it to actually go until it print i=10?"
   ]
  },
  {
   "cell_type": "code",
   "execution_count": null,
   "metadata": {},
   "outputs": [],
   "source": []
  },
  {
   "cell_type": "markdown",
   "metadata": {
    "slideshow": {
     "slide_type": "slide"
    }
   },
   "source": [
    "# Moving on to more complex data types\n",
    "\n",
    "- one last thing. Pandas.\n",
    "\n",
    "![](images/panda.jpeg)\n"
   ]
  },
  {
   "cell_type": "markdown",
   "metadata": {
    "slideshow": {
     "slide_type": "slide"
    }
   },
   "source": [
    "## Pandas\n",
    "![](images/pandas_logo.jpg)\n",
    "\n",
    "- for real though, what is pandas?\n",
    "  - pandas is a _very_ powerful data handling and processing library for python. \n",
    "  - it has a blazing fast ability to load and save data from a wide variety of formats (csv,json,excel, etc)\n",
    "  - it can transform data very quickly, too.\n",
    "- ok, how do I get it?\n",
    "  - run command prompt from anaconda\n",
    "    - if you forget how, have a look at last week's lecture :)\n",
    "  - type: pip install pandas"
   ]
  },
  {
   "cell_type": "markdown",
   "metadata": {
    "slideshow": {
     "slide_type": "slide"
    }
   },
   "source": [
    "### Introducing, the dataframe\n",
    "- pandas is all organized around a concept called a DataFrame\n",
    "- the dataframe is like a crazzzzzzzy powerful 2D array\n",
    "- pandas brings data transformation, statistical analys, and plotting/visualization directly to you\n",
    "![](images/pandas_dataframe.jpg)"
   ]
  },
  {
   "cell_type": "code",
   "execution_count": 87,
   "metadata": {
    "slideshow": {
     "slide_type": "slide"
    }
   },
   "outputs": [
    {
     "data": {
      "text/html": [
       "<div>\n",
       "<style scoped>\n",
       "    .dataframe tbody tr th:only-of-type {\n",
       "        vertical-align: middle;\n",
       "    }\n",
       "\n",
       "    .dataframe tbody tr th {\n",
       "        vertical-align: top;\n",
       "    }\n",
       "\n",
       "    .dataframe thead th {\n",
       "        text-align: right;\n",
       "    }\n",
       "</style>\n",
       "<table border=\"1\" class=\"dataframe\">\n",
       "  <thead>\n",
       "    <tr style=\"text-align: right;\">\n",
       "      <th></th>\n",
       "      <th>Name</th>\n",
       "      <th>Sex</th>\n",
       "      <th>Age</th>\n",
       "    </tr>\n",
       "  </thead>\n",
       "  <tbody>\n",
       "    <tr>\n",
       "      <th>0</th>\n",
       "      <td>Braund, Mr. Owen Harris</td>\n",
       "      <td>male</td>\n",
       "      <td>22</td>\n",
       "    </tr>\n",
       "    <tr>\n",
       "      <th>1</th>\n",
       "      <td>Allen, Mr. William Henry</td>\n",
       "      <td>male</td>\n",
       "      <td>35</td>\n",
       "    </tr>\n",
       "    <tr>\n",
       "      <th>2</th>\n",
       "      <td>Bonnell, Miss. Elizabeth</td>\n",
       "      <td>female</td>\n",
       "      <td>58</td>\n",
       "    </tr>\n",
       "  </tbody>\n",
       "</table>\n",
       "</div>"
      ],
      "text/plain": [
       "                       Name     Sex  Age\n",
       "0   Braund, Mr. Owen Harris    male   22\n",
       "1  Allen, Mr. William Henry    male   35\n",
       "2  Bonnell, Miss. Elizabeth  female   58"
      ]
     },
     "execution_count": 87,
     "metadata": {},
     "output_type": "execute_result"
    }
   ],
   "source": [
    "# to get started, we need to import the pandas library\n",
    "# if you get lost in class today, I highly recommend the pandas website\n",
    "# the tutorials on the site are excellent!\n",
    "# https://pandas.pydata.org/docs/getting_started\n",
    "import pandas as pd\n",
    "\n",
    "# to make a dataframe we can easily construct one ourselves\n",
    "#creating a DataFrame using a dictionary\n",
    "# we haven't covered dictionaries in detail yet, but we will be next week\n",
    "# for now, all you need to know is that a dictionary is a \n",
    "# type of data strcutre that stores information as \"key\":\"value\" pairs\n",
    "# and like arrays the \"value\" can be any tpye of data, like in this case, an array\n",
    "df = pd.DataFrame(\n",
    "    {\n",
    "        \"Name\":[\n",
    "            \"Braund, Mr. Owen Harris\",\n",
    "            \"Allen, Mr. William Henry\",\n",
    "            \"Bonnell, Miss. Elizabeth\",\n",
    "        ],\n",
    "        \n",
    "        \"Sex\": [\"male\", \"male\", \"female\"],\n",
    "        \"Age\": [22, 35, 58],\n",
    "    })\n",
    "df\n",
    "\n"
   ]
  },
  {
   "cell_type": "markdown",
   "metadata": {
    "slideshow": {
     "slide_type": "slide"
    }
   },
   "source": [
    "### query the table, asking for a single column of information\n",
    "- in pandas, a column is a 'series'"
   ]
  },
  {
   "cell_type": "code",
   "execution_count": 79,
   "metadata": {
    "slideshow": {
     "slide_type": "fragment"
    }
   },
   "outputs": [
    {
     "data": {
      "text/plain": [
       "0    22\n",
       "1    35\n",
       "2    58\n",
       "Name: Age, dtype: int64"
      ]
     },
     "execution_count": 79,
     "metadata": {},
     "output_type": "execute_result"
    }
   ],
   "source": [
    "# get a series (column) of data\n",
    "df[\"Age\"]"
   ]
  },
  {
   "cell_type": "markdown",
   "metadata": {
    "slideshow": {
     "slide_type": "slide"
    }
   },
   "source": [
    "### pandas make summarizing data easy"
   ]
  },
  {
   "cell_type": "code",
   "execution_count": 80,
   "metadata": {
    "slideshow": {
     "slide_type": "fragment"
    }
   },
   "outputs": [
    {
     "data": {
      "text/html": [
       "<div>\n",
       "<style scoped>\n",
       "    .dataframe tbody tr th:only-of-type {\n",
       "        vertical-align: middle;\n",
       "    }\n",
       "\n",
       "    .dataframe tbody tr th {\n",
       "        vertical-align: top;\n",
       "    }\n",
       "\n",
       "    .dataframe thead th {\n",
       "        text-align: right;\n",
       "    }\n",
       "</style>\n",
       "<table border=\"1\" class=\"dataframe\">\n",
       "  <thead>\n",
       "    <tr style=\"text-align: right;\">\n",
       "      <th></th>\n",
       "      <th>Age</th>\n",
       "    </tr>\n",
       "  </thead>\n",
       "  <tbody>\n",
       "    <tr>\n",
       "      <th>count</th>\n",
       "      <td>3.000000</td>\n",
       "    </tr>\n",
       "    <tr>\n",
       "      <th>mean</th>\n",
       "      <td>38.333333</td>\n",
       "    </tr>\n",
       "    <tr>\n",
       "      <th>std</th>\n",
       "      <td>18.230012</td>\n",
       "    </tr>\n",
       "    <tr>\n",
       "      <th>min</th>\n",
       "      <td>22.000000</td>\n",
       "    </tr>\n",
       "    <tr>\n",
       "      <th>25%</th>\n",
       "      <td>28.500000</td>\n",
       "    </tr>\n",
       "    <tr>\n",
       "      <th>50%</th>\n",
       "      <td>35.000000</td>\n",
       "    </tr>\n",
       "    <tr>\n",
       "      <th>75%</th>\n",
       "      <td>46.500000</td>\n",
       "    </tr>\n",
       "    <tr>\n",
       "      <th>max</th>\n",
       "      <td>58.000000</td>\n",
       "    </tr>\n",
       "  </tbody>\n",
       "</table>\n",
       "</div>"
      ],
      "text/plain": [
       "             Age\n",
       "count   3.000000\n",
       "mean   38.333333\n",
       "std    18.230012\n",
       "min    22.000000\n",
       "25%    28.500000\n",
       "50%    35.000000\n",
       "75%    46.500000\n",
       "max    58.000000"
      ]
     },
     "execution_count": 80,
     "metadata": {},
     "output_type": "execute_result"
    }
   ],
   "source": [
    "# we can also simply as pandas for stats\n",
    "# https://pandas.pydata.org/docs/getting_started/intro_tutorials/06_calculate_statistics.html\n",
    "df.describe()"
   ]
  },
  {
   "cell_type": "markdown",
   "metadata": {
    "slideshow": {
     "slide_type": "slide"
    }
   },
   "source": [
    "### pandas does plot the easy way!"
   ]
  },
  {
   "cell_type": "code",
   "execution_count": 82,
   "metadata": {
    "slideshow": {
     "slide_type": "fragment"
    }
   },
   "outputs": [
    {
     "data": {
      "text/plain": [
       "<matplotlib.axes._subplots.AxesSubplot at 0x199d8efe390>"
      ]
     },
     "execution_count": 82,
     "metadata": {},
     "output_type": "execute_result"
    },
    {
     "data": {
      "image/png": "[encoded data removed]",
      "text/plain": [
       "<Figure size 432x288 with 1 Axes>"
      ]
     },
     "metadata": {
      "needs_background": "light"
     },
     "output_type": "display_data"
    }
   ],
   "source": [
    "# we can also ask pandas for a really simple graph of the data\n",
    "# https://pandas.pydata.org/docs/getting_started/intro_tutorials/04_plotting.html\n",
    "df.plot.bar(x='Name',y='Age')\n",
    "\n",
    "# there are lots of different options for the type and styling of plots, far too much for today!\n",
    "# for example these are all the types of plots!\n",
    "#   'area','bar','barh','box','density', \n",
    "#   'hexbin', 'hist', 'kde', 'line', 'pie', 'scatter'"
   ]
  },
  {
   "cell_type": "markdown",
   "metadata": {
    "slideshow": {
     "slide_type": "slide"
    }
   },
   "source": [
    "# lets make this interesting\n",
    "- over the weekend I got interested in harvesting Reddit.com data\n",
    "  - reddit is an 'open api' meaning all the publically posted information is free to grab and play with\n",
    "  - I'm going to gloss over how praw works a little over the next couple slides, but suffice to say it is pretty slick and makes getting data easy\n",
    "  - if you want to install praw, just use\n",
    "    - pip install praw"
   ]
  },
  {
   "cell_type": "markdown",
   "metadata": {
    "slideshow": {
     "slide_type": "slide"
    }
   },
   "source": [
    "### First I'm going to collect login information\n",
    "- In the background I've created a developer account for reddit \n",
    "  - I've written a file called reddit_app_login.json to sotre my login info\n",
    "  - This is really important, as I don't want to broadcast my details with the code\n",
    "  - A blank version is given with this week's zip file\n",
    "  - you can create an account usingthe links in the code below"
   ]
  },
  {
   "cell_type": "code",
   "execution_count": 83,
   "metadata": {
    "slideshow": {
     "slide_type": "fragment"
    }
   },
   "outputs": [],
   "source": [
    "# useful links \n",
    "# https://medium.com/@plog397/webscraping-reddit-python-reddit-api-wrapper-praw-tutorial-for-windows-a9106397d75e\n",
    "# https://praw.readthedocs.io/en/latest/tutorials/comments.html\n",
    "import praw # import the main module\n",
    "from praw.models import MoreComments # a set of classes to handle comments\n",
    "import datetime as dt # handling some time formats \n",
    "\n",
    "\n",
    "# get account information from a JSON file\n",
    "import json\n",
    "with open(\"reddit_app_login.json\",\"r\") as read_file:\n",
    "    rKeys = json.load(read_file)\n",
    "# rKeys.keys() # check to see if the right keys were collected from the JSON file"
   ]
  },
  {
   "cell_type": "markdown",
   "metadata": {
    "slideshow": {
     "slide_type": "slide"
    }
   },
   "source": [
    "### getting the data from reddit\n",
    "- this is called 'calling' the API\n",
    "- we use this code to 'ask' reddit for the data we want"
   ]
  },
  {
   "cell_type": "code",
   "execution_count": 84,
   "metadata": {
    "slideshow": {
     "slide_type": "fragment"
    }
   },
   "outputs": [],
   "source": [
    "    \n",
    "#reddit account information    \n",
    "reddit = praw.Reddit(\n",
    "    client_id=rKeys[\"client_id\"],\n",
    "    client_secret=rKeys[\"client_secret\"],\n",
    "    password=rKeys[\"password\"],\n",
    "    user_agent=rKeys[\"user_agent\"],\n",
    "    username=rKeys[\"username\"],\n",
    ")\n",
    "    \n",
    "# We are ready to start grabbing data from reddit\n",
    "# lets grab from r/auckland\n",
    "top_n = 1000 # how many posts would you like to get ?\n",
    "r_auckland = reddit.subreddit('auckland')\n",
    "new_auckland = r_auckland.hot(limit=top_n) # this time lets use the 'hot' posts\n",
    "\n",
    "# Verify that we are recieving data\n",
    "# this is a large amount of data so probably not going to do this.\n",
    "# for i in new_auckland:\n",
    "#     print(i.title)\n",
    "    "
   ]
  },
  {
   "cell_type": "markdown",
   "metadata": {
    "slideshow": {
     "slide_type": "slide"
    }
   },
   "source": [
    "### getting dataframe ready\n",
    "- once we have the information, it isn't nessecarilly ready to be loaded directly in to a dataframe\n",
    "- its a simple matter of extracting the data in the new_auckland variable into a format pandas understands\n",
    "  - in this case it is a dictionary"
   ]
  },
  {
   "cell_type": "code",
   "execution_count": null,
   "metadata": {},
   "outputs": [],
   "source": [
    "# Now that we have the data from praw we want to format from its raw data \n",
    "# into something we can stick into a Pandas Dataframe\n",
    "\n",
    "# we make an empty dictionary called sub_post that can hold all data from the subreddit\n",
    "sub_posts = { \n",
    "    \"title\":[],\n",
    "    \"subreddit\":[],\n",
    "    \"score\":[], \n",
    "    \"id\":[], \n",
    "    \"url\":[], \n",
    "    \"comms_num\": [], \n",
    "    \"created_timestamp\": [], \n",
    "    \"created_datetime\":[],\n",
    "    \"body\":[]}\n",
    "\n",
    "# now, for each of the items in the subreddit that we found we are going\n",
    "# to add the data from it into the dictionary keys as array items\n",
    "for j in new_auckland:\n",
    "    sub_posts[\"title\"].append(j.title) # note the append method. it is the same as we saw before for arrays\n",
    "    sub_posts['subreddit'].append(j.subreddit)\n",
    "    sub_posts[\"score\"].append(j.score)\n",
    "    sub_posts[\"id\"].append(j.id)\n",
    "    sub_posts[\"url\"].append(j.url)\n",
    "    sub_posts[\"comms_num\"].append(j.num_comments)\n",
    "    sub_posts[\"created_timestamp\"].append(j.created)\n",
    "    sub_posts[\"created_datetime\"].append(dt.datetime.fromtimestamp(j.created))\n",
    "    sub_posts[\"body\"].append(j.selftext)\n",
    "\n",
    "\n",
    "# now that the dictioary is in the shape pandas wants we\n",
    "# convert our data into a pandas dataframe    \n",
    "rAuckland_df = pd.DataFrame(sub_posts)\n",
    "\n",
    "# and now, lets write this dataframe to file\n",
    "# in case anything happens to the data we can just reload it\n",
    "filename = \"top1000_rAuckland_posts.csv\" \n",
    "rAuckland_df.to_csv(filename)"
   ]
  },
  {
   "cell_type": "markdown",
   "metadata": {
    "slideshow": {
     "slide_type": "slide"
    }
   },
   "source": [
    "### What did we just do?\n",
    "- if you look at the folder where this notbook is located, there will now be a file 'top1000_rAuckland_posts.csv'"
   ]
  },
  {
   "cell_type": "code",
   "execution_count": 86,
   "metadata": {
    "slideshow": {
     "slide_type": "fragment"
    }
   },
   "outputs": [
    {
     "data": {
      "text/html": [
       "<div>\n",
       "<style scoped>\n",
       "    .dataframe tbody tr th:only-of-type {\n",
       "        vertical-align: middle;\n",
       "    }\n",
       "\n",
       "    .dataframe tbody tr th {\n",
       "        vertical-align: top;\n",
       "    }\n",
       "\n",
       "    .dataframe thead th {\n",
       "        text-align: right;\n",
       "    }\n",
       "</style>\n",
       "<table border=\"1\" class=\"dataframe\">\n",
       "  <thead>\n",
       "    <tr style=\"text-align: right;\">\n",
       "      <th></th>\n",
       "      <th>Unnamed: 0</th>\n",
       "      <th>post_title</th>\n",
       "      <th>subreddit_name</th>\n",
       "      <th>subreddit_id</th>\n",
       "      <th>post_id</th>\n",
       "      <th>comment_id</th>\n",
       "      <th>comment_author</th>\n",
       "      <th>comment_body</th>\n",
       "      <th>created_utc</th>\n",
       "      <th>created_datetime</th>\n",
       "      <th>permalink</th>\n",
       "      <th>comment_score</th>\n",
       "    </tr>\n",
       "  </thead>\n",
       "  <tbody>\n",
       "    <tr>\n",
       "      <th>0</th>\n",
       "      <td>0</td>\n",
       "      <td>Entitled lady believes she is above lockdown r...</td>\n",
       "      <td>auckland</td>\n",
       "      <td>t5_2rd5j</td>\n",
       "      <td>t3_lxwrud</td>\n",
       "      <td>gppj37m</td>\n",
       "      <td>grnathan</td>\n",
       "      <td>Wait for it.... wait for it.... \"You work for ...</td>\n",
       "      <td>1.614898e+09</td>\n",
       "      <td>2021-03-05 11:47:22</td>\n",
       "      <td>/r/auckland/comments/lxwrud/entitled_lady_beli...</td>\n",
       "      <td>133</td>\n",
       "    </tr>\n",
       "    <tr>\n",
       "      <th>1</th>\n",
       "      <td>1</td>\n",
       "      <td>Entitled lady believes she is above lockdown r...</td>\n",
       "      <td>auckland</td>\n",
       "      <td>t5_2rd5j</td>\n",
       "      <td>t3_lxwrud</td>\n",
       "      <td>gppefqu</td>\n",
       "      <td>petercalmdown</td>\n",
       "      <td>Shout out Browns Bay police for having the pat...</td>\n",
       "      <td>1.614896e+09</td>\n",
       "      <td>2021-03-05 11:11:00</td>\n",
       "      <td>/r/auckland/comments/lxwrud/entitled_lady_beli...</td>\n",
       "      <td>283</td>\n",
       "    </tr>\n",
       "    <tr>\n",
       "      <th>2</th>\n",
       "      <td>2</td>\n",
       "      <td>Entitled lady believes she is above lockdown r...</td>\n",
       "      <td>auckland</td>\n",
       "      <td>t5_2rd5j</td>\n",
       "      <td>t3_lxwrud</td>\n",
       "      <td>gppmsxg</td>\n",
       "      <td>gtalnz</td>\n",
       "      <td>That building they are walking towards at the ...</td>\n",
       "      <td>1.614900e+09</td>\n",
       "      <td>2021-03-05 12:17:17</td>\n",
       "      <td>/r/auckland/comments/lxwrud/entitled_lady_beli...</td>\n",
       "      <td>56</td>\n",
       "    </tr>\n",
       "    <tr>\n",
       "      <th>3</th>\n",
       "      <td>3</td>\n",
       "      <td>Entitled lady believes she is above lockdown r...</td>\n",
       "      <td>auckland</td>\n",
       "      <td>t5_2rd5j</td>\n",
       "      <td>t3_lxwrud</td>\n",
       "      <td>gpplh3o</td>\n",
       "      <td>B0bDobalina</td>\n",
       "      <td>Karen \"Tell me what law I've broken?\"\\n\\nCop \"...</td>\n",
       "      <td>1.614899e+09</td>\n",
       "      <td>2021-03-05 12:06:21</td>\n",
       "      <td>/r/auckland/comments/lxwrud/entitled_lady_beli...</td>\n",
       "      <td>152</td>\n",
       "    </tr>\n",
       "    <tr>\n",
       "      <th>4</th>\n",
       "      <td>4</td>\n",
       "      <td>Entitled lady believes she is above lockdown r...</td>\n",
       "      <td>auckland</td>\n",
       "      <td>t5_2rd5j</td>\n",
       "      <td>t3_lxwrud</td>\n",
       "      <td>gppnq9o</td>\n",
       "      <td>noodlebball</td>\n",
       "      <td>Fucked up thing is if you go to her Fb page th...</td>\n",
       "      <td>1.614900e+09</td>\n",
       "      <td>2021-03-05 12:24:59</td>\n",
       "      <td>/r/auckland/comments/lxwrud/entitled_lady_beli...</td>\n",
       "      <td>30</td>\n",
       "    </tr>\n",
       "    <tr>\n",
       "      <th>5</th>\n",
       "      <td>5</td>\n",
       "      <td>Entitled lady believes she is above lockdown r...</td>\n",
       "      <td>auckland</td>\n",
       "      <td>t5_2rd5j</td>\n",
       "      <td>t3_lxwrud</td>\n",
       "      <td>gpphbcp</td>\n",
       "      <td>RevakBahJot</td>\n",
       "      <td>r/FuckYouKaren</td>\n",
       "      <td>1.614897e+09</td>\n",
       "      <td>2021-03-05 11:33:14</td>\n",
       "      <td>/r/auckland/comments/lxwrud/entitled_lady_beli...</td>\n",
       "      <td>83</td>\n",
       "    </tr>\n",
       "    <tr>\n",
       "      <th>6</th>\n",
       "      <td>6</td>\n",
       "      <td>Entitled lady believes she is above lockdown r...</td>\n",
       "      <td>auckland</td>\n",
       "      <td>t5_2rd5j</td>\n",
       "      <td>t3_lxwrud</td>\n",
       "      <td>gppmi2m</td>\n",
       "      <td>1970lamb</td>\n",
       "      <td>I got half way through and shut it off.. the w...</td>\n",
       "      <td>1.614900e+09</td>\n",
       "      <td>2021-03-05 12:14:49</td>\n",
       "      <td>/r/auckland/comments/lxwrud/entitled_lady_beli...</td>\n",
       "      <td>83</td>\n",
       "    </tr>\n",
       "    <tr>\n",
       "      <th>7</th>\n",
       "      <td>7</td>\n",
       "      <td>Entitled lady believes she is above lockdown r...</td>\n",
       "      <td>auckland</td>\n",
       "      <td>t5_2rd5j</td>\n",
       "      <td>t3_lxwrud</td>\n",
       "      <td>gpphbhu</td>\n",
       "      <td>dyingPretty</td>\n",
       "      <td>She must of posted this her self. Does she rea...</td>\n",
       "      <td>1.614897e+09</td>\n",
       "      <td>2021-03-05 11:33:16</td>\n",
       "      <td>/r/auckland/comments/lxwrud/entitled_lady_beli...</td>\n",
       "      <td>88</td>\n",
       "    </tr>\n",
       "    <tr>\n",
       "      <th>8</th>\n",
       "      <td>8</td>\n",
       "      <td>Entitled lady believes she is above lockdown r...</td>\n",
       "      <td>auckland</td>\n",
       "      <td>t5_2rd5j</td>\n",
       "      <td>t3_lxwrud</td>\n",
       "      <td>gppplnh</td>\n",
       "      <td>GKW_</td>\n",
       "      <td>Lol what a train wreck she is</td>\n",
       "      <td>1.614901e+09</td>\n",
       "      <td>2021-03-05 12:40:38</td>\n",
       "      <td>/r/auckland/comments/lxwrud/entitled_lady_beli...</td>\n",
       "      <td>16</td>\n",
       "    </tr>\n",
       "    <tr>\n",
       "      <th>9</th>\n",
       "      <td>9</td>\n",
       "      <td>Entitled lady believes she is above lockdown r...</td>\n",
       "      <td>auckland</td>\n",
       "      <td>t5_2rd5j</td>\n",
       "      <td>t3_lxwrud</td>\n",
       "      <td>gppfsod</td>\n",
       "      <td>Mumsacunt</td>\n",
       "      <td>How ugly</td>\n",
       "      <td>1.614896e+09</td>\n",
       "      <td>2021-03-05 11:21:19</td>\n",
       "      <td>/r/auckland/comments/lxwrud/entitled_lady_beli...</td>\n",
       "      <td>44</td>\n",
       "    </tr>\n",
       "    <tr>\n",
       "      <th>10</th>\n",
       "      <td>10</td>\n",
       "      <td>Entitled lady believes she is above lockdown r...</td>\n",
       "      <td>auckland</td>\n",
       "      <td>t5_2rd5j</td>\n",
       "      <td>t3_lxwrud</td>\n",
       "      <td>gppthag</td>\n",
       "      <td>TimeToMakeWoofles</td>\n",
       "      <td>“You are intimidating me” says while chasing them</td>\n",
       "      <td>1.614903e+09</td>\n",
       "      <td>2021-03-05 13:13:45</td>\n",
       "      <td>/r/auckland/comments/lxwrud/entitled_lady_beli...</td>\n",
       "      <td>14</td>\n",
       "    </tr>\n",
       "    <tr>\n",
       "      <th>11</th>\n",
       "      <td>11</td>\n",
       "      <td>Entitled lady believes she is above lockdown r...</td>\n",
       "      <td>auckland</td>\n",
       "      <td>t5_2rd5j</td>\n",
       "      <td>t3_lxwrud</td>\n",
       "      <td>gppj50h</td>\n",
       "      <td>nyequistt</td>\n",
       "      <td>FrEeDoM oR cOmMuNiSm\\n\\nYou could tell that th...</td>\n",
       "      <td>1.614898e+09</td>\n",
       "      <td>2021-03-05 11:47:46</td>\n",
       "      <td>/r/auckland/comments/lxwrud/entitled_lady_beli...</td>\n",
       "      <td>69</td>\n",
       "    </tr>\n",
       "    <tr>\n",
       "      <th>12</th>\n",
       "      <td>12</td>\n",
       "      <td>Entitled lady believes she is above lockdown r...</td>\n",
       "      <td>auckland</td>\n",
       "      <td>t5_2rd5j</td>\n",
       "      <td>t3_lxwrud</td>\n",
       "      <td>gpplioe</td>\n",
       "      <td>therewillbeniccage</td>\n",
       "      <td>This stuff really gets on my nerves. There are...</td>\n",
       "      <td>1.614899e+09</td>\n",
       "      <td>2021-03-05 12:06:44</td>\n",
       "      <td>/r/auckland/comments/lxwrud/entitled_lady_beli...</td>\n",
       "      <td>54</td>\n",
       "    </tr>\n",
       "    <tr>\n",
       "      <th>13</th>\n",
       "      <td>13</td>\n",
       "      <td>Entitled lady believes she is above lockdown r...</td>\n",
       "      <td>auckland</td>\n",
       "      <td>t5_2rd5j</td>\n",
       "      <td>t3_lxwrud</td>\n",
       "      <td>gppug74</td>\n",
       "      <td>Here_for_tea_</td>\n",
       "      <td>I would have thought this woman would be far t...</td>\n",
       "      <td>1.614904e+09</td>\n",
       "      <td>2021-03-05 13:21:51</td>\n",
       "      <td>/r/auckland/comments/lxwrud/entitled_lady_beli...</td>\n",
       "      <td>11</td>\n",
       "    </tr>\n",
       "    <tr>\n",
       "      <th>14</th>\n",
       "      <td>14</td>\n",
       "      <td>Entitled lady believes she is above lockdown r...</td>\n",
       "      <td>auckland</td>\n",
       "      <td>t5_2rd5j</td>\n",
       "      <td>t3_lxwrud</td>\n",
       "      <td>gppi929</td>\n",
       "      <td>Dragon88NT</td>\n",
       "      <td>How concerning she is raising children and tea...</td>\n",
       "      <td>1.614898e+09</td>\n",
       "      <td>2021-03-05 11:40:38</td>\n",
       "      <td>/r/auckland/comments/lxwrud/entitled_lady_beli...</td>\n",
       "      <td>44</td>\n",
       "    </tr>\n",
       "    <tr>\n",
       "      <th>15</th>\n",
       "      <td>15</td>\n",
       "      <td>Entitled lady believes she is above lockdown r...</td>\n",
       "      <td>auckland</td>\n",
       "      <td>t5_2rd5j</td>\n",
       "      <td>t3_lxwrud</td>\n",
       "      <td>gppiiu8</td>\n",
       "      <td>B-man44</td>\n",
       "      <td>These cops have the patience af Saints</td>\n",
       "      <td>1.614898e+09</td>\n",
       "      <td>2021-03-05 11:42:50</td>\n",
       "      <td>/r/auckland/comments/lxwrud/entitled_lady_beli...</td>\n",
       "      <td>44</td>\n",
       "    </tr>\n",
       "    <tr>\n",
       "      <th>16</th>\n",
       "      <td>16</td>\n",
       "      <td>Entitled lady believes she is above lockdown r...</td>\n",
       "      <td>auckland</td>\n",
       "      <td>t5_2rd5j</td>\n",
       "      <td>t3_lxwrud</td>\n",
       "      <td>gppp298</td>\n",
       "      <td>battsIts</td>\n",
       "      <td>How embarrassing</td>\n",
       "      <td>1.614901e+09</td>\n",
       "      <td>2021-03-05 12:36:06</td>\n",
       "      <td>/r/auckland/comments/lxwrud/entitled_lady_beli...</td>\n",
       "      <td>9</td>\n",
       "    </tr>\n",
       "    <tr>\n",
       "      <th>17</th>\n",
       "      <td>17</td>\n",
       "      <td>Entitled lady believes she is above lockdown r...</td>\n",
       "      <td>auckland</td>\n",
       "      <td>t5_2rd5j</td>\n",
       "      <td>t3_lxwrud</td>\n",
       "      <td>gppsw9x</td>\n",
       "      <td>nzultramper</td>\n",
       "      <td>Fucks sake. That’s all we need. Mad cows disea...</td>\n",
       "      <td>1.614903e+09</td>\n",
       "      <td>2021-03-05 13:08:49</td>\n",
       "      <td>/r/auckland/comments/lxwrud/entitled_lady_beli...</td>\n",
       "      <td>9</td>\n",
       "    </tr>\n",
       "    <tr>\n",
       "      <th>18</th>\n",
       "      <td>18</td>\n",
       "      <td>Entitled lady believes she is above lockdown r...</td>\n",
       "      <td>auckland</td>\n",
       "      <td>t5_2rd5j</td>\n",
       "      <td>t3_lxwrud</td>\n",
       "      <td>gppk1j5</td>\n",
       "      <td>YokoOnoNumba1</td>\n",
       "      <td>FREEDOM OR COMMUNISIM AHAHAHAHAHAHAH</td>\n",
       "      <td>1.614898e+09</td>\n",
       "      <td>2021-03-05 11:54:51</td>\n",
       "      <td>/r/auckland/comments/lxwrud/entitled_lady_beli...</td>\n",
       "      <td>21</td>\n",
       "    </tr>\n",
       "    <tr>\n",
       "      <th>19</th>\n",
       "      <td>19</td>\n",
       "      <td>Entitled lady believes she is above lockdown r...</td>\n",
       "      <td>auckland</td>\n",
       "      <td>t5_2rd5j</td>\n",
       "      <td>t3_lxwrud</td>\n",
       "      <td>gppluph</td>\n",
       "      <td>gmannz</td>\n",
       "      <td>Fuck being a cop. \\n\\nI want to snot that big ...</td>\n",
       "      <td>1.614899e+09</td>\n",
       "      <td>2021-03-05 12:09:27</td>\n",
       "      <td>/r/auckland/comments/lxwrud/entitled_lady_beli...</td>\n",
       "      <td>41</td>\n",
       "    </tr>\n",
       "    <tr>\n",
       "      <th>20</th>\n",
       "      <td>20</td>\n",
       "      <td>Entitled lady believes she is above lockdown r...</td>\n",
       "      <td>auckland</td>\n",
       "      <td>t5_2rd5j</td>\n",
       "      <td>t3_lxwrud</td>\n",
       "      <td>gppkl81</td>\n",
       "      <td>jadez7789</td>\n",
       "      <td>I found her page on Facebook. The amount of cr...</td>\n",
       "      <td>1.614899e+09</td>\n",
       "      <td>2021-03-05 11:59:13</td>\n",
       "      <td>/r/auckland/comments/lxwrud/entitled_lady_beli...</td>\n",
       "      <td>27</td>\n",
       "    </tr>\n",
       "    <tr>\n",
       "      <th>21</th>\n",
       "      <td>21</td>\n",
       "      <td>Entitled lady believes she is above lockdown r...</td>\n",
       "      <td>auckland</td>\n",
       "      <td>t5_2rd5j</td>\n",
       "      <td>t3_lxwrud</td>\n",
       "      <td>gppqmvf</td>\n",
       "      <td>FallenJediKnight</td>\n",
       "      <td>Very rude and inconsiderate. She kept interrup...</td>\n",
       "      <td>1.614902e+09</td>\n",
       "      <td>2021-03-05 12:49:26</td>\n",
       "      <td>/r/auckland/comments/lxwrud/entitled_lady_beli...</td>\n",
       "      <td>16</td>\n",
       "    </tr>\n",
       "    <tr>\n",
       "      <th>22</th>\n",
       "      <td>22</td>\n",
       "      <td>Entitled lady believes she is above lockdown r...</td>\n",
       "      <td>auckland</td>\n",
       "      <td>t5_2rd5j</td>\n",
       "      <td>t3_lxwrud</td>\n",
       "      <td>gpprntp</td>\n",
       "      <td>ksnitch</td>\n",
       "      <td>This lady freaking annoyed the shit out of me....</td>\n",
       "      <td>1.614902e+09</td>\n",
       "      <td>2021-03-05 12:58:12</td>\n",
       "      <td>/r/auckland/comments/lxwrud/entitled_lady_beli...</td>\n",
       "      <td>5</td>\n",
       "    </tr>\n",
       "    <tr>\n",
       "      <th>23</th>\n",
       "      <td>23</td>\n",
       "      <td>Entitled lady believes she is above lockdown r...</td>\n",
       "      <td>auckland</td>\n",
       "      <td>t5_2rd5j</td>\n",
       "      <td>t3_lxwrud</td>\n",
       "      <td>gppt298</td>\n",
       "      <td>deepfriedplease</td>\n",
       "      <td>Her voice just grates on my ears...ugh...</td>\n",
       "      <td>1.614903e+09</td>\n",
       "      <td>2021-03-05 13:10:13</td>\n",
       "      <td>/r/auckland/comments/lxwrud/entitled_lady_beli...</td>\n",
       "      <td>5</td>\n",
       "    </tr>\n",
       "    <tr>\n",
       "      <th>24</th>\n",
       "      <td>24</td>\n",
       "      <td>Entitled lady believes she is above lockdown r...</td>\n",
       "      <td>auckland</td>\n",
       "      <td>t5_2rd5j</td>\n",
       "      <td>t3_lxwrud</td>\n",
       "      <td>gppugtq</td>\n",
       "      <td>keepyourwigon2</td>\n",
       "      <td>I'm embarrassed for her.</td>\n",
       "      <td>1.614904e+09</td>\n",
       "      <td>2021-03-05 13:22:00</td>\n",
       "      <td>/r/auckland/comments/lxwrud/entitled_lady_beli...</td>\n",
       "      <td>5</td>\n",
       "    </tr>\n",
       "    <tr>\n",
       "      <th>25</th>\n",
       "      <td>25</td>\n",
       "      <td>Entitled lady believes she is above lockdown r...</td>\n",
       "      <td>auckland</td>\n",
       "      <td>t5_2rd5j</td>\n",
       "      <td>t3_lxwrud</td>\n",
       "      <td>gpq732v</td>\n",
       "      <td>CreepyHermit489</td>\n",
       "      <td>I don't know how this video reached the intern...</td>\n",
       "      <td>1.614910e+09</td>\n",
       "      <td>2021-03-05 15:10:58</td>\n",
       "      <td>/r/auckland/comments/lxwrud/entitled_lady_beli...</td>\n",
       "      <td>6</td>\n",
       "    </tr>\n",
       "    <tr>\n",
       "      <th>26</th>\n",
       "      <td>26</td>\n",
       "      <td>Entitled lady believes she is above lockdown r...</td>\n",
       "      <td>auckland</td>\n",
       "      <td>t5_2rd5j</td>\n",
       "      <td>t3_lxwrud</td>\n",
       "      <td>gppintc</td>\n",
       "      <td>peacheemelons</td>\n",
       "      <td>This playground was covered in ‘do not cross’ ...</td>\n",
       "      <td>1.614898e+09</td>\n",
       "      <td>2021-03-05 11:43:57</td>\n",
       "      <td>/r/auckland/comments/lxwrud/entitled_lady_beli...</td>\n",
       "      <td>16</td>\n",
       "    </tr>\n",
       "    <tr>\n",
       "      <th>27</th>\n",
       "      <td>27</td>\n",
       "      <td>Entitled lady believes she is above lockdown r...</td>\n",
       "      <td>auckland</td>\n",
       "      <td>t5_2rd5j</td>\n",
       "      <td>t3_lxwrud</td>\n",
       "      <td>gppq4kp</td>\n",
       "      <td>Fatality</td>\n",
       "      <td>why do people upload this shit, it's like the ...</td>\n",
       "      <td>1.614902e+09</td>\n",
       "      <td>2021-03-05 12:45:03</td>\n",
       "      <td>/r/auckland/comments/lxwrud/entitled_lady_beli...</td>\n",
       "      <td>15</td>\n",
       "    </tr>\n",
       "    <tr>\n",
       "      <th>28</th>\n",
       "      <td>28</td>\n",
       "      <td>Entitled lady believes she is above lockdown r...</td>\n",
       "      <td>auckland</td>\n",
       "      <td>t5_2rd5j</td>\n",
       "      <td>t3_lxwrud</td>\n",
       "      <td>gpppi8k</td>\n",
       "      <td>Mofonalia76</td>\n",
       "      <td>Those poor children</td>\n",
       "      <td>1.614901e+09</td>\n",
       "      <td>2021-03-05 12:39:49</td>\n",
       "      <td>/r/auckland/comments/lxwrud/entitled_lady_beli...</td>\n",
       "      <td>15</td>\n",
       "    </tr>\n",
       "    <tr>\n",
       "      <th>29</th>\n",
       "      <td>29</td>\n",
       "      <td>Entitled lady believes she is above lockdown r...</td>\n",
       "      <td>auckland</td>\n",
       "      <td>t5_2rd5j</td>\n",
       "      <td>t3_lxwrud</td>\n",
       "      <td>gppqw8a</td>\n",
       "      <td>MVIVN</td>\n",
       "      <td>I saw she shared a link on her Facebook about ...</td>\n",
       "      <td>1.614902e+09</td>\n",
       "      <td>2021-03-05 12:51:38</td>\n",
       "      <td>/r/auckland/comments/lxwrud/entitled_lady_beli...</td>\n",
       "      <td>14</td>\n",
       "    </tr>\n",
       "    <tr>\n",
       "      <th>...</th>\n",
       "      <td>...</td>\n",
       "      <td>...</td>\n",
       "      <td>...</td>\n",
       "      <td>...</td>\n",
       "      <td>...</td>\n",
       "      <td>...</td>\n",
       "      <td>...</td>\n",
       "      <td>...</td>\n",
       "      <td>...</td>\n",
       "      <td>...</td>\n",
       "      <td>...</td>\n",
       "      <td>...</td>\n",
       "    </tr>\n",
       "    <tr>\n",
       "      <th>6462</th>\n",
       "      <td>6462</td>\n",
       "      <td>Free diving courses in Auckland?</td>\n",
       "      <td>auckland</td>\n",
       "      <td>t5_2rd5j</td>\n",
       "      <td>t3_kowtv9</td>\n",
       "      <td>gi5y896</td>\n",
       "      <td>Tall7kiwi</td>\n",
       "      <td>I joined the Auckland Freediving Club a few ye...</td>\n",
       "      <td>1.609839e+09</td>\n",
       "      <td>2021-01-05 22:27:11</td>\n",
       "      <td>/r/auckland/comments/kowtv9/free_diving_course...</td>\n",
       "      <td>2</td>\n",
       "    </tr>\n",
       "    <tr>\n",
       "      <th>6463</th>\n",
       "      <td>6463</td>\n",
       "      <td>Free diving courses in Auckland?</td>\n",
       "      <td>auckland</td>\n",
       "      <td>t5_2rd5j</td>\n",
       "      <td>t3_kowtv9</td>\n",
       "      <td>gi9i9tw</td>\n",
       "      <td>morphinedreams</td>\n",
       "      <td>Not a freediving instructor, nor do I know Auc...</td>\n",
       "      <td>1.609904e+09</td>\n",
       "      <td>2021-01-06 16:27:10</td>\n",
       "      <td>/r/auckland/comments/kowtv9/free_diving_course...</td>\n",
       "      <td>1</td>\n",
       "    </tr>\n",
       "    <tr>\n",
       "      <th>6464</th>\n",
       "      <td>6464</td>\n",
       "      <td>Free diving courses in Auckland?</td>\n",
       "      <td>auckland</td>\n",
       "      <td>t5_2rd5j</td>\n",
       "      <td>t3_kowtv9</td>\n",
       "      <td>ghvvch7</td>\n",
       "      <td>michaelhunt696969</td>\n",
       "      <td>A better question would be 'What value could y...</td>\n",
       "      <td>1.609637e+09</td>\n",
       "      <td>2021-01-03 14:19:37</td>\n",
       "      <td>/r/auckland/comments/kowtv9/free_diving_course...</td>\n",
       "      <td>0</td>\n",
       "    </tr>\n",
       "    <tr>\n",
       "      <th>6465</th>\n",
       "      <td>6465</td>\n",
       "      <td>Free diving courses in Auckland?</td>\n",
       "      <td>auckland</td>\n",
       "      <td>t5_2rd5j</td>\n",
       "      <td>t3_kowtv9</td>\n",
       "      <td>ghuuz43</td>\n",
       "      <td>Jeremiah_was_a</td>\n",
       "      <td>Tauranga needs the. Folk here couldn't drive p...</td>\n",
       "      <td>1.609618e+09</td>\n",
       "      <td>2021-01-03 09:00:12</td>\n",
       "      <td>/r/auckland/comments/kowtv9/free_diving_course...</td>\n",
       "      <td>-3</td>\n",
       "    </tr>\n",
       "    <tr>\n",
       "      <th>6466</th>\n",
       "      <td>6466</td>\n",
       "      <td>Free diving courses in Auckland?</td>\n",
       "      <td>auckland</td>\n",
       "      <td>t5_2rd5j</td>\n",
       "      <td>t3_kowtv9</td>\n",
       "      <td>ghv6o1s</td>\n",
       "      <td>NaN</td>\n",
       "      <td>[deleted]</td>\n",
       "      <td>1.609624e+09</td>\n",
       "      <td>2021-01-03 10:40:39</td>\n",
       "      <td>/r/auckland/comments/kowtv9/free_diving_course...</td>\n",
       "      <td>-3</td>\n",
       "    </tr>\n",
       "    <tr>\n",
       "      <th>6467</th>\n",
       "      <td>6467</td>\n",
       "      <td>Is someone able to tell me the name of this pa...</td>\n",
       "      <td>auckland</td>\n",
       "      <td>t5_2rd5j</td>\n",
       "      <td>t3_koxi2v</td>\n",
       "      <td>gihww4a</td>\n",
       "      <td>foopod</td>\n",
       "      <td>I think it's Mt Eden</td>\n",
       "      <td>1.610072e+09</td>\n",
       "      <td>2021-01-08 15:21:39</td>\n",
       "      <td>/r/auckland/comments/koxi2v/is_someone_able_to...</td>\n",
       "      <td>1</td>\n",
       "    </tr>\n",
       "    <tr>\n",
       "      <th>6468</th>\n",
       "      <td>6468</td>\n",
       "      <td>Recommendation for outdoor/hiking/tramping sto...</td>\n",
       "      <td>auckland</td>\n",
       "      <td>t5_2rd5j</td>\n",
       "      <td>t3_koouke</td>\n",
       "      <td>ghsfgsb</td>\n",
       "      <td>CJonno</td>\n",
       "      <td>[https://www.bivouac.co.nz/](https://www.bivou...</td>\n",
       "      <td>1.609556e+09</td>\n",
       "      <td>2021-01-02 15:54:43</td>\n",
       "      <td>/r/auckland/comments/koouke/recommendation_for...</td>\n",
       "      <td>12</td>\n",
       "    </tr>\n",
       "    <tr>\n",
       "      <th>6469</th>\n",
       "      <td>6469</td>\n",
       "      <td>Recommendation for outdoor/hiking/tramping sto...</td>\n",
       "      <td>auckland</td>\n",
       "      <td>t5_2rd5j</td>\n",
       "      <td>t3_koouke</td>\n",
       "      <td>ghsktyv</td>\n",
       "      <td>dwelfness</td>\n",
       "      <td>I'm not really doing any serious hiking, so I ...</td>\n",
       "      <td>1.609559e+09</td>\n",
       "      <td>2021-01-02 16:45:19</td>\n",
       "      <td>/r/auckland/comments/koouke/recommendation_for...</td>\n",
       "      <td>22</td>\n",
       "    </tr>\n",
       "    <tr>\n",
       "      <th>6470</th>\n",
       "      <td>6470</td>\n",
       "      <td>Recommendation for outdoor/hiking/tramping sto...</td>\n",
       "      <td>auckland</td>\n",
       "      <td>t5_2rd5j</td>\n",
       "      <td>t3_koouke</td>\n",
       "      <td>ghtlub3</td>\n",
       "      <td>taway6782</td>\n",
       "      <td>Kathmandu at dress mart onehunga has massive d...</td>\n",
       "      <td>1.609591e+09</td>\n",
       "      <td>2021-01-03 01:35:12</td>\n",
       "      <td>/r/auckland/comments/koouke/recommendation_for...</td>\n",
       "      <td>3</td>\n",
       "    </tr>\n",
       "    <tr>\n",
       "      <th>6471</th>\n",
       "      <td>6471</td>\n",
       "      <td>Recommendation for outdoor/hiking/tramping sto...</td>\n",
       "      <td>auckland</td>\n",
       "      <td>t5_2rd5j</td>\n",
       "      <td>t3_koouke</td>\n",
       "      <td>ghskl7x</td>\n",
       "      <td>coconutyum</td>\n",
       "      <td>Macpac, Mountain Warehouse, Kathmandu as well ...</td>\n",
       "      <td>1.609559e+09</td>\n",
       "      <td>2021-01-02 16:43:01</td>\n",
       "      <td>/r/auckland/comments/koouke/recommendation_for...</td>\n",
       "      <td>5</td>\n",
       "    </tr>\n",
       "    <tr>\n",
       "      <th>6472</th>\n",
       "      <td>6472</td>\n",
       "      <td>Recommendation for outdoor/hiking/tramping sto...</td>\n",
       "      <td>auckland</td>\n",
       "      <td>t5_2rd5j</td>\n",
       "      <td>t3_koouke</td>\n",
       "      <td>ghsow9g</td>\n",
       "      <td>evilgwyn</td>\n",
       "      <td>On queen Street there is a decent bivouac stor...</td>\n",
       "      <td>1.609561e+09</td>\n",
       "      <td>2021-01-02 17:23:26</td>\n",
       "      <td>/r/auckland/comments/koouke/recommendation_for...</td>\n",
       "      <td>3</td>\n",
       "    </tr>\n",
       "    <tr>\n",
       "      <th>6473</th>\n",
       "      <td>6473</td>\n",
       "      <td>Recommendation for outdoor/hiking/tramping sto...</td>\n",
       "      <td>auckland</td>\n",
       "      <td>t5_2rd5j</td>\n",
       "      <td>t3_koouke</td>\n",
       "      <td>ghsv4nh</td>\n",
       "      <td>will9million</td>\n",
       "      <td>Earth Sea Sky hydrophobia jacket from Outdoor ...</td>\n",
       "      <td>1.609565e+09</td>\n",
       "      <td>2021-01-02 18:28:17</td>\n",
       "      <td>/r/auckland/comments/koouke/recommendation_for...</td>\n",
       "      <td>1</td>\n",
       "    </tr>\n",
       "    <tr>\n",
       "      <th>6474</th>\n",
       "      <td>6474</td>\n",
       "      <td>Recommendation for outdoor/hiking/tramping sto...</td>\n",
       "      <td>auckland</td>\n",
       "      <td>t5_2rd5j</td>\n",
       "      <td>t3_koouke</td>\n",
       "      <td>ghv4per</td>\n",
       "      <td>NaN</td>\n",
       "      <td>[deleted]</td>\n",
       "      <td>1.609623e+09</td>\n",
       "      <td>2021-01-03 10:23:41</td>\n",
       "      <td>/r/auckland/comments/koouke/recommendation_for...</td>\n",
       "      <td>1</td>\n",
       "    </tr>\n",
       "    <tr>\n",
       "      <th>6475</th>\n",
       "      <td>6475</td>\n",
       "      <td>Hey guys! A Question for people who live or ha...</td>\n",
       "      <td>auckland</td>\n",
       "      <td>t5_2rd5j</td>\n",
       "      <td>t3_koslf5</td>\n",
       "      <td>ght1ijw</td>\n",
       "      <td>sky_christal</td>\n",
       "      <td>I'm at the top of symonds st, the traffic and ...</td>\n",
       "      <td>1.609570e+09</td>\n",
       "      <td>2021-01-02 19:48:44</td>\n",
       "      <td>/r/auckland/comments/koslf5/hey_guys_a_questio...</td>\n",
       "      <td>14</td>\n",
       "    </tr>\n",
       "    <tr>\n",
       "      <th>6476</th>\n",
       "      <td>6476</td>\n",
       "      <td>Hey guys! A Question for people who live or ha...</td>\n",
       "      <td>auckland</td>\n",
       "      <td>t5_2rd5j</td>\n",
       "      <td>t3_koslf5</td>\n",
       "      <td>ght5yik</td>\n",
       "      <td>rang14</td>\n",
       "      <td>I used to live in an apartment on Queent Stree...</td>\n",
       "      <td>1.609574e+09</td>\n",
       "      <td>2021-01-02 20:55:52</td>\n",
       "      <td>/r/auckland/comments/koslf5/hey_guys_a_questio...</td>\n",
       "      <td>11</td>\n",
       "    </tr>\n",
       "    <tr>\n",
       "      <th>6477</th>\n",
       "      <td>6477</td>\n",
       "      <td>Hey guys! A Question for people who live or ha...</td>\n",
       "      <td>auckland</td>\n",
       "      <td>t5_2rd5j</td>\n",
       "      <td>t3_koslf5</td>\n",
       "      <td>ghuj0ej</td>\n",
       "      <td>dreamer_0987</td>\n",
       "      <td>I have never slept better than I did while liv...</td>\n",
       "      <td>1.609611e+09</td>\n",
       "      <td>2021-01-03 07:17:43</td>\n",
       "      <td>/r/auckland/comments/koslf5/hey_guys_a_questio...</td>\n",
       "      <td>7</td>\n",
       "    </tr>\n",
       "    <tr>\n",
       "      <th>6478</th>\n",
       "      <td>6478</td>\n",
       "      <td>Hey guys! A Question for people who live or ha...</td>\n",
       "      <td>auckland</td>\n",
       "      <td>t5_2rd5j</td>\n",
       "      <td>t3_koslf5</td>\n",
       "      <td>ght3ag9</td>\n",
       "      <td>kinow</td>\n",
       "      <td>I live between High/Albert. I can hear the mus...</td>\n",
       "      <td>1.609572e+09</td>\n",
       "      <td>2021-01-02 20:14:05</td>\n",
       "      <td>/r/auckland/comments/koslf5/hey_guys_a_questio...</td>\n",
       "      <td>6</td>\n",
       "    </tr>\n",
       "    <tr>\n",
       "      <th>6479</th>\n",
       "      <td>6479</td>\n",
       "      <td>Hey guys! A Question for people who live or ha...</td>\n",
       "      <td>auckland</td>\n",
       "      <td>t5_2rd5j</td>\n",
       "      <td>t3_koslf5</td>\n",
       "      <td>ght1ghc</td>\n",
       "      <td>acid-nz</td>\n",
       "      <td>I used to live on K Road and I did. However I ...</td>\n",
       "      <td>1.609570e+09</td>\n",
       "      <td>2021-01-02 19:47:59</td>\n",
       "      <td>/r/auckland/comments/koslf5/hey_guys_a_questio...</td>\n",
       "      <td>11</td>\n",
       "    </tr>\n",
       "    <tr>\n",
       "      <th>6480</th>\n",
       "      <td>6480</td>\n",
       "      <td>Hey guys! A Question for people who live or ha...</td>\n",
       "      <td>auckland</td>\n",
       "      <td>t5_2rd5j</td>\n",
       "      <td>t3_koslf5</td>\n",
       "      <td>ght3dbm</td>\n",
       "      <td>babywoozle</td>\n",
       "      <td>I used to live on beach road and I’d only get ...</td>\n",
       "      <td>1.609572e+09</td>\n",
       "      <td>2021-01-02 20:15:16</td>\n",
       "      <td>/r/auckland/comments/koslf5/hey_guys_a_questio...</td>\n",
       "      <td>5</td>\n",
       "    </tr>\n",
       "    <tr>\n",
       "      <th>6481</th>\n",
       "      <td>6481</td>\n",
       "      <td>Hey guys! A Question for people who live or ha...</td>\n",
       "      <td>auckland</td>\n",
       "      <td>t5_2rd5j</td>\n",
       "      <td>t3_koslf5</td>\n",
       "      <td>ghtakt5</td>\n",
       "      <td>NZ_DiscJockey</td>\n",
       "      <td>I live at the top of Shortland Street, so it’s...</td>\n",
       "      <td>1.609579e+09</td>\n",
       "      <td>2021-01-02 22:14:59</td>\n",
       "      <td>/r/auckland/comments/koslf5/hey_guys_a_questio...</td>\n",
       "      <td>4</td>\n",
       "    </tr>\n",
       "    <tr>\n",
       "      <th>6482</th>\n",
       "      <td>6482</td>\n",
       "      <td>Hey guys! A Question for people who live or ha...</td>\n",
       "      <td>auckland</td>\n",
       "      <td>t5_2rd5j</td>\n",
       "      <td>t3_koslf5</td>\n",
       "      <td>ghtfqk3</td>\n",
       "      <td>C39J</td>\n",
       "      <td>I'm on Anzac Ave, and I think the building I'm...</td>\n",
       "      <td>1.609584e+09</td>\n",
       "      <td>2021-01-02 23:47:59</td>\n",
       "      <td>/r/auckland/comments/koslf5/hey_guys_a_questio...</td>\n",
       "      <td>3</td>\n",
       "    </tr>\n",
       "    <tr>\n",
       "      <th>6483</th>\n",
       "      <td>6483</td>\n",
       "      <td>Hey guys! A Question for people who live or ha...</td>\n",
       "      <td>auckland</td>\n",
       "      <td>t5_2rd5j</td>\n",
       "      <td>t3_koslf5</td>\n",
       "      <td>ght117p</td>\n",
       "      <td>Enzown</td>\n",
       "      <td>&gt;  I’m looking to get an apartment in the CBD ...</td>\n",
       "      <td>1.609570e+09</td>\n",
       "      <td>2021-01-02 19:42:14</td>\n",
       "      <td>/r/auckland/comments/koslf5/hey_guys_a_questio...</td>\n",
       "      <td>7</td>\n",
       "    </tr>\n",
       "    <tr>\n",
       "      <th>6484</th>\n",
       "      <td>6484</td>\n",
       "      <td>Hey guys! A Question for people who live or ha...</td>\n",
       "      <td>auckland</td>\n",
       "      <td>t5_2rd5j</td>\n",
       "      <td>t3_koslf5</td>\n",
       "      <td>gi6puqq</td>\n",
       "      <td>muchmorthanthis</td>\n",
       "      <td>I live in an apartment eden cres, top of short...</td>\n",
       "      <td>1.609860e+09</td>\n",
       "      <td>2021-01-06 04:20:20</td>\n",
       "      <td>/r/auckland/comments/koslf5/hey_guys_a_questio...</td>\n",
       "      <td>2</td>\n",
       "    </tr>\n",
       "    <tr>\n",
       "      <th>6485</th>\n",
       "      <td>6485</td>\n",
       "      <td>Hey guys! A Question for people who live or ha...</td>\n",
       "      <td>auckland</td>\n",
       "      <td>t5_2rd5j</td>\n",
       "      <td>t3_koslf5</td>\n",
       "      <td>ght10mj</td>\n",
       "      <td>voongnz</td>\n",
       "      <td>Heard absolutely nothing from night clubs and ...</td>\n",
       "      <td>1.609570e+09</td>\n",
       "      <td>2021-01-02 19:42:00</td>\n",
       "      <td>/r/auckland/comments/koslf5/hey_guys_a_questio...</td>\n",
       "      <td>3</td>\n",
       "    </tr>\n",
       "    <tr>\n",
       "      <th>6486</th>\n",
       "      <td>6486</td>\n",
       "      <td>Hey guys! A Question for people who live or ha...</td>\n",
       "      <td>auckland</td>\n",
       "      <td>t5_2rd5j</td>\n",
       "      <td>t3_koslf5</td>\n",
       "      <td>ght21qf</td>\n",
       "      <td>NoSignalSpaceCadet</td>\n",
       "      <td>I have lived in the city for years, main noise...</td>\n",
       "      <td>1.609571e+09</td>\n",
       "      <td>2021-01-02 19:56:02</td>\n",
       "      <td>/r/auckland/comments/koslf5/hey_guys_a_questio...</td>\n",
       "      <td>2</td>\n",
       "    </tr>\n",
       "    <tr>\n",
       "      <th>6487</th>\n",
       "      <td>6487</td>\n",
       "      <td>Hey guys! A Question for people who live or ha...</td>\n",
       "      <td>auckland</td>\n",
       "      <td>t5_2rd5j</td>\n",
       "      <td>t3_koslf5</td>\n",
       "      <td>ght9vr0</td>\n",
       "      <td>sitharus</td>\n",
       "      <td>I live on Union Street, no night clubs or bars...</td>\n",
       "      <td>1.609578e+09</td>\n",
       "      <td>2021-01-02 22:02:30</td>\n",
       "      <td>/r/auckland/comments/koslf5/hey_guys_a_questio...</td>\n",
       "      <td>1</td>\n",
       "    </tr>\n",
       "    <tr>\n",
       "      <th>6488</th>\n",
       "      <td>6488</td>\n",
       "      <td>Hey guys! A Question for people who live or ha...</td>\n",
       "      <td>auckland</td>\n",
       "      <td>t5_2rd5j</td>\n",
       "      <td>t3_koslf5</td>\n",
       "      <td>ghta5zi</td>\n",
       "      <td>mikenroe23</td>\n",
       "      <td>Someone I work with is renting an appt in the ...</td>\n",
       "      <td>1.609578e+09</td>\n",
       "      <td>2021-01-02 22:07:37</td>\n",
       "      <td>/r/auckland/comments/koslf5/hey_guys_a_questio...</td>\n",
       "      <td>1</td>\n",
       "    </tr>\n",
       "    <tr>\n",
       "      <th>6489</th>\n",
       "      <td>6489</td>\n",
       "      <td>Hey guys! A Question for people who live or ha...</td>\n",
       "      <td>auckland</td>\n",
       "      <td>t5_2rd5j</td>\n",
       "      <td>t3_koslf5</td>\n",
       "      <td>ghtc73s</td>\n",
       "      <td>fuzzlebuck</td>\n",
       "      <td>Intersection of Kitchener and Victoria, lived ...</td>\n",
       "      <td>1.609581e+09</td>\n",
       "      <td>2021-01-02 22:43:56</td>\n",
       "      <td>/r/auckland/comments/koslf5/hey_guys_a_questio...</td>\n",
       "      <td>1</td>\n",
       "    </tr>\n",
       "    <tr>\n",
       "      <th>6490</th>\n",
       "      <td>6490</td>\n",
       "      <td>Hey guys! A Question for people who live or ha...</td>\n",
       "      <td>auckland</td>\n",
       "      <td>t5_2rd5j</td>\n",
       "      <td>t3_koslf5</td>\n",
       "      <td>gi26j4u</td>\n",
       "      <td>mnsl0826</td>\n",
       "      <td>My apartment is facing Nelson st and City work...</td>\n",
       "      <td>1.609761e+09</td>\n",
       "      <td>2021-01-05 00:57:20</td>\n",
       "      <td>/r/auckland/comments/koslf5/hey_guys_a_questio...</td>\n",
       "      <td>1</td>\n",
       "    </tr>\n",
       "    <tr>\n",
       "      <th>6491</th>\n",
       "      <td>6491</td>\n",
       "      <td>Hey guys! A Question for people who live or ha...</td>\n",
       "      <td>auckland</td>\n",
       "      <td>t5_2rd5j</td>\n",
       "      <td>t3_koslf5</td>\n",
       "      <td>ght0qaj</td>\n",
       "      <td>NaN</td>\n",
       "      <td>i live on k road i dont hear any music just th...</td>\n",
       "      <td>1.609569e+09</td>\n",
       "      <td>2021-01-02 19:38:06</td>\n",
       "      <td>/r/auckland/comments/koslf5/hey_guys_a_questio...</td>\n",
       "      <td>-3</td>\n",
       "    </tr>\n",
       "  </tbody>\n",
       "</table>\n",
       "<p>6492 rows × 12 columns</p>\n",
       "</div>"
      ],
      "text/plain": [
       "      Unnamed: 0                                         post_title  \\\n",
       "0              0  Entitled lady believes she is above lockdown r...   \n",
       "1              1  Entitled lady believes she is above lockdown r...   \n",
       "2              2  Entitled lady believes she is above lockdown r...   \n",
       "3              3  Entitled lady believes she is above lockdown r...   \n",
       "4              4  Entitled lady believes she is above lockdown r...   \n",
       "5              5  Entitled lady believes she is above lockdown r...   \n",
       "6              6  Entitled lady believes she is above lockdown r...   \n",
       "7              7  Entitled lady believes she is above lockdown r...   \n",
       "8              8  Entitled lady believes she is above lockdown r...   \n",
       "9              9  Entitled lady believes she is above lockdown r...   \n",
       "10            10  Entitled lady believes she is above lockdown r...   \n",
       "11            11  Entitled lady believes she is above lockdown r...   \n",
       "12            12  Entitled lady believes she is above lockdown r...   \n",
       "13            13  Entitled lady believes she is above lockdown r...   \n",
       "14            14  Entitled lady believes she is above lockdown r...   \n",
       "15            15  Entitled lady believes she is above lockdown r...   \n",
       "16            16  Entitled lady believes she is above lockdown r...   \n",
       "17            17  Entitled lady believes she is above lockdown r...   \n",
       "18            18  Entitled lady believes she is above lockdown r...   \n",
       "19            19  Entitled lady believes she is above lockdown r...   \n",
       "20            20  Entitled lady believes she is above lockdown r...   \n",
       "21            21  Entitled lady believes she is above lockdown r...   \n",
       "22            22  Entitled lady believes she is above lockdown r...   \n",
       "23            23  Entitled lady believes she is above lockdown r...   \n",
       "24            24  Entitled lady believes she is above lockdown r...   \n",
       "25            25  Entitled lady believes she is above lockdown r...   \n",
       "26            26  Entitled lady believes she is above lockdown r...   \n",
       "27            27  Entitled lady believes she is above lockdown r...   \n",
       "28            28  Entitled lady believes she is above lockdown r...   \n",
       "29            29  Entitled lady believes she is above lockdown r...   \n",
       "...          ...                                                ...   \n",
       "6462        6462                   Free diving courses in Auckland?   \n",
       "6463        6463                   Free diving courses in Auckland?   \n",
       "6464        6464                   Free diving courses in Auckland?   \n",
       "6465        6465                   Free diving courses in Auckland?   \n",
       "6466        6466                   Free diving courses in Auckland?   \n",
       "6467        6467  Is someone able to tell me the name of this pa...   \n",
       "6468        6468  Recommendation for outdoor/hiking/tramping sto...   \n",
       "6469        6469  Recommendation for outdoor/hiking/tramping sto...   \n",
       "6470        6470  Recommendation for outdoor/hiking/tramping sto...   \n",
       "6471        6471  Recommendation for outdoor/hiking/tramping sto...   \n",
       "6472        6472  Recommendation for outdoor/hiking/tramping sto...   \n",
       "6473        6473  Recommendation for outdoor/hiking/tramping sto...   \n",
       "6474        6474  Recommendation for outdoor/hiking/tramping sto...   \n",
       "6475        6475  Hey guys! A Question for people who live or ha...   \n",
       "6476        6476  Hey guys! A Question for people who live or ha...   \n",
       "6477        6477  Hey guys! A Question for people who live or ha...   \n",
       "6478        6478  Hey guys! A Question for people who live or ha...   \n",
       "6479        6479  Hey guys! A Question for people who live or ha...   \n",
       "6480        6480  Hey guys! A Question for people who live or ha...   \n",
       "6481        6481  Hey guys! A Question for people who live or ha...   \n",
       "6482        6482  Hey guys! A Question for people who live or ha...   \n",
       "6483        6483  Hey guys! A Question for people who live or ha...   \n",
       "6484        6484  Hey guys! A Question for people who live or ha...   \n",
       "6485        6485  Hey guys! A Question for people who live or ha...   \n",
       "6486        6486  Hey guys! A Question for people who live or ha...   \n",
       "6487        6487  Hey guys! A Question for people who live or ha...   \n",
       "6488        6488  Hey guys! A Question for people who live or ha...   \n",
       "6489        6489  Hey guys! A Question for people who live or ha...   \n",
       "6490        6490  Hey guys! A Question for people who live or ha...   \n",
       "6491        6491  Hey guys! A Question for people who live or ha...   \n",
       "\n",
       "     subreddit_name subreddit_id    post_id comment_id      comment_author  \\\n",
       "0          auckland     t5_2rd5j  t3_lxwrud    gppj37m            grnathan   \n",
       "1          auckland     t5_2rd5j  t3_lxwrud    gppefqu       petercalmdown   \n",
       "2          auckland     t5_2rd5j  t3_lxwrud    gppmsxg              gtalnz   \n",
       "3          auckland     t5_2rd5j  t3_lxwrud    gpplh3o         B0bDobalina   \n",
       "4          auckland     t5_2rd5j  t3_lxwrud    gppnq9o         noodlebball   \n",
       "5          auckland     t5_2rd5j  t3_lxwrud    gpphbcp         RevakBahJot   \n",
       "6          auckland     t5_2rd5j  t3_lxwrud    gppmi2m            1970lamb   \n",
       "7          auckland     t5_2rd5j  t3_lxwrud    gpphbhu         dyingPretty   \n",
       "8          auckland     t5_2rd5j  t3_lxwrud    gppplnh                GKW_   \n",
       "9          auckland     t5_2rd5j  t3_lxwrud    gppfsod           Mumsacunt   \n",
       "10         auckland     t5_2rd5j  t3_lxwrud    gppthag   TimeToMakeWoofles   \n",
       "11         auckland     t5_2rd5j  t3_lxwrud    gppj50h           nyequistt   \n",
       "12         auckland     t5_2rd5j  t3_lxwrud    gpplioe  therewillbeniccage   \n",
       "13         auckland     t5_2rd5j  t3_lxwrud    gppug74       Here_for_tea_   \n",
       "14         auckland     t5_2rd5j  t3_lxwrud    gppi929          Dragon88NT   \n",
       "15         auckland     t5_2rd5j  t3_lxwrud    gppiiu8             B-man44   \n",
       "16         auckland     t5_2rd5j  t3_lxwrud    gppp298            battsIts   \n",
       "17         auckland     t5_2rd5j  t3_lxwrud    gppsw9x         nzultramper   \n",
       "18         auckland     t5_2rd5j  t3_lxwrud    gppk1j5       YokoOnoNumba1   \n",
       "19         auckland     t5_2rd5j  t3_lxwrud    gppluph              gmannz   \n",
       "20         auckland     t5_2rd5j  t3_lxwrud    gppkl81           jadez7789   \n",
       "21         auckland     t5_2rd5j  t3_lxwrud    gppqmvf    FallenJediKnight   \n",
       "22         auckland     t5_2rd5j  t3_lxwrud    gpprntp             ksnitch   \n",
       "23         auckland     t5_2rd5j  t3_lxwrud    gppt298     deepfriedplease   \n",
       "24         auckland     t5_2rd5j  t3_lxwrud    gppugtq      keepyourwigon2   \n",
       "25         auckland     t5_2rd5j  t3_lxwrud    gpq732v     CreepyHermit489   \n",
       "26         auckland     t5_2rd5j  t3_lxwrud    gppintc       peacheemelons   \n",
       "27         auckland     t5_2rd5j  t3_lxwrud    gppq4kp            Fatality   \n",
       "28         auckland     t5_2rd5j  t3_lxwrud    gpppi8k         Mofonalia76   \n",
       "29         auckland     t5_2rd5j  t3_lxwrud    gppqw8a               MVIVN   \n",
       "...             ...          ...        ...        ...                 ...   \n",
       "6462       auckland     t5_2rd5j  t3_kowtv9    gi5y896           Tall7kiwi   \n",
       "6463       auckland     t5_2rd5j  t3_kowtv9    gi9i9tw      morphinedreams   \n",
       "6464       auckland     t5_2rd5j  t3_kowtv9    ghvvch7   michaelhunt696969   \n",
       "6465       auckland     t5_2rd5j  t3_kowtv9    ghuuz43      Jeremiah_was_a   \n",
       "6466       auckland     t5_2rd5j  t3_kowtv9    ghv6o1s                 NaN   \n",
       "6467       auckland     t5_2rd5j  t3_koxi2v    gihww4a              foopod   \n",
       "6468       auckland     t5_2rd5j  t3_koouke    ghsfgsb              CJonno   \n",
       "6469       auckland     t5_2rd5j  t3_koouke    ghsktyv           dwelfness   \n",
       "6470       auckland     t5_2rd5j  t3_koouke    ghtlub3           taway6782   \n",
       "6471       auckland     t5_2rd5j  t3_koouke    ghskl7x          coconutyum   \n",
       "6472       auckland     t5_2rd5j  t3_koouke    ghsow9g            evilgwyn   \n",
       "6473       auckland     t5_2rd5j  t3_koouke    ghsv4nh        will9million   \n",
       "6474       auckland     t5_2rd5j  t3_koouke    ghv4per                 NaN   \n",
       "6475       auckland     t5_2rd5j  t3_koslf5    ght1ijw        sky_christal   \n",
       "6476       auckland     t5_2rd5j  t3_koslf5    ght5yik              rang14   \n",
       "6477       auckland     t5_2rd5j  t3_koslf5    ghuj0ej        dreamer_0987   \n",
       "6478       auckland     t5_2rd5j  t3_koslf5    ght3ag9               kinow   \n",
       "6479       auckland     t5_2rd5j  t3_koslf5    ght1ghc             acid-nz   \n",
       "6480       auckland     t5_2rd5j  t3_koslf5    ght3dbm          babywoozle   \n",
       "6481       auckland     t5_2rd5j  t3_koslf5    ghtakt5       NZ_DiscJockey   \n",
       "6482       auckland     t5_2rd5j  t3_koslf5    ghtfqk3                C39J   \n",
       "6483       auckland     t5_2rd5j  t3_koslf5    ght117p              Enzown   \n",
       "6484       auckland     t5_2rd5j  t3_koslf5    gi6puqq     muchmorthanthis   \n",
       "6485       auckland     t5_2rd5j  t3_koslf5    ght10mj             voongnz   \n",
       "6486       auckland     t5_2rd5j  t3_koslf5    ght21qf  NoSignalSpaceCadet   \n",
       "6487       auckland     t5_2rd5j  t3_koslf5    ght9vr0            sitharus   \n",
       "6488       auckland     t5_2rd5j  t3_koslf5    ghta5zi          mikenroe23   \n",
       "6489       auckland     t5_2rd5j  t3_koslf5    ghtc73s          fuzzlebuck   \n",
       "6490       auckland     t5_2rd5j  t3_koslf5    gi26j4u            mnsl0826   \n",
       "6491       auckland     t5_2rd5j  t3_koslf5    ght0qaj                 NaN   \n",
       "\n",
       "                                           comment_body   created_utc  \\\n",
       "0     Wait for it.... wait for it.... \"You work for ...  1.614898e+09   \n",
       "1     Shout out Browns Bay police for having the pat...  1.614896e+09   \n",
       "2     That building they are walking towards at the ...  1.614900e+09   \n",
       "3     Karen \"Tell me what law I've broken?\"\\n\\nCop \"...  1.614899e+09   \n",
       "4     Fucked up thing is if you go to her Fb page th...  1.614900e+09   \n",
       "5                                        r/FuckYouKaren  1.614897e+09   \n",
       "6     I got half way through and shut it off.. the w...  1.614900e+09   \n",
       "7     She must of posted this her self. Does she rea...  1.614897e+09   \n",
       "8                         Lol what a train wreck she is  1.614901e+09   \n",
       "9                                              How ugly  1.614896e+09   \n",
       "10    “You are intimidating me” says while chasing them  1.614903e+09   \n",
       "11    FrEeDoM oR cOmMuNiSm\\n\\nYou could tell that th...  1.614898e+09   \n",
       "12    This stuff really gets on my nerves. There are...  1.614899e+09   \n",
       "13    I would have thought this woman would be far t...  1.614904e+09   \n",
       "14    How concerning she is raising children and tea...  1.614898e+09   \n",
       "15               These cops have the patience af Saints  1.614898e+09   \n",
       "16                                     How embarrassing  1.614901e+09   \n",
       "17    Fucks sake. That’s all we need. Mad cows disea...  1.614903e+09   \n",
       "18                 FREEDOM OR COMMUNISIM AHAHAHAHAHAHAH  1.614898e+09   \n",
       "19    Fuck being a cop. \\n\\nI want to snot that big ...  1.614899e+09   \n",
       "20    I found her page on Facebook. The amount of cr...  1.614899e+09   \n",
       "21    Very rude and inconsiderate. She kept interrup...  1.614902e+09   \n",
       "22    This lady freaking annoyed the shit out of me....  1.614902e+09   \n",
       "23            Her voice just grates on my ears...ugh...  1.614903e+09   \n",
       "24                             I'm embarrassed for her.  1.614904e+09   \n",
       "25    I don't know how this video reached the intern...  1.614910e+09   \n",
       "26    This playground was covered in ‘do not cross’ ...  1.614898e+09   \n",
       "27    why do people upload this shit, it's like the ...  1.614902e+09   \n",
       "28                                  Those poor children  1.614901e+09   \n",
       "29    I saw she shared a link on her Facebook about ...  1.614902e+09   \n",
       "...                                                 ...           ...   \n",
       "6462  I joined the Auckland Freediving Club a few ye...  1.609839e+09   \n",
       "6463  Not a freediving instructor, nor do I know Auc...  1.609904e+09   \n",
       "6464  A better question would be 'What value could y...  1.609637e+09   \n",
       "6465  Tauranga needs the. Folk here couldn't drive p...  1.609618e+09   \n",
       "6466                                          [deleted]  1.609624e+09   \n",
       "6467                               I think it's Mt Eden  1.610072e+09   \n",
       "6468  [https://www.bivouac.co.nz/](https://www.bivou...  1.609556e+09   \n",
       "6469  I'm not really doing any serious hiking, so I ...  1.609559e+09   \n",
       "6470  Kathmandu at dress mart onehunga has massive d...  1.609591e+09   \n",
       "6471  Macpac, Mountain Warehouse, Kathmandu as well ...  1.609559e+09   \n",
       "6472  On queen Street there is a decent bivouac stor...  1.609561e+09   \n",
       "6473  Earth Sea Sky hydrophobia jacket from Outdoor ...  1.609565e+09   \n",
       "6474                                          [deleted]  1.609623e+09   \n",
       "6475  I'm at the top of symonds st, the traffic and ...  1.609570e+09   \n",
       "6476  I used to live in an apartment on Queent Stree...  1.609574e+09   \n",
       "6477  I have never slept better than I did while liv...  1.609611e+09   \n",
       "6478  I live between High/Albert. I can hear the mus...  1.609572e+09   \n",
       "6479  I used to live on K Road and I did. However I ...  1.609570e+09   \n",
       "6480  I used to live on beach road and I’d only get ...  1.609572e+09   \n",
       "6481  I live at the top of Shortland Street, so it’s...  1.609579e+09   \n",
       "6482  I'm on Anzac Ave, and I think the building I'm...  1.609584e+09   \n",
       "6483  >  I’m looking to get an apartment in the CBD ...  1.609570e+09   \n",
       "6484  I live in an apartment eden cres, top of short...  1.609860e+09   \n",
       "6485  Heard absolutely nothing from night clubs and ...  1.609570e+09   \n",
       "6486  I have lived in the city for years, main noise...  1.609571e+09   \n",
       "6487  I live on Union Street, no night clubs or bars...  1.609578e+09   \n",
       "6488  Someone I work with is renting an appt in the ...  1.609578e+09   \n",
       "6489  Intersection of Kitchener and Victoria, lived ...  1.609581e+09   \n",
       "6490  My apartment is facing Nelson st and City work...  1.609761e+09   \n",
       "6491  i live on k road i dont hear any music just th...  1.609569e+09   \n",
       "\n",
       "        created_datetime                                          permalink  \\\n",
       "0    2021-03-05 11:47:22  /r/auckland/comments/lxwrud/entitled_lady_beli...   \n",
       "1    2021-03-05 11:11:00  /r/auckland/comments/lxwrud/entitled_lady_beli...   \n",
       "2    2021-03-05 12:17:17  /r/auckland/comments/lxwrud/entitled_lady_beli...   \n",
       "3    2021-03-05 12:06:21  /r/auckland/comments/lxwrud/entitled_lady_beli...   \n",
       "4    2021-03-05 12:24:59  /r/auckland/comments/lxwrud/entitled_lady_beli...   \n",
       "5    2021-03-05 11:33:14  /r/auckland/comments/lxwrud/entitled_lady_beli...   \n",
       "6    2021-03-05 12:14:49  /r/auckland/comments/lxwrud/entitled_lady_beli...   \n",
       "7    2021-03-05 11:33:16  /r/auckland/comments/lxwrud/entitled_lady_beli...   \n",
       "8    2021-03-05 12:40:38  /r/auckland/comments/lxwrud/entitled_lady_beli...   \n",
       "9    2021-03-05 11:21:19  /r/auckland/comments/lxwrud/entitled_lady_beli...   \n",
       "10   2021-03-05 13:13:45  /r/auckland/comments/lxwrud/entitled_lady_beli...   \n",
       "11   2021-03-05 11:47:46  /r/auckland/comments/lxwrud/entitled_lady_beli...   \n",
       "12   2021-03-05 12:06:44  /r/auckland/comments/lxwrud/entitled_lady_beli...   \n",
       "13   2021-03-05 13:21:51  /r/auckland/comments/lxwrud/entitled_lady_beli...   \n",
       "14   2021-03-05 11:40:38  /r/auckland/comments/lxwrud/entitled_lady_beli...   \n",
       "15   2021-03-05 11:42:50  /r/auckland/comments/lxwrud/entitled_lady_beli...   \n",
       "16   2021-03-05 12:36:06  /r/auckland/comments/lxwrud/entitled_lady_beli...   \n",
       "17   2021-03-05 13:08:49  /r/auckland/comments/lxwrud/entitled_lady_beli...   \n",
       "18   2021-03-05 11:54:51  /r/auckland/comments/lxwrud/entitled_lady_beli...   \n",
       "19   2021-03-05 12:09:27  /r/auckland/comments/lxwrud/entitled_lady_beli...   \n",
       "20   2021-03-05 11:59:13  /r/auckland/comments/lxwrud/entitled_lady_beli...   \n",
       "21   2021-03-05 12:49:26  /r/auckland/comments/lxwrud/entitled_lady_beli...   \n",
       "22   2021-03-05 12:58:12  /r/auckland/comments/lxwrud/entitled_lady_beli...   \n",
       "23   2021-03-05 13:10:13  /r/auckland/comments/lxwrud/entitled_lady_beli...   \n",
       "24   2021-03-05 13:22:00  /r/auckland/comments/lxwrud/entitled_lady_beli...   \n",
       "25   2021-03-05 15:10:58  /r/auckland/comments/lxwrud/entitled_lady_beli...   \n",
       "26   2021-03-05 11:43:57  /r/auckland/comments/lxwrud/entitled_lady_beli...   \n",
       "27   2021-03-05 12:45:03  /r/auckland/comments/lxwrud/entitled_lady_beli...   \n",
       "28   2021-03-05 12:39:49  /r/auckland/comments/lxwrud/entitled_lady_beli...   \n",
       "29   2021-03-05 12:51:38  /r/auckland/comments/lxwrud/entitled_lady_beli...   \n",
       "...                  ...                                                ...   \n",
       "6462 2021-01-05 22:27:11  /r/auckland/comments/kowtv9/free_diving_course...   \n",
       "6463 2021-01-06 16:27:10  /r/auckland/comments/kowtv9/free_diving_course...   \n",
       "6464 2021-01-03 14:19:37  /r/auckland/comments/kowtv9/free_diving_course...   \n",
       "6465 2021-01-03 09:00:12  /r/auckland/comments/kowtv9/free_diving_course...   \n",
       "6466 2021-01-03 10:40:39  /r/auckland/comments/kowtv9/free_diving_course...   \n",
       "6467 2021-01-08 15:21:39  /r/auckland/comments/koxi2v/is_someone_able_to...   \n",
       "6468 2021-01-02 15:54:43  /r/auckland/comments/koouke/recommendation_for...   \n",
       "6469 2021-01-02 16:45:19  /r/auckland/comments/koouke/recommendation_for...   \n",
       "6470 2021-01-03 01:35:12  /r/auckland/comments/koouke/recommendation_for...   \n",
       "6471 2021-01-02 16:43:01  /r/auckland/comments/koouke/recommendation_for...   \n",
       "6472 2021-01-02 17:23:26  /r/auckland/comments/koouke/recommendation_for...   \n",
       "6473 2021-01-02 18:28:17  /r/auckland/comments/koouke/recommendation_for...   \n",
       "6474 2021-01-03 10:23:41  /r/auckland/comments/koouke/recommendation_for...   \n",
       "6475 2021-01-02 19:48:44  /r/auckland/comments/koslf5/hey_guys_a_questio...   \n",
       "6476 2021-01-02 20:55:52  /r/auckland/comments/koslf5/hey_guys_a_questio...   \n",
       "6477 2021-01-03 07:17:43  /r/auckland/comments/koslf5/hey_guys_a_questio...   \n",
       "6478 2021-01-02 20:14:05  /r/auckland/comments/koslf5/hey_guys_a_questio...   \n",
       "6479 2021-01-02 19:47:59  /r/auckland/comments/koslf5/hey_guys_a_questio...   \n",
       "6480 2021-01-02 20:15:16  /r/auckland/comments/koslf5/hey_guys_a_questio...   \n",
       "6481 2021-01-02 22:14:59  /r/auckland/comments/koslf5/hey_guys_a_questio...   \n",
       "6482 2021-01-02 23:47:59  /r/auckland/comments/koslf5/hey_guys_a_questio...   \n",
       "6483 2021-01-02 19:42:14  /r/auckland/comments/koslf5/hey_guys_a_questio...   \n",
       "6484 2021-01-06 04:20:20  /r/auckland/comments/koslf5/hey_guys_a_questio...   \n",
       "6485 2021-01-02 19:42:00  /r/auckland/comments/koslf5/hey_guys_a_questio...   \n",
       "6486 2021-01-02 19:56:02  /r/auckland/comments/koslf5/hey_guys_a_questio...   \n",
       "6487 2021-01-02 22:02:30  /r/auckland/comments/koslf5/hey_guys_a_questio...   \n",
       "6488 2021-01-02 22:07:37  /r/auckland/comments/koslf5/hey_guys_a_questio...   \n",
       "6489 2021-01-02 22:43:56  /r/auckland/comments/koslf5/hey_guys_a_questio...   \n",
       "6490 2021-01-05 00:57:20  /r/auckland/comments/koslf5/hey_guys_a_questio...   \n",
       "6491 2021-01-02 19:38:06  /r/auckland/comments/koslf5/hey_guys_a_questio...   \n",
       "\n",
       "      comment_score  \n",
       "0               133  \n",
       "1               283  \n",
       "2                56  \n",
       "3               152  \n",
       "4                30  \n",
       "5                83  \n",
       "6                83  \n",
       "7                88  \n",
       "8                16  \n",
       "9                44  \n",
       "10               14  \n",
       "11               69  \n",
       "12               54  \n",
       "13               11  \n",
       "14               44  \n",
       "15               44  \n",
       "16                9  \n",
       "17                9  \n",
       "18               21  \n",
       "19               41  \n",
       "20               27  \n",
       "21               16  \n",
       "22                5  \n",
       "23                5  \n",
       "24                5  \n",
       "25                6  \n",
       "26               16  \n",
       "27               15  \n",
       "28               15  \n",
       "29               14  \n",
       "...             ...  \n",
       "6462              2  \n",
       "6463              1  \n",
       "6464              0  \n",
       "6465             -3  \n",
       "6466             -3  \n",
       "6467              1  \n",
       "6468             12  \n",
       "6469             22  \n",
       "6470              3  \n",
       "6471              5  \n",
       "6472              3  \n",
       "6473              1  \n",
       "6474              1  \n",
       "6475             14  \n",
       "6476             11  \n",
       "6477              7  \n",
       "6478              6  \n",
       "6479             11  \n",
       "6480              5  \n",
       "6481              4  \n",
       "6482              3  \n",
       "6483              7  \n",
       "6484              2  \n",
       "6485              3  \n",
       "6486              2  \n",
       "6487              1  \n",
       "6488              1  \n",
       "6489              1  \n",
       "6490              1  \n",
       "6491             -3  \n",
       "\n",
       "[6492 rows x 12 columns]"
      ]
     },
     "execution_count": 86,
     "metadata": {},
     "output_type": "execute_result"
    }
   ],
   "source": [
    "# lets take a look at what pandas sees\n",
    "# by defualt, pandas loads the top and bottom 10 items when we ask for information\n",
    "filename=\"old_rAuckland_top_comments.csv\"\n",
    "rAuckland_df = pd.read_csv(filename,parse_dates=[\"created_datetime\"]) # read the file and parse the datetime test as pandas datetime objets\n",
    "\n",
    "# reddit_df\n",
    "rAuckland_df"
   ]
  },
  {
   "cell_type": "code",
   "execution_count": null,
   "metadata": {
    "slideshow": {
     "slide_type": "slide"
    }
   },
   "outputs": [],
   "source": [
    "# what are the stats of this?\n",
    "rAuckland_df.describe()"
   ]
  },
  {
   "cell_type": "markdown",
   "metadata": {
    "slideshow": {
     "slide_type": "slide"
    }
   },
   "source": [
    "### we can go deeper\n",
    "- getting all the posts was cool, but waht would be really cool would be to see all the comments posted in the posts\n",
    "- lets try and get every top level comment for every post ever made in r/Auckland"
   ]
  },
  {
   "cell_type": "code",
   "execution_count": null,
   "metadata": {
    "slideshow": {
     "slide_type": "slide"
    }
   },
   "outputs": [],
   "source": [
    "# lets now put everything together into a master table of all the top posts from all the \n",
    "# top 1000 hot posts on the subreddit \n",
    "\n",
    "# create a dictionary object that will house all of our data for the time being, \n",
    "# until we load it all into the Pandas Dataframe\n",
    "# same as before\n",
    "top_comments = {\n",
    "    \"post_title\":[],\n",
    "    \"subreddit_name\":[],\n",
    "    \"subreddit_id\":[],\n",
    "    \"post_id\":[],\n",
    "    \"comment_id\":[],\n",
    "    \"comment_author\":[],\n",
    "    \"comment_body\":[],\n",
    "    \"created_utc\":[],\n",
    "    \"created_datetime\":[],\n",
    "    \"permalink\":[],\n",
    "    \"comment_score\":[],\n",
    "    }"
   ]
  },
  {
   "cell_type": "markdown",
   "metadata": {},
   "source": [
    "### two layer deep loops\n",
    "- remember how we can have an array inside an array?\n",
    "- well we can have a loop inside a loop!\n",
    "  - here we are just getting all the comments, for every post and adding it to a big master list\n",
    "- the code below has all been commented out to remind me not to run it. \n",
    "  - it all works, it just takes a while and I don't want to waste out time waiting for all the comments to download"
   ]
  },
  {
   "cell_type": "code",
   "execution_count": null,
   "metadata": {
    "slideshow": {
     "slide_type": "slide"
    }
   },
   "outputs": [],
   "source": [
    "# OK This one is going to be a bit of a doozey, but its not that hard really. we just need to follow the logic\n",
    "# 1. for each of the top posts that we have gathered in the preceding dataframe\n",
    "# 2. go through each of the top comments in the post\n",
    "# 3. store the data in that top post as new data in the top_comments dictionary\n",
    "\n",
    "# first, for each id in the rAuckland DataFrame\n",
    "# for p in rAuckland_df[\"id\"]:\n",
    "#     current_post = reddit.submission(id=p) # get the data from the submission/post\n",
    "\n",
    "#     # now, lets loop through the top level comments in the submission/post\n",
    "#     for top_level_comment in current_post.comments:\n",
    "#         if isinstance(top_level_comment, MoreComments): # this is a little helper to make sure data exists\n",
    "#             continue\n",
    "#         top_comments[\"post_title\"].append(top_level_comment.submission.title)\n",
    "#         top_comments[\"subreddit_name\"].append(top_level_comment.subreddit.display_name)\n",
    "#         top_comments[\"subreddit_id\"].append(top_level_comment.subreddit_id)\n",
    "#         top_comments[\"post_id\"].append(top_level_comment.parent_id)\n",
    "#         top_comments[\"comment_id\"].append(top_level_comment.id)\n",
    "#         top_comments[\"comment_author\"].append(top_level_comment.author)\n",
    "#         top_comments[\"comment_body\"].append(top_level_comment.body)\n",
    "#         top_comments[\"created_utc\"].append(top_level_comment.created_utc)\n",
    "#         top_comments[\"created_datetime\"].append(dt.datetime.fromtimestamp(top_level_comment.created_utc))\n",
    "#         top_comments[\"permalink\"].append(top_level_comment.permalink)\n",
    "#         top_comments[\"comment_score\"].append(top_level_comment.score)\n",
    "        \n",
    "# # # And thats it! We have amde a master list of all the top comments for the top n posts of the reddit of interest!\n",
    "# # create a pandas dataframe from the dictionary  \n",
    "# reddit_df = pd.DataFrame (top_comments) \n",
    "\n",
    "# # and save for later\n",
    "# filename=\"rAuckland_top_comments.csv\"\n",
    "# reddit_df.to_csv(filename)"
   ]
  },
  {
   "cell_type": "markdown",
   "metadata": {
    "slideshow": {
     "slide_type": "slide"
    }
   },
   "source": [
    "### Thats going to take a while...\n",
    "- actually its pretty fast given how much data its asking for\n",
    "- but in the meantime we can load the data that came with this folder for the lecture that I created ahead of time"
   ]
  },
  {
   "cell_type": "code",
   "execution_count": 88,
   "metadata": {
    "slideshow": {
     "slide_type": "fragment"
    }
   },
   "outputs": [
    {
     "data": {
      "text/html": [
       "<div>\n",
       "<style scoped>\n",
       "    .dataframe tbody tr th:only-of-type {\n",
       "        vertical-align: middle;\n",
       "    }\n",
       "\n",
       "    .dataframe tbody tr th {\n",
       "        vertical-align: top;\n",
       "    }\n",
       "\n",
       "    .dataframe thead th {\n",
       "        text-align: right;\n",
       "    }\n",
       "</style>\n",
       "<table border=\"1\" class=\"dataframe\">\n",
       "  <thead>\n",
       "    <tr style=\"text-align: right;\">\n",
       "      <th></th>\n",
       "      <th>Unnamed: 0</th>\n",
       "      <th>post_title</th>\n",
       "      <th>subreddit_name</th>\n",
       "      <th>subreddit_id</th>\n",
       "      <th>post_id</th>\n",
       "      <th>comment_id</th>\n",
       "      <th>comment_author</th>\n",
       "      <th>comment_body</th>\n",
       "      <th>created_utc</th>\n",
       "      <th>created_datetime</th>\n",
       "      <th>permalink</th>\n",
       "      <th>comment_score</th>\n",
       "    </tr>\n",
       "  </thead>\n",
       "  <tbody>\n",
       "    <tr>\n",
       "      <th>0</th>\n",
       "      <td>0</td>\n",
       "      <td>Entitled lady believes she is above lockdown r...</td>\n",
       "      <td>auckland</td>\n",
       "      <td>t5_2rd5j</td>\n",
       "      <td>t3_lxwrud</td>\n",
       "      <td>gppj37m</td>\n",
       "      <td>grnathan</td>\n",
       "      <td>Wait for it.... wait for it.... \"You work for ...</td>\n",
       "      <td>1.614898e+09</td>\n",
       "      <td>2021-03-05 11:47:22</td>\n",
       "      <td>/r/auckland/comments/lxwrud/entitled_lady_beli...</td>\n",
       "      <td>133</td>\n",
       "    </tr>\n",
       "    <tr>\n",
       "      <th>1</th>\n",
       "      <td>1</td>\n",
       "      <td>Entitled lady believes she is above lockdown r...</td>\n",
       "      <td>auckland</td>\n",
       "      <td>t5_2rd5j</td>\n",
       "      <td>t3_lxwrud</td>\n",
       "      <td>gppefqu</td>\n",
       "      <td>petercalmdown</td>\n",
       "      <td>Shout out Browns Bay police for having the pat...</td>\n",
       "      <td>1.614896e+09</td>\n",
       "      <td>2021-03-05 11:11:00</td>\n",
       "      <td>/r/auckland/comments/lxwrud/entitled_lady_beli...</td>\n",
       "      <td>283</td>\n",
       "    </tr>\n",
       "    <tr>\n",
       "      <th>2</th>\n",
       "      <td>2</td>\n",
       "      <td>Entitled lady believes she is above lockdown r...</td>\n",
       "      <td>auckland</td>\n",
       "      <td>t5_2rd5j</td>\n",
       "      <td>t3_lxwrud</td>\n",
       "      <td>gppmsxg</td>\n",
       "      <td>gtalnz</td>\n",
       "      <td>That building they are walking towards at the ...</td>\n",
       "      <td>1.614900e+09</td>\n",
       "      <td>2021-03-05 12:17:17</td>\n",
       "      <td>/r/auckland/comments/lxwrud/entitled_lady_beli...</td>\n",
       "      <td>56</td>\n",
       "    </tr>\n",
       "    <tr>\n",
       "      <th>3</th>\n",
       "      <td>3</td>\n",
       "      <td>Entitled lady believes she is above lockdown r...</td>\n",
       "      <td>auckland</td>\n",
       "      <td>t5_2rd5j</td>\n",
       "      <td>t3_lxwrud</td>\n",
       "      <td>gpplh3o</td>\n",
       "      <td>B0bDobalina</td>\n",
       "      <td>Karen \"Tell me what law I've broken?\"\\n\\nCop \"...</td>\n",
       "      <td>1.614899e+09</td>\n",
       "      <td>2021-03-05 12:06:21</td>\n",
       "      <td>/r/auckland/comments/lxwrud/entitled_lady_beli...</td>\n",
       "      <td>152</td>\n",
       "    </tr>\n",
       "    <tr>\n",
       "      <th>4</th>\n",
       "      <td>4</td>\n",
       "      <td>Entitled lady believes she is above lockdown r...</td>\n",
       "      <td>auckland</td>\n",
       "      <td>t5_2rd5j</td>\n",
       "      <td>t3_lxwrud</td>\n",
       "      <td>gppnq9o</td>\n",
       "      <td>noodlebball</td>\n",
       "      <td>Fucked up thing is if you go to her Fb page th...</td>\n",
       "      <td>1.614900e+09</td>\n",
       "      <td>2021-03-05 12:24:59</td>\n",
       "      <td>/r/auckland/comments/lxwrud/entitled_lady_beli...</td>\n",
       "      <td>30</td>\n",
       "    </tr>\n",
       "    <tr>\n",
       "      <th>5</th>\n",
       "      <td>5</td>\n",
       "      <td>Entitled lady believes she is above lockdown r...</td>\n",
       "      <td>auckland</td>\n",
       "      <td>t5_2rd5j</td>\n",
       "      <td>t3_lxwrud</td>\n",
       "      <td>gpphbcp</td>\n",
       "      <td>RevakBahJot</td>\n",
       "      <td>r/FuckYouKaren</td>\n",
       "      <td>1.614897e+09</td>\n",
       "      <td>2021-03-05 11:33:14</td>\n",
       "      <td>/r/auckland/comments/lxwrud/entitled_lady_beli...</td>\n",
       "      <td>83</td>\n",
       "    </tr>\n",
       "    <tr>\n",
       "      <th>6</th>\n",
       "      <td>6</td>\n",
       "      <td>Entitled lady believes she is above lockdown r...</td>\n",
       "      <td>auckland</td>\n",
       "      <td>t5_2rd5j</td>\n",
       "      <td>t3_lxwrud</td>\n",
       "      <td>gppmi2m</td>\n",
       "      <td>1970lamb</td>\n",
       "      <td>I got half way through and shut it off.. the w...</td>\n",
       "      <td>1.614900e+09</td>\n",
       "      <td>2021-03-05 12:14:49</td>\n",
       "      <td>/r/auckland/comments/lxwrud/entitled_lady_beli...</td>\n",
       "      <td>83</td>\n",
       "    </tr>\n",
       "    <tr>\n",
       "      <th>7</th>\n",
       "      <td>7</td>\n",
       "      <td>Entitled lady believes she is above lockdown r...</td>\n",
       "      <td>auckland</td>\n",
       "      <td>t5_2rd5j</td>\n",
       "      <td>t3_lxwrud</td>\n",
       "      <td>gpphbhu</td>\n",
       "      <td>dyingPretty</td>\n",
       "      <td>She must of posted this her self. Does she rea...</td>\n",
       "      <td>1.614897e+09</td>\n",
       "      <td>2021-03-05 11:33:16</td>\n",
       "      <td>/r/auckland/comments/lxwrud/entitled_lady_beli...</td>\n",
       "      <td>88</td>\n",
       "    </tr>\n",
       "    <tr>\n",
       "      <th>8</th>\n",
       "      <td>8</td>\n",
       "      <td>Entitled lady believes she is above lockdown r...</td>\n",
       "      <td>auckland</td>\n",
       "      <td>t5_2rd5j</td>\n",
       "      <td>t3_lxwrud</td>\n",
       "      <td>gppplnh</td>\n",
       "      <td>GKW_</td>\n",
       "      <td>Lol what a train wreck she is</td>\n",
       "      <td>1.614901e+09</td>\n",
       "      <td>2021-03-05 12:40:38</td>\n",
       "      <td>/r/auckland/comments/lxwrud/entitled_lady_beli...</td>\n",
       "      <td>16</td>\n",
       "    </tr>\n",
       "    <tr>\n",
       "      <th>9</th>\n",
       "      <td>9</td>\n",
       "      <td>Entitled lady believes she is above lockdown r...</td>\n",
       "      <td>auckland</td>\n",
       "      <td>t5_2rd5j</td>\n",
       "      <td>t3_lxwrud</td>\n",
       "      <td>gppfsod</td>\n",
       "      <td>Mumsacunt</td>\n",
       "      <td>How ugly</td>\n",
       "      <td>1.614896e+09</td>\n",
       "      <td>2021-03-05 11:21:19</td>\n",
       "      <td>/r/auckland/comments/lxwrud/entitled_lady_beli...</td>\n",
       "      <td>44</td>\n",
       "    </tr>\n",
       "    <tr>\n",
       "      <th>10</th>\n",
       "      <td>10</td>\n",
       "      <td>Entitled lady believes she is above lockdown r...</td>\n",
       "      <td>auckland</td>\n",
       "      <td>t5_2rd5j</td>\n",
       "      <td>t3_lxwrud</td>\n",
       "      <td>gppthag</td>\n",
       "      <td>TimeToMakeWoofles</td>\n",
       "      <td>“You are intimidating me” says while chasing them</td>\n",
       "      <td>1.614903e+09</td>\n",
       "      <td>2021-03-05 13:13:45</td>\n",
       "      <td>/r/auckland/comments/lxwrud/entitled_lady_beli...</td>\n",
       "      <td>14</td>\n",
       "    </tr>\n",
       "    <tr>\n",
       "      <th>11</th>\n",
       "      <td>11</td>\n",
       "      <td>Entitled lady believes she is above lockdown r...</td>\n",
       "      <td>auckland</td>\n",
       "      <td>t5_2rd5j</td>\n",
       "      <td>t3_lxwrud</td>\n",
       "      <td>gppj50h</td>\n",
       "      <td>nyequistt</td>\n",
       "      <td>FrEeDoM oR cOmMuNiSm\\n\\nYou could tell that th...</td>\n",
       "      <td>1.614898e+09</td>\n",
       "      <td>2021-03-05 11:47:46</td>\n",
       "      <td>/r/auckland/comments/lxwrud/entitled_lady_beli...</td>\n",
       "      <td>69</td>\n",
       "    </tr>\n",
       "    <tr>\n",
       "      <th>12</th>\n",
       "      <td>12</td>\n",
       "      <td>Entitled lady believes she is above lockdown r...</td>\n",
       "      <td>auckland</td>\n",
       "      <td>t5_2rd5j</td>\n",
       "      <td>t3_lxwrud</td>\n",
       "      <td>gpplioe</td>\n",
       "      <td>therewillbeniccage</td>\n",
       "      <td>This stuff really gets on my nerves. There are...</td>\n",
       "      <td>1.614899e+09</td>\n",
       "      <td>2021-03-05 12:06:44</td>\n",
       "      <td>/r/auckland/comments/lxwrud/entitled_lady_beli...</td>\n",
       "      <td>54</td>\n",
       "    </tr>\n",
       "    <tr>\n",
       "      <th>13</th>\n",
       "      <td>13</td>\n",
       "      <td>Entitled lady believes she is above lockdown r...</td>\n",
       "      <td>auckland</td>\n",
       "      <td>t5_2rd5j</td>\n",
       "      <td>t3_lxwrud</td>\n",
       "      <td>gppug74</td>\n",
       "      <td>Here_for_tea_</td>\n",
       "      <td>I would have thought this woman would be far t...</td>\n",
       "      <td>1.614904e+09</td>\n",
       "      <td>2021-03-05 13:21:51</td>\n",
       "      <td>/r/auckland/comments/lxwrud/entitled_lady_beli...</td>\n",
       "      <td>11</td>\n",
       "    </tr>\n",
       "    <tr>\n",
       "      <th>14</th>\n",
       "      <td>14</td>\n",
       "      <td>Entitled lady believes she is above lockdown r...</td>\n",
       "      <td>auckland</td>\n",
       "      <td>t5_2rd5j</td>\n",
       "      <td>t3_lxwrud</td>\n",
       "      <td>gppi929</td>\n",
       "      <td>Dragon88NT</td>\n",
       "      <td>How concerning she is raising children and tea...</td>\n",
       "      <td>1.614898e+09</td>\n",
       "      <td>2021-03-05 11:40:38</td>\n",
       "      <td>/r/auckland/comments/lxwrud/entitled_lady_beli...</td>\n",
       "      <td>44</td>\n",
       "    </tr>\n",
       "    <tr>\n",
       "      <th>15</th>\n",
       "      <td>15</td>\n",
       "      <td>Entitled lady believes she is above lockdown r...</td>\n",
       "      <td>auckland</td>\n",
       "      <td>t5_2rd5j</td>\n",
       "      <td>t3_lxwrud</td>\n",
       "      <td>gppiiu8</td>\n",
       "      <td>B-man44</td>\n",
       "      <td>These cops have the patience af Saints</td>\n",
       "      <td>1.614898e+09</td>\n",
       "      <td>2021-03-05 11:42:50</td>\n",
       "      <td>/r/auckland/comments/lxwrud/entitled_lady_beli...</td>\n",
       "      <td>44</td>\n",
       "    </tr>\n",
       "    <tr>\n",
       "      <th>16</th>\n",
       "      <td>16</td>\n",
       "      <td>Entitled lady believes she is above lockdown r...</td>\n",
       "      <td>auckland</td>\n",
       "      <td>t5_2rd5j</td>\n",
       "      <td>t3_lxwrud</td>\n",
       "      <td>gppp298</td>\n",
       "      <td>battsIts</td>\n",
       "      <td>How embarrassing</td>\n",
       "      <td>1.614901e+09</td>\n",
       "      <td>2021-03-05 12:36:06</td>\n",
       "      <td>/r/auckland/comments/lxwrud/entitled_lady_beli...</td>\n",
       "      <td>9</td>\n",
       "    </tr>\n",
       "    <tr>\n",
       "      <th>17</th>\n",
       "      <td>17</td>\n",
       "      <td>Entitled lady believes she is above lockdown r...</td>\n",
       "      <td>auckland</td>\n",
       "      <td>t5_2rd5j</td>\n",
       "      <td>t3_lxwrud</td>\n",
       "      <td>gppsw9x</td>\n",
       "      <td>nzultramper</td>\n",
       "      <td>Fucks sake. That’s all we need. Mad cows disea...</td>\n",
       "      <td>1.614903e+09</td>\n",
       "      <td>2021-03-05 13:08:49</td>\n",
       "      <td>/r/auckland/comments/lxwrud/entitled_lady_beli...</td>\n",
       "      <td>9</td>\n",
       "    </tr>\n",
       "    <tr>\n",
       "      <th>18</th>\n",
       "      <td>18</td>\n",
       "      <td>Entitled lady believes she is above lockdown r...</td>\n",
       "      <td>auckland</td>\n",
       "      <td>t5_2rd5j</td>\n",
       "      <td>t3_lxwrud</td>\n",
       "      <td>gppk1j5</td>\n",
       "      <td>YokoOnoNumba1</td>\n",
       "      <td>FREEDOM OR COMMUNISIM AHAHAHAHAHAHAH</td>\n",
       "      <td>1.614898e+09</td>\n",
       "      <td>2021-03-05 11:54:51</td>\n",
       "      <td>/r/auckland/comments/lxwrud/entitled_lady_beli...</td>\n",
       "      <td>21</td>\n",
       "    </tr>\n",
       "    <tr>\n",
       "      <th>19</th>\n",
       "      <td>19</td>\n",
       "      <td>Entitled lady believes she is above lockdown r...</td>\n",
       "      <td>auckland</td>\n",
       "      <td>t5_2rd5j</td>\n",
       "      <td>t3_lxwrud</td>\n",
       "      <td>gppluph</td>\n",
       "      <td>gmannz</td>\n",
       "      <td>Fuck being a cop. \\n\\nI want to snot that big ...</td>\n",
       "      <td>1.614899e+09</td>\n",
       "      <td>2021-03-05 12:09:27</td>\n",
       "      <td>/r/auckland/comments/lxwrud/entitled_lady_beli...</td>\n",
       "      <td>41</td>\n",
       "    </tr>\n",
       "    <tr>\n",
       "      <th>20</th>\n",
       "      <td>20</td>\n",
       "      <td>Entitled lady believes she is above lockdown r...</td>\n",
       "      <td>auckland</td>\n",
       "      <td>t5_2rd5j</td>\n",
       "      <td>t3_lxwrud</td>\n",
       "      <td>gppkl81</td>\n",
       "      <td>jadez7789</td>\n",
       "      <td>I found her page on Facebook. The amount of cr...</td>\n",
       "      <td>1.614899e+09</td>\n",
       "      <td>2021-03-05 11:59:13</td>\n",
       "      <td>/r/auckland/comments/lxwrud/entitled_lady_beli...</td>\n",
       "      <td>27</td>\n",
       "    </tr>\n",
       "    <tr>\n",
       "      <th>21</th>\n",
       "      <td>21</td>\n",
       "      <td>Entitled lady believes she is above lockdown r...</td>\n",
       "      <td>auckland</td>\n",
       "      <td>t5_2rd5j</td>\n",
       "      <td>t3_lxwrud</td>\n",
       "      <td>gppqmvf</td>\n",
       "      <td>FallenJediKnight</td>\n",
       "      <td>Very rude and inconsiderate. She kept interrup...</td>\n",
       "      <td>1.614902e+09</td>\n",
       "      <td>2021-03-05 12:49:26</td>\n",
       "      <td>/r/auckland/comments/lxwrud/entitled_lady_beli...</td>\n",
       "      <td>16</td>\n",
       "    </tr>\n",
       "    <tr>\n",
       "      <th>22</th>\n",
       "      <td>22</td>\n",
       "      <td>Entitled lady believes she is above lockdown r...</td>\n",
       "      <td>auckland</td>\n",
       "      <td>t5_2rd5j</td>\n",
       "      <td>t3_lxwrud</td>\n",
       "      <td>gpprntp</td>\n",
       "      <td>ksnitch</td>\n",
       "      <td>This lady freaking annoyed the shit out of me....</td>\n",
       "      <td>1.614902e+09</td>\n",
       "      <td>2021-03-05 12:58:12</td>\n",
       "      <td>/r/auckland/comments/lxwrud/entitled_lady_beli...</td>\n",
       "      <td>5</td>\n",
       "    </tr>\n",
       "    <tr>\n",
       "      <th>23</th>\n",
       "      <td>23</td>\n",
       "      <td>Entitled lady believes she is above lockdown r...</td>\n",
       "      <td>auckland</td>\n",
       "      <td>t5_2rd5j</td>\n",
       "      <td>t3_lxwrud</td>\n",
       "      <td>gppt298</td>\n",
       "      <td>deepfriedplease</td>\n",
       "      <td>Her voice just grates on my ears...ugh...</td>\n",
       "      <td>1.614903e+09</td>\n",
       "      <td>2021-03-05 13:10:13</td>\n",
       "      <td>/r/auckland/comments/lxwrud/entitled_lady_beli...</td>\n",
       "      <td>5</td>\n",
       "    </tr>\n",
       "    <tr>\n",
       "      <th>24</th>\n",
       "      <td>24</td>\n",
       "      <td>Entitled lady believes she is above lockdown r...</td>\n",
       "      <td>auckland</td>\n",
       "      <td>t5_2rd5j</td>\n",
       "      <td>t3_lxwrud</td>\n",
       "      <td>gppugtq</td>\n",
       "      <td>keepyourwigon2</td>\n",
       "      <td>I'm embarrassed for her.</td>\n",
       "      <td>1.614904e+09</td>\n",
       "      <td>2021-03-05 13:22:00</td>\n",
       "      <td>/r/auckland/comments/lxwrud/entitled_lady_beli...</td>\n",
       "      <td>5</td>\n",
       "    </tr>\n",
       "    <tr>\n",
       "      <th>25</th>\n",
       "      <td>25</td>\n",
       "      <td>Entitled lady believes she is above lockdown r...</td>\n",
       "      <td>auckland</td>\n",
       "      <td>t5_2rd5j</td>\n",
       "      <td>t3_lxwrud</td>\n",
       "      <td>gpq732v</td>\n",
       "      <td>CreepyHermit489</td>\n",
       "      <td>I don't know how this video reached the intern...</td>\n",
       "      <td>1.614910e+09</td>\n",
       "      <td>2021-03-05 15:10:58</td>\n",
       "      <td>/r/auckland/comments/lxwrud/entitled_lady_beli...</td>\n",
       "      <td>6</td>\n",
       "    </tr>\n",
       "    <tr>\n",
       "      <th>26</th>\n",
       "      <td>26</td>\n",
       "      <td>Entitled lady believes she is above lockdown r...</td>\n",
       "      <td>auckland</td>\n",
       "      <td>t5_2rd5j</td>\n",
       "      <td>t3_lxwrud</td>\n",
       "      <td>gppintc</td>\n",
       "      <td>peacheemelons</td>\n",
       "      <td>This playground was covered in ‘do not cross’ ...</td>\n",
       "      <td>1.614898e+09</td>\n",
       "      <td>2021-03-05 11:43:57</td>\n",
       "      <td>/r/auckland/comments/lxwrud/entitled_lady_beli...</td>\n",
       "      <td>16</td>\n",
       "    </tr>\n",
       "    <tr>\n",
       "      <th>27</th>\n",
       "      <td>27</td>\n",
       "      <td>Entitled lady believes she is above lockdown r...</td>\n",
       "      <td>auckland</td>\n",
       "      <td>t5_2rd5j</td>\n",
       "      <td>t3_lxwrud</td>\n",
       "      <td>gppq4kp</td>\n",
       "      <td>Fatality</td>\n",
       "      <td>why do people upload this shit, it's like the ...</td>\n",
       "      <td>1.614902e+09</td>\n",
       "      <td>2021-03-05 12:45:03</td>\n",
       "      <td>/r/auckland/comments/lxwrud/entitled_lady_beli...</td>\n",
       "      <td>15</td>\n",
       "    </tr>\n",
       "    <tr>\n",
       "      <th>28</th>\n",
       "      <td>28</td>\n",
       "      <td>Entitled lady believes she is above lockdown r...</td>\n",
       "      <td>auckland</td>\n",
       "      <td>t5_2rd5j</td>\n",
       "      <td>t3_lxwrud</td>\n",
       "      <td>gpppi8k</td>\n",
       "      <td>Mofonalia76</td>\n",
       "      <td>Those poor children</td>\n",
       "      <td>1.614901e+09</td>\n",
       "      <td>2021-03-05 12:39:49</td>\n",
       "      <td>/r/auckland/comments/lxwrud/entitled_lady_beli...</td>\n",
       "      <td>15</td>\n",
       "    </tr>\n",
       "    <tr>\n",
       "      <th>29</th>\n",
       "      <td>29</td>\n",
       "      <td>Entitled lady believes she is above lockdown r...</td>\n",
       "      <td>auckland</td>\n",
       "      <td>t5_2rd5j</td>\n",
       "      <td>t3_lxwrud</td>\n",
       "      <td>gppqw8a</td>\n",
       "      <td>MVIVN</td>\n",
       "      <td>I saw she shared a link on her Facebook about ...</td>\n",
       "      <td>1.614902e+09</td>\n",
       "      <td>2021-03-05 12:51:38</td>\n",
       "      <td>/r/auckland/comments/lxwrud/entitled_lady_beli...</td>\n",
       "      <td>14</td>\n",
       "    </tr>\n",
       "    <tr>\n",
       "      <th>...</th>\n",
       "      <td>...</td>\n",
       "      <td>...</td>\n",
       "      <td>...</td>\n",
       "      <td>...</td>\n",
       "      <td>...</td>\n",
       "      <td>...</td>\n",
       "      <td>...</td>\n",
       "      <td>...</td>\n",
       "      <td>...</td>\n",
       "      <td>...</td>\n",
       "      <td>...</td>\n",
       "      <td>...</td>\n",
       "    </tr>\n",
       "    <tr>\n",
       "      <th>6462</th>\n",
       "      <td>6462</td>\n",
       "      <td>Free diving courses in Auckland?</td>\n",
       "      <td>auckland</td>\n",
       "      <td>t5_2rd5j</td>\n",
       "      <td>t3_kowtv9</td>\n",
       "      <td>gi5y896</td>\n",
       "      <td>Tall7kiwi</td>\n",
       "      <td>I joined the Auckland Freediving Club a few ye...</td>\n",
       "      <td>1.609839e+09</td>\n",
       "      <td>2021-01-05 22:27:11</td>\n",
       "      <td>/r/auckland/comments/kowtv9/free_diving_course...</td>\n",
       "      <td>2</td>\n",
       "    </tr>\n",
       "    <tr>\n",
       "      <th>6463</th>\n",
       "      <td>6463</td>\n",
       "      <td>Free diving courses in Auckland?</td>\n",
       "      <td>auckland</td>\n",
       "      <td>t5_2rd5j</td>\n",
       "      <td>t3_kowtv9</td>\n",
       "      <td>gi9i9tw</td>\n",
       "      <td>morphinedreams</td>\n",
       "      <td>Not a freediving instructor, nor do I know Auc...</td>\n",
       "      <td>1.609904e+09</td>\n",
       "      <td>2021-01-06 16:27:10</td>\n",
       "      <td>/r/auckland/comments/kowtv9/free_diving_course...</td>\n",
       "      <td>1</td>\n",
       "    </tr>\n",
       "    <tr>\n",
       "      <th>6464</th>\n",
       "      <td>6464</td>\n",
       "      <td>Free diving courses in Auckland?</td>\n",
       "      <td>auckland</td>\n",
       "      <td>t5_2rd5j</td>\n",
       "      <td>t3_kowtv9</td>\n",
       "      <td>ghvvch7</td>\n",
       "      <td>michaelhunt696969</td>\n",
       "      <td>A better question would be 'What value could y...</td>\n",
       "      <td>1.609637e+09</td>\n",
       "      <td>2021-01-03 14:19:37</td>\n",
       "      <td>/r/auckland/comments/kowtv9/free_diving_course...</td>\n",
       "      <td>0</td>\n",
       "    </tr>\n",
       "    <tr>\n",
       "      <th>6465</th>\n",
       "      <td>6465</td>\n",
       "      <td>Free diving courses in Auckland?</td>\n",
       "      <td>auckland</td>\n",
       "      <td>t5_2rd5j</td>\n",
       "      <td>t3_kowtv9</td>\n",
       "      <td>ghuuz43</td>\n",
       "      <td>Jeremiah_was_a</td>\n",
       "      <td>Tauranga needs the. Folk here couldn't drive p...</td>\n",
       "      <td>1.609618e+09</td>\n",
       "      <td>2021-01-03 09:00:12</td>\n",
       "      <td>/r/auckland/comments/kowtv9/free_diving_course...</td>\n",
       "      <td>-3</td>\n",
       "    </tr>\n",
       "    <tr>\n",
       "      <th>6466</th>\n",
       "      <td>6466</td>\n",
       "      <td>Free diving courses in Auckland?</td>\n",
       "      <td>auckland</td>\n",
       "      <td>t5_2rd5j</td>\n",
       "      <td>t3_kowtv9</td>\n",
       "      <td>ghv6o1s</td>\n",
       "      <td>NaN</td>\n",
       "      <td>[deleted]</td>\n",
       "      <td>1.609624e+09</td>\n",
       "      <td>2021-01-03 10:40:39</td>\n",
       "      <td>/r/auckland/comments/kowtv9/free_diving_course...</td>\n",
       "      <td>-3</td>\n",
       "    </tr>\n",
       "    <tr>\n",
       "      <th>6467</th>\n",
       "      <td>6467</td>\n",
       "      <td>Is someone able to tell me the name of this pa...</td>\n",
       "      <td>auckland</td>\n",
       "      <td>t5_2rd5j</td>\n",
       "      <td>t3_koxi2v</td>\n",
       "      <td>gihww4a</td>\n",
       "      <td>foopod</td>\n",
       "      <td>I think it's Mt Eden</td>\n",
       "      <td>1.610072e+09</td>\n",
       "      <td>2021-01-08 15:21:39</td>\n",
       "      <td>/r/auckland/comments/koxi2v/is_someone_able_to...</td>\n",
       "      <td>1</td>\n",
       "    </tr>\n",
       "    <tr>\n",
       "      <th>6468</th>\n",
       "      <td>6468</td>\n",
       "      <td>Recommendation for outdoor/hiking/tramping sto...</td>\n",
       "      <td>auckland</td>\n",
       "      <td>t5_2rd5j</td>\n",
       "      <td>t3_koouke</td>\n",
       "      <td>ghsfgsb</td>\n",
       "      <td>CJonno</td>\n",
       "      <td>[https://www.bivouac.co.nz/](https://www.bivou...</td>\n",
       "      <td>1.609556e+09</td>\n",
       "      <td>2021-01-02 15:54:43</td>\n",
       "      <td>/r/auckland/comments/koouke/recommendation_for...</td>\n",
       "      <td>12</td>\n",
       "    </tr>\n",
       "    <tr>\n",
       "      <th>6469</th>\n",
       "      <td>6469</td>\n",
       "      <td>Recommendation for outdoor/hiking/tramping sto...</td>\n",
       "      <td>auckland</td>\n",
       "      <td>t5_2rd5j</td>\n",
       "      <td>t3_koouke</td>\n",
       "      <td>ghsktyv</td>\n",
       "      <td>dwelfness</td>\n",
       "      <td>I'm not really doing any serious hiking, so I ...</td>\n",
       "      <td>1.609559e+09</td>\n",
       "      <td>2021-01-02 16:45:19</td>\n",
       "      <td>/r/auckland/comments/koouke/recommendation_for...</td>\n",
       "      <td>22</td>\n",
       "    </tr>\n",
       "    <tr>\n",
       "      <th>6470</th>\n",
       "      <td>6470</td>\n",
       "      <td>Recommendation for outdoor/hiking/tramping sto...</td>\n",
       "      <td>auckland</td>\n",
       "      <td>t5_2rd5j</td>\n",
       "      <td>t3_koouke</td>\n",
       "      <td>ghtlub3</td>\n",
       "      <td>taway6782</td>\n",
       "      <td>Kathmandu at dress mart onehunga has massive d...</td>\n",
       "      <td>1.609591e+09</td>\n",
       "      <td>2021-01-03 01:35:12</td>\n",
       "      <td>/r/auckland/comments/koouke/recommendation_for...</td>\n",
       "      <td>3</td>\n",
       "    </tr>\n",
       "    <tr>\n",
       "      <th>6471</th>\n",
       "      <td>6471</td>\n",
       "      <td>Recommendation for outdoor/hiking/tramping sto...</td>\n",
       "      <td>auckland</td>\n",
       "      <td>t5_2rd5j</td>\n",
       "      <td>t3_koouke</td>\n",
       "      <td>ghskl7x</td>\n",
       "      <td>coconutyum</td>\n",
       "      <td>Macpac, Mountain Warehouse, Kathmandu as well ...</td>\n",
       "      <td>1.609559e+09</td>\n",
       "      <td>2021-01-02 16:43:01</td>\n",
       "      <td>/r/auckland/comments/koouke/recommendation_for...</td>\n",
       "      <td>5</td>\n",
       "    </tr>\n",
       "    <tr>\n",
       "      <th>6472</th>\n",
       "      <td>6472</td>\n",
       "      <td>Recommendation for outdoor/hiking/tramping sto...</td>\n",
       "      <td>auckland</td>\n",
       "      <td>t5_2rd5j</td>\n",
       "      <td>t3_koouke</td>\n",
       "      <td>ghsow9g</td>\n",
       "      <td>evilgwyn</td>\n",
       "      <td>On queen Street there is a decent bivouac stor...</td>\n",
       "      <td>1.609561e+09</td>\n",
       "      <td>2021-01-02 17:23:26</td>\n",
       "      <td>/r/auckland/comments/koouke/recommendation_for...</td>\n",
       "      <td>3</td>\n",
       "    </tr>\n",
       "    <tr>\n",
       "      <th>6473</th>\n",
       "      <td>6473</td>\n",
       "      <td>Recommendation for outdoor/hiking/tramping sto...</td>\n",
       "      <td>auckland</td>\n",
       "      <td>t5_2rd5j</td>\n",
       "      <td>t3_koouke</td>\n",
       "      <td>ghsv4nh</td>\n",
       "      <td>will9million</td>\n",
       "      <td>Earth Sea Sky hydrophobia jacket from Outdoor ...</td>\n",
       "      <td>1.609565e+09</td>\n",
       "      <td>2021-01-02 18:28:17</td>\n",
       "      <td>/r/auckland/comments/koouke/recommendation_for...</td>\n",
       "      <td>1</td>\n",
       "    </tr>\n",
       "    <tr>\n",
       "      <th>6474</th>\n",
       "      <td>6474</td>\n",
       "      <td>Recommendation for outdoor/hiking/tramping sto...</td>\n",
       "      <td>auckland</td>\n",
       "      <td>t5_2rd5j</td>\n",
       "      <td>t3_koouke</td>\n",
       "      <td>ghv4per</td>\n",
       "      <td>NaN</td>\n",
       "      <td>[deleted]</td>\n",
       "      <td>1.609623e+09</td>\n",
       "      <td>2021-01-03 10:23:41</td>\n",
       "      <td>/r/auckland/comments/koouke/recommendation_for...</td>\n",
       "      <td>1</td>\n",
       "    </tr>\n",
       "    <tr>\n",
       "      <th>6475</th>\n",
       "      <td>6475</td>\n",
       "      <td>Hey guys! A Question for people who live or ha...</td>\n",
       "      <td>auckland</td>\n",
       "      <td>t5_2rd5j</td>\n",
       "      <td>t3_koslf5</td>\n",
       "      <td>ght1ijw</td>\n",
       "      <td>sky_christal</td>\n",
       "      <td>I'm at the top of symonds st, the traffic and ...</td>\n",
       "      <td>1.609570e+09</td>\n",
       "      <td>2021-01-02 19:48:44</td>\n",
       "      <td>/r/auckland/comments/koslf5/hey_guys_a_questio...</td>\n",
       "      <td>14</td>\n",
       "    </tr>\n",
       "    <tr>\n",
       "      <th>6476</th>\n",
       "      <td>6476</td>\n",
       "      <td>Hey guys! A Question for people who live or ha...</td>\n",
       "      <td>auckland</td>\n",
       "      <td>t5_2rd5j</td>\n",
       "      <td>t3_koslf5</td>\n",
       "      <td>ght5yik</td>\n",
       "      <td>rang14</td>\n",
       "      <td>I used to live in an apartment on Queent Stree...</td>\n",
       "      <td>1.609574e+09</td>\n",
       "      <td>2021-01-02 20:55:52</td>\n",
       "      <td>/r/auckland/comments/koslf5/hey_guys_a_questio...</td>\n",
       "      <td>11</td>\n",
       "    </tr>\n",
       "    <tr>\n",
       "      <th>6477</th>\n",
       "      <td>6477</td>\n",
       "      <td>Hey guys! A Question for people who live or ha...</td>\n",
       "      <td>auckland</td>\n",
       "      <td>t5_2rd5j</td>\n",
       "      <td>t3_koslf5</td>\n",
       "      <td>ghuj0ej</td>\n",
       "      <td>dreamer_0987</td>\n",
       "      <td>I have never slept better than I did while liv...</td>\n",
       "      <td>1.609611e+09</td>\n",
       "      <td>2021-01-03 07:17:43</td>\n",
       "      <td>/r/auckland/comments/koslf5/hey_guys_a_questio...</td>\n",
       "      <td>7</td>\n",
       "    </tr>\n",
       "    <tr>\n",
       "      <th>6478</th>\n",
       "      <td>6478</td>\n",
       "      <td>Hey guys! A Question for people who live or ha...</td>\n",
       "      <td>auckland</td>\n",
       "      <td>t5_2rd5j</td>\n",
       "      <td>t3_koslf5</td>\n",
       "      <td>ght3ag9</td>\n",
       "      <td>kinow</td>\n",
       "      <td>I live between High/Albert. I can hear the mus...</td>\n",
       "      <td>1.609572e+09</td>\n",
       "      <td>2021-01-02 20:14:05</td>\n",
       "      <td>/r/auckland/comments/koslf5/hey_guys_a_questio...</td>\n",
       "      <td>6</td>\n",
       "    </tr>\n",
       "    <tr>\n",
       "      <th>6479</th>\n",
       "      <td>6479</td>\n",
       "      <td>Hey guys! A Question for people who live or ha...</td>\n",
       "      <td>auckland</td>\n",
       "      <td>t5_2rd5j</td>\n",
       "      <td>t3_koslf5</td>\n",
       "      <td>ght1ghc</td>\n",
       "      <td>acid-nz</td>\n",
       "      <td>I used to live on K Road and I did. However I ...</td>\n",
       "      <td>1.609570e+09</td>\n",
       "      <td>2021-01-02 19:47:59</td>\n",
       "      <td>/r/auckland/comments/koslf5/hey_guys_a_questio...</td>\n",
       "      <td>11</td>\n",
       "    </tr>\n",
       "    <tr>\n",
       "      <th>6480</th>\n",
       "      <td>6480</td>\n",
       "      <td>Hey guys! A Question for people who live or ha...</td>\n",
       "      <td>auckland</td>\n",
       "      <td>t5_2rd5j</td>\n",
       "      <td>t3_koslf5</td>\n",
       "      <td>ght3dbm</td>\n",
       "      <td>babywoozle</td>\n",
       "      <td>I used to live on beach road and I’d only get ...</td>\n",
       "      <td>1.609572e+09</td>\n",
       "      <td>2021-01-02 20:15:16</td>\n",
       "      <td>/r/auckland/comments/koslf5/hey_guys_a_questio...</td>\n",
       "      <td>5</td>\n",
       "    </tr>\n",
       "    <tr>\n",
       "      <th>6481</th>\n",
       "      <td>6481</td>\n",
       "      <td>Hey guys! A Question for people who live or ha...</td>\n",
       "      <td>auckland</td>\n",
       "      <td>t5_2rd5j</td>\n",
       "      <td>t3_koslf5</td>\n",
       "      <td>ghtakt5</td>\n",
       "      <td>NZ_DiscJockey</td>\n",
       "      <td>I live at the top of Shortland Street, so it’s...</td>\n",
       "      <td>1.609579e+09</td>\n",
       "      <td>2021-01-02 22:14:59</td>\n",
       "      <td>/r/auckland/comments/koslf5/hey_guys_a_questio...</td>\n",
       "      <td>4</td>\n",
       "    </tr>\n",
       "    <tr>\n",
       "      <th>6482</th>\n",
       "      <td>6482</td>\n",
       "      <td>Hey guys! A Question for people who live or ha...</td>\n",
       "      <td>auckland</td>\n",
       "      <td>t5_2rd5j</td>\n",
       "      <td>t3_koslf5</td>\n",
       "      <td>ghtfqk3</td>\n",
       "      <td>C39J</td>\n",
       "      <td>I'm on Anzac Ave, and I think the building I'm...</td>\n",
       "      <td>1.609584e+09</td>\n",
       "      <td>2021-01-02 23:47:59</td>\n",
       "      <td>/r/auckland/comments/koslf5/hey_guys_a_questio...</td>\n",
       "      <td>3</td>\n",
       "    </tr>\n",
       "    <tr>\n",
       "      <th>6483</th>\n",
       "      <td>6483</td>\n",
       "      <td>Hey guys! A Question for people who live or ha...</td>\n",
       "      <td>auckland</td>\n",
       "      <td>t5_2rd5j</td>\n",
       "      <td>t3_koslf5</td>\n",
       "      <td>ght117p</td>\n",
       "      <td>Enzown</td>\n",
       "      <td>&gt;  I’m looking to get an apartment in the CBD ...</td>\n",
       "      <td>1.609570e+09</td>\n",
       "      <td>2021-01-02 19:42:14</td>\n",
       "      <td>/r/auckland/comments/koslf5/hey_guys_a_questio...</td>\n",
       "      <td>7</td>\n",
       "    </tr>\n",
       "    <tr>\n",
       "      <th>6484</th>\n",
       "      <td>6484</td>\n",
       "      <td>Hey guys! A Question for people who live or ha...</td>\n",
       "      <td>auckland</td>\n",
       "      <td>t5_2rd5j</td>\n",
       "      <td>t3_koslf5</td>\n",
       "      <td>gi6puqq</td>\n",
       "      <td>muchmorthanthis</td>\n",
       "      <td>I live in an apartment eden cres, top of short...</td>\n",
       "      <td>1.609860e+09</td>\n",
       "      <td>2021-01-06 04:20:20</td>\n",
       "      <td>/r/auckland/comments/koslf5/hey_guys_a_questio...</td>\n",
       "      <td>2</td>\n",
       "    </tr>\n",
       "    <tr>\n",
       "      <th>6485</th>\n",
       "      <td>6485</td>\n",
       "      <td>Hey guys! A Question for people who live or ha...</td>\n",
       "      <td>auckland</td>\n",
       "      <td>t5_2rd5j</td>\n",
       "      <td>t3_koslf5</td>\n",
       "      <td>ght10mj</td>\n",
       "      <td>voongnz</td>\n",
       "      <td>Heard absolutely nothing from night clubs and ...</td>\n",
       "      <td>1.609570e+09</td>\n",
       "      <td>2021-01-02 19:42:00</td>\n",
       "      <td>/r/auckland/comments/koslf5/hey_guys_a_questio...</td>\n",
       "      <td>3</td>\n",
       "    </tr>\n",
       "    <tr>\n",
       "      <th>6486</th>\n",
       "      <td>6486</td>\n",
       "      <td>Hey guys! A Question for people who live or ha...</td>\n",
       "      <td>auckland</td>\n",
       "      <td>t5_2rd5j</td>\n",
       "      <td>t3_koslf5</td>\n",
       "      <td>ght21qf</td>\n",
       "      <td>NoSignalSpaceCadet</td>\n",
       "      <td>I have lived in the city for years, main noise...</td>\n",
       "      <td>1.609571e+09</td>\n",
       "      <td>2021-01-02 19:56:02</td>\n",
       "      <td>/r/auckland/comments/koslf5/hey_guys_a_questio...</td>\n",
       "      <td>2</td>\n",
       "    </tr>\n",
       "    <tr>\n",
       "      <th>6487</th>\n",
       "      <td>6487</td>\n",
       "      <td>Hey guys! A Question for people who live or ha...</td>\n",
       "      <td>auckland</td>\n",
       "      <td>t5_2rd5j</td>\n",
       "      <td>t3_koslf5</td>\n",
       "      <td>ght9vr0</td>\n",
       "      <td>sitharus</td>\n",
       "      <td>I live on Union Street, no night clubs or bars...</td>\n",
       "      <td>1.609578e+09</td>\n",
       "      <td>2021-01-02 22:02:30</td>\n",
       "      <td>/r/auckland/comments/koslf5/hey_guys_a_questio...</td>\n",
       "      <td>1</td>\n",
       "    </tr>\n",
       "    <tr>\n",
       "      <th>6488</th>\n",
       "      <td>6488</td>\n",
       "      <td>Hey guys! A Question for people who live or ha...</td>\n",
       "      <td>auckland</td>\n",
       "      <td>t5_2rd5j</td>\n",
       "      <td>t3_koslf5</td>\n",
       "      <td>ghta5zi</td>\n",
       "      <td>mikenroe23</td>\n",
       "      <td>Someone I work with is renting an appt in the ...</td>\n",
       "      <td>1.609578e+09</td>\n",
       "      <td>2021-01-02 22:07:37</td>\n",
       "      <td>/r/auckland/comments/koslf5/hey_guys_a_questio...</td>\n",
       "      <td>1</td>\n",
       "    </tr>\n",
       "    <tr>\n",
       "      <th>6489</th>\n",
       "      <td>6489</td>\n",
       "      <td>Hey guys! A Question for people who live or ha...</td>\n",
       "      <td>auckland</td>\n",
       "      <td>t5_2rd5j</td>\n",
       "      <td>t3_koslf5</td>\n",
       "      <td>ghtc73s</td>\n",
       "      <td>fuzzlebuck</td>\n",
       "      <td>Intersection of Kitchener and Victoria, lived ...</td>\n",
       "      <td>1.609581e+09</td>\n",
       "      <td>2021-01-02 22:43:56</td>\n",
       "      <td>/r/auckland/comments/koslf5/hey_guys_a_questio...</td>\n",
       "      <td>1</td>\n",
       "    </tr>\n",
       "    <tr>\n",
       "      <th>6490</th>\n",
       "      <td>6490</td>\n",
       "      <td>Hey guys! A Question for people who live or ha...</td>\n",
       "      <td>auckland</td>\n",
       "      <td>t5_2rd5j</td>\n",
       "      <td>t3_koslf5</td>\n",
       "      <td>gi26j4u</td>\n",
       "      <td>mnsl0826</td>\n",
       "      <td>My apartment is facing Nelson st and City work...</td>\n",
       "      <td>1.609761e+09</td>\n",
       "      <td>2021-01-05 00:57:20</td>\n",
       "      <td>/r/auckland/comments/koslf5/hey_guys_a_questio...</td>\n",
       "      <td>1</td>\n",
       "    </tr>\n",
       "    <tr>\n",
       "      <th>6491</th>\n",
       "      <td>6491</td>\n",
       "      <td>Hey guys! A Question for people who live or ha...</td>\n",
       "      <td>auckland</td>\n",
       "      <td>t5_2rd5j</td>\n",
       "      <td>t3_koslf5</td>\n",
       "      <td>ght0qaj</td>\n",
       "      <td>NaN</td>\n",
       "      <td>i live on k road i dont hear any music just th...</td>\n",
       "      <td>1.609569e+09</td>\n",
       "      <td>2021-01-02 19:38:06</td>\n",
       "      <td>/r/auckland/comments/koslf5/hey_guys_a_questio...</td>\n",
       "      <td>-3</td>\n",
       "    </tr>\n",
       "  </tbody>\n",
       "</table>\n",
       "<p>6492 rows × 12 columns</p>\n",
       "</div>"
      ],
      "text/plain": [
       "      Unnamed: 0                                         post_title  \\\n",
       "0              0  Entitled lady believes she is above lockdown r...   \n",
       "1              1  Entitled lady believes she is above lockdown r...   \n",
       "2              2  Entitled lady believes she is above lockdown r...   \n",
       "3              3  Entitled lady believes she is above lockdown r...   \n",
       "4              4  Entitled lady believes she is above lockdown r...   \n",
       "5              5  Entitled lady believes she is above lockdown r...   \n",
       "6              6  Entitled lady believes she is above lockdown r...   \n",
       "7              7  Entitled lady believes she is above lockdown r...   \n",
       "8              8  Entitled lady believes she is above lockdown r...   \n",
       "9              9  Entitled lady believes she is above lockdown r...   \n",
       "10            10  Entitled lady believes she is above lockdown r...   \n",
       "11            11  Entitled lady believes she is above lockdown r...   \n",
       "12            12  Entitled lady believes she is above lockdown r...   \n",
       "13            13  Entitled lady believes she is above lockdown r...   \n",
       "14            14  Entitled lady believes she is above lockdown r...   \n",
       "15            15  Entitled lady believes she is above lockdown r...   \n",
       "16            16  Entitled lady believes she is above lockdown r...   \n",
       "17            17  Entitled lady believes she is above lockdown r...   \n",
       "18            18  Entitled lady believes she is above lockdown r...   \n",
       "19            19  Entitled lady believes she is above lockdown r...   \n",
       "20            20  Entitled lady believes she is above lockdown r...   \n",
       "21            21  Entitled lady believes she is above lockdown r...   \n",
       "22            22  Entitled lady believes she is above lockdown r...   \n",
       "23            23  Entitled lady believes she is above lockdown r...   \n",
       "24            24  Entitled lady believes she is above lockdown r...   \n",
       "25            25  Entitled lady believes she is above lockdown r...   \n",
       "26            26  Entitled lady believes she is above lockdown r...   \n",
       "27            27  Entitled lady believes she is above lockdown r...   \n",
       "28            28  Entitled lady believes she is above lockdown r...   \n",
       "29            29  Entitled lady believes she is above lockdown r...   \n",
       "...          ...                                                ...   \n",
       "6462        6462                   Free diving courses in Auckland?   \n",
       "6463        6463                   Free diving courses in Auckland?   \n",
       "6464        6464                   Free diving courses in Auckland?   \n",
       "6465        6465                   Free diving courses in Auckland?   \n",
       "6466        6466                   Free diving courses in Auckland?   \n",
       "6467        6467  Is someone able to tell me the name of this pa...   \n",
       "6468        6468  Recommendation for outdoor/hiking/tramping sto...   \n",
       "6469        6469  Recommendation for outdoor/hiking/tramping sto...   \n",
       "6470        6470  Recommendation for outdoor/hiking/tramping sto...   \n",
       "6471        6471  Recommendation for outdoor/hiking/tramping sto...   \n",
       "6472        6472  Recommendation for outdoor/hiking/tramping sto...   \n",
       "6473        6473  Recommendation for outdoor/hiking/tramping sto...   \n",
       "6474        6474  Recommendation for outdoor/hiking/tramping sto...   \n",
       "6475        6475  Hey guys! A Question for people who live or ha...   \n",
       "6476        6476  Hey guys! A Question for people who live or ha...   \n",
       "6477        6477  Hey guys! A Question for people who live or ha...   \n",
       "6478        6478  Hey guys! A Question for people who live or ha...   \n",
       "6479        6479  Hey guys! A Question for people who live or ha...   \n",
       "6480        6480  Hey guys! A Question for people who live or ha...   \n",
       "6481        6481  Hey guys! A Question for people who live or ha...   \n",
       "6482        6482  Hey guys! A Question for people who live or ha...   \n",
       "6483        6483  Hey guys! A Question for people who live or ha...   \n",
       "6484        6484  Hey guys! A Question for people who live or ha...   \n",
       "6485        6485  Hey guys! A Question for people who live or ha...   \n",
       "6486        6486  Hey guys! A Question for people who live or ha...   \n",
       "6487        6487  Hey guys! A Question for people who live or ha...   \n",
       "6488        6488  Hey guys! A Question for people who live or ha...   \n",
       "6489        6489  Hey guys! A Question for people who live or ha...   \n",
       "6490        6490  Hey guys! A Question for people who live or ha...   \n",
       "6491        6491  Hey guys! A Question for people who live or ha...   \n",
       "\n",
       "     subreddit_name subreddit_id    post_id comment_id      comment_author  \\\n",
       "0          auckland     t5_2rd5j  t3_lxwrud    gppj37m            grnathan   \n",
       "1          auckland     t5_2rd5j  t3_lxwrud    gppefqu       petercalmdown   \n",
       "2          auckland     t5_2rd5j  t3_lxwrud    gppmsxg              gtalnz   \n",
       "3          auckland     t5_2rd5j  t3_lxwrud    gpplh3o         B0bDobalina   \n",
       "4          auckland     t5_2rd5j  t3_lxwrud    gppnq9o         noodlebball   \n",
       "5          auckland     t5_2rd5j  t3_lxwrud    gpphbcp         RevakBahJot   \n",
       "6          auckland     t5_2rd5j  t3_lxwrud    gppmi2m            1970lamb   \n",
       "7          auckland     t5_2rd5j  t3_lxwrud    gpphbhu         dyingPretty   \n",
       "8          auckland     t5_2rd5j  t3_lxwrud    gppplnh                GKW_   \n",
       "9          auckland     t5_2rd5j  t3_lxwrud    gppfsod           Mumsacunt   \n",
       "10         auckland     t5_2rd5j  t3_lxwrud    gppthag   TimeToMakeWoofles   \n",
       "11         auckland     t5_2rd5j  t3_lxwrud    gppj50h           nyequistt   \n",
       "12         auckland     t5_2rd5j  t3_lxwrud    gpplioe  therewillbeniccage   \n",
       "13         auckland     t5_2rd5j  t3_lxwrud    gppug74       Here_for_tea_   \n",
       "14         auckland     t5_2rd5j  t3_lxwrud    gppi929          Dragon88NT   \n",
       "15         auckland     t5_2rd5j  t3_lxwrud    gppiiu8             B-man44   \n",
       "16         auckland     t5_2rd5j  t3_lxwrud    gppp298            battsIts   \n",
       "17         auckland     t5_2rd5j  t3_lxwrud    gppsw9x         nzultramper   \n",
       "18         auckland     t5_2rd5j  t3_lxwrud    gppk1j5       YokoOnoNumba1   \n",
       "19         auckland     t5_2rd5j  t3_lxwrud    gppluph              gmannz   \n",
       "20         auckland     t5_2rd5j  t3_lxwrud    gppkl81           jadez7789   \n",
       "21         auckland     t5_2rd5j  t3_lxwrud    gppqmvf    FallenJediKnight   \n",
       "22         auckland     t5_2rd5j  t3_lxwrud    gpprntp             ksnitch   \n",
       "23         auckland     t5_2rd5j  t3_lxwrud    gppt298     deepfriedplease   \n",
       "24         auckland     t5_2rd5j  t3_lxwrud    gppugtq      keepyourwigon2   \n",
       "25         auckland     t5_2rd5j  t3_lxwrud    gpq732v     CreepyHermit489   \n",
       "26         auckland     t5_2rd5j  t3_lxwrud    gppintc       peacheemelons   \n",
       "27         auckland     t5_2rd5j  t3_lxwrud    gppq4kp            Fatality   \n",
       "28         auckland     t5_2rd5j  t3_lxwrud    gpppi8k         Mofonalia76   \n",
       "29         auckland     t5_2rd5j  t3_lxwrud    gppqw8a               MVIVN   \n",
       "...             ...          ...        ...        ...                 ...   \n",
       "6462       auckland     t5_2rd5j  t3_kowtv9    gi5y896           Tall7kiwi   \n",
       "6463       auckland     t5_2rd5j  t3_kowtv9    gi9i9tw      morphinedreams   \n",
       "6464       auckland     t5_2rd5j  t3_kowtv9    ghvvch7   michaelhunt696969   \n",
       "6465       auckland     t5_2rd5j  t3_kowtv9    ghuuz43      Jeremiah_was_a   \n",
       "6466       auckland     t5_2rd5j  t3_kowtv9    ghv6o1s                 NaN   \n",
       "6467       auckland     t5_2rd5j  t3_koxi2v    gihww4a              foopod   \n",
       "6468       auckland     t5_2rd5j  t3_koouke    ghsfgsb              CJonno   \n",
       "6469       auckland     t5_2rd5j  t3_koouke    ghsktyv           dwelfness   \n",
       "6470       auckland     t5_2rd5j  t3_koouke    ghtlub3           taway6782   \n",
       "6471       auckland     t5_2rd5j  t3_koouke    ghskl7x          coconutyum   \n",
       "6472       auckland     t5_2rd5j  t3_koouke    ghsow9g            evilgwyn   \n",
       "6473       auckland     t5_2rd5j  t3_koouke    ghsv4nh        will9million   \n",
       "6474       auckland     t5_2rd5j  t3_koouke    ghv4per                 NaN   \n",
       "6475       auckland     t5_2rd5j  t3_koslf5    ght1ijw        sky_christal   \n",
       "6476       auckland     t5_2rd5j  t3_koslf5    ght5yik              rang14   \n",
       "6477       auckland     t5_2rd5j  t3_koslf5    ghuj0ej        dreamer_0987   \n",
       "6478       auckland     t5_2rd5j  t3_koslf5    ght3ag9               kinow   \n",
       "6479       auckland     t5_2rd5j  t3_koslf5    ght1ghc             acid-nz   \n",
       "6480       auckland     t5_2rd5j  t3_koslf5    ght3dbm          babywoozle   \n",
       "6481       auckland     t5_2rd5j  t3_koslf5    ghtakt5       NZ_DiscJockey   \n",
       "6482       auckland     t5_2rd5j  t3_koslf5    ghtfqk3                C39J   \n",
       "6483       auckland     t5_2rd5j  t3_koslf5    ght117p              Enzown   \n",
       "6484       auckland     t5_2rd5j  t3_koslf5    gi6puqq     muchmorthanthis   \n",
       "6485       auckland     t5_2rd5j  t3_koslf5    ght10mj             voongnz   \n",
       "6486       auckland     t5_2rd5j  t3_koslf5    ght21qf  NoSignalSpaceCadet   \n",
       "6487       auckland     t5_2rd5j  t3_koslf5    ght9vr0            sitharus   \n",
       "6488       auckland     t5_2rd5j  t3_koslf5    ghta5zi          mikenroe23   \n",
       "6489       auckland     t5_2rd5j  t3_koslf5    ghtc73s          fuzzlebuck   \n",
       "6490       auckland     t5_2rd5j  t3_koslf5    gi26j4u            mnsl0826   \n",
       "6491       auckland     t5_2rd5j  t3_koslf5    ght0qaj                 NaN   \n",
       "\n",
       "                                           comment_body   created_utc  \\\n",
       "0     Wait for it.... wait for it.... \"You work for ...  1.614898e+09   \n",
       "1     Shout out Browns Bay police for having the pat...  1.614896e+09   \n",
       "2     That building they are walking towards at the ...  1.614900e+09   \n",
       "3     Karen \"Tell me what law I've broken?\"\\n\\nCop \"...  1.614899e+09   \n",
       "4     Fucked up thing is if you go to her Fb page th...  1.614900e+09   \n",
       "5                                        r/FuckYouKaren  1.614897e+09   \n",
       "6     I got half way through and shut it off.. the w...  1.614900e+09   \n",
       "7     She must of posted this her self. Does she rea...  1.614897e+09   \n",
       "8                         Lol what a train wreck she is  1.614901e+09   \n",
       "9                                              How ugly  1.614896e+09   \n",
       "10    “You are intimidating me” says while chasing them  1.614903e+09   \n",
       "11    FrEeDoM oR cOmMuNiSm\\n\\nYou could tell that th...  1.614898e+09   \n",
       "12    This stuff really gets on my nerves. There are...  1.614899e+09   \n",
       "13    I would have thought this woman would be far t...  1.614904e+09   \n",
       "14    How concerning she is raising children and tea...  1.614898e+09   \n",
       "15               These cops have the patience af Saints  1.614898e+09   \n",
       "16                                     How embarrassing  1.614901e+09   \n",
       "17    Fucks sake. That’s all we need. Mad cows disea...  1.614903e+09   \n",
       "18                 FREEDOM OR COMMUNISIM AHAHAHAHAHAHAH  1.614898e+09   \n",
       "19    Fuck being a cop. \\n\\nI want to snot that big ...  1.614899e+09   \n",
       "20    I found her page on Facebook. The amount of cr...  1.614899e+09   \n",
       "21    Very rude and inconsiderate. She kept interrup...  1.614902e+09   \n",
       "22    This lady freaking annoyed the shit out of me....  1.614902e+09   \n",
       "23            Her voice just grates on my ears...ugh...  1.614903e+09   \n",
       "24                             I'm embarrassed for her.  1.614904e+09   \n",
       "25    I don't know how this video reached the intern...  1.614910e+09   \n",
       "26    This playground was covered in ‘do not cross’ ...  1.614898e+09   \n",
       "27    why do people upload this shit, it's like the ...  1.614902e+09   \n",
       "28                                  Those poor children  1.614901e+09   \n",
       "29    I saw she shared a link on her Facebook about ...  1.614902e+09   \n",
       "...                                                 ...           ...   \n",
       "6462  I joined the Auckland Freediving Club a few ye...  1.609839e+09   \n",
       "6463  Not a freediving instructor, nor do I know Auc...  1.609904e+09   \n",
       "6464  A better question would be 'What value could y...  1.609637e+09   \n",
       "6465  Tauranga needs the. Folk here couldn't drive p...  1.609618e+09   \n",
       "6466                                          [deleted]  1.609624e+09   \n",
       "6467                               I think it's Mt Eden  1.610072e+09   \n",
       "6468  [https://www.bivouac.co.nz/](https://www.bivou...  1.609556e+09   \n",
       "6469  I'm not really doing any serious hiking, so I ...  1.609559e+09   \n",
       "6470  Kathmandu at dress mart onehunga has massive d...  1.609591e+09   \n",
       "6471  Macpac, Mountain Warehouse, Kathmandu as well ...  1.609559e+09   \n",
       "6472  On queen Street there is a decent bivouac stor...  1.609561e+09   \n",
       "6473  Earth Sea Sky hydrophobia jacket from Outdoor ...  1.609565e+09   \n",
       "6474                                          [deleted]  1.609623e+09   \n",
       "6475  I'm at the top of symonds st, the traffic and ...  1.609570e+09   \n",
       "6476  I used to live in an apartment on Queent Stree...  1.609574e+09   \n",
       "6477  I have never slept better than I did while liv...  1.609611e+09   \n",
       "6478  I live between High/Albert. I can hear the mus...  1.609572e+09   \n",
       "6479  I used to live on K Road and I did. However I ...  1.609570e+09   \n",
       "6480  I used to live on beach road and I’d only get ...  1.609572e+09   \n",
       "6481  I live at the top of Shortland Street, so it’s...  1.609579e+09   \n",
       "6482  I'm on Anzac Ave, and I think the building I'm...  1.609584e+09   \n",
       "6483  >  I’m looking to get an apartment in the CBD ...  1.609570e+09   \n",
       "6484  I live in an apartment eden cres, top of short...  1.609860e+09   \n",
       "6485  Heard absolutely nothing from night clubs and ...  1.609570e+09   \n",
       "6486  I have lived in the city for years, main noise...  1.609571e+09   \n",
       "6487  I live on Union Street, no night clubs or bars...  1.609578e+09   \n",
       "6488  Someone I work with is renting an appt in the ...  1.609578e+09   \n",
       "6489  Intersection of Kitchener and Victoria, lived ...  1.609581e+09   \n",
       "6490  My apartment is facing Nelson st and City work...  1.609761e+09   \n",
       "6491  i live on k road i dont hear any music just th...  1.609569e+09   \n",
       "\n",
       "        created_datetime                                          permalink  \\\n",
       "0    2021-03-05 11:47:22  /r/auckland/comments/lxwrud/entitled_lady_beli...   \n",
       "1    2021-03-05 11:11:00  /r/auckland/comments/lxwrud/entitled_lady_beli...   \n",
       "2    2021-03-05 12:17:17  /r/auckland/comments/lxwrud/entitled_lady_beli...   \n",
       "3    2021-03-05 12:06:21  /r/auckland/comments/lxwrud/entitled_lady_beli...   \n",
       "4    2021-03-05 12:24:59  /r/auckland/comments/lxwrud/entitled_lady_beli...   \n",
       "5    2021-03-05 11:33:14  /r/auckland/comments/lxwrud/entitled_lady_beli...   \n",
       "6    2021-03-05 12:14:49  /r/auckland/comments/lxwrud/entitled_lady_beli...   \n",
       "7    2021-03-05 11:33:16  /r/auckland/comments/lxwrud/entitled_lady_beli...   \n",
       "8    2021-03-05 12:40:38  /r/auckland/comments/lxwrud/entitled_lady_beli...   \n",
       "9    2021-03-05 11:21:19  /r/auckland/comments/lxwrud/entitled_lady_beli...   \n",
       "10   2021-03-05 13:13:45  /r/auckland/comments/lxwrud/entitled_lady_beli...   \n",
       "11   2021-03-05 11:47:46  /r/auckland/comments/lxwrud/entitled_lady_beli...   \n",
       "12   2021-03-05 12:06:44  /r/auckland/comments/lxwrud/entitled_lady_beli...   \n",
       "13   2021-03-05 13:21:51  /r/auckland/comments/lxwrud/entitled_lady_beli...   \n",
       "14   2021-03-05 11:40:38  /r/auckland/comments/lxwrud/entitled_lady_beli...   \n",
       "15   2021-03-05 11:42:50  /r/auckland/comments/lxwrud/entitled_lady_beli...   \n",
       "16   2021-03-05 12:36:06  /r/auckland/comments/lxwrud/entitled_lady_beli...   \n",
       "17   2021-03-05 13:08:49  /r/auckland/comments/lxwrud/entitled_lady_beli...   \n",
       "18   2021-03-05 11:54:51  /r/auckland/comments/lxwrud/entitled_lady_beli...   \n",
       "19   2021-03-05 12:09:27  /r/auckland/comments/lxwrud/entitled_lady_beli...   \n",
       "20   2021-03-05 11:59:13  /r/auckland/comments/lxwrud/entitled_lady_beli...   \n",
       "21   2021-03-05 12:49:26  /r/auckland/comments/lxwrud/entitled_lady_beli...   \n",
       "22   2021-03-05 12:58:12  /r/auckland/comments/lxwrud/entitled_lady_beli...   \n",
       "23   2021-03-05 13:10:13  /r/auckland/comments/lxwrud/entitled_lady_beli...   \n",
       "24   2021-03-05 13:22:00  /r/auckland/comments/lxwrud/entitled_lady_beli...   \n",
       "25   2021-03-05 15:10:58  /r/auckland/comments/lxwrud/entitled_lady_beli...   \n",
       "26   2021-03-05 11:43:57  /r/auckland/comments/lxwrud/entitled_lady_beli...   \n",
       "27   2021-03-05 12:45:03  /r/auckland/comments/lxwrud/entitled_lady_beli...   \n",
       "28   2021-03-05 12:39:49  /r/auckland/comments/lxwrud/entitled_lady_beli...   \n",
       "29   2021-03-05 12:51:38  /r/auckland/comments/lxwrud/entitled_lady_beli...   \n",
       "...                  ...                                                ...   \n",
       "6462 2021-01-05 22:27:11  /r/auckland/comments/kowtv9/free_diving_course...   \n",
       "6463 2021-01-06 16:27:10  /r/auckland/comments/kowtv9/free_diving_course...   \n",
       "6464 2021-01-03 14:19:37  /r/auckland/comments/kowtv9/free_diving_course...   \n",
       "6465 2021-01-03 09:00:12  /r/auckland/comments/kowtv9/free_diving_course...   \n",
       "6466 2021-01-03 10:40:39  /r/auckland/comments/kowtv9/free_diving_course...   \n",
       "6467 2021-01-08 15:21:39  /r/auckland/comments/koxi2v/is_someone_able_to...   \n",
       "6468 2021-01-02 15:54:43  /r/auckland/comments/koouke/recommendation_for...   \n",
       "6469 2021-01-02 16:45:19  /r/auckland/comments/koouke/recommendation_for...   \n",
       "6470 2021-01-03 01:35:12  /r/auckland/comments/koouke/recommendation_for...   \n",
       "6471 2021-01-02 16:43:01  /r/auckland/comments/koouke/recommendation_for...   \n",
       "6472 2021-01-02 17:23:26  /r/auckland/comments/koouke/recommendation_for...   \n",
       "6473 2021-01-02 18:28:17  /r/auckland/comments/koouke/recommendation_for...   \n",
       "6474 2021-01-03 10:23:41  /r/auckland/comments/koouke/recommendation_for...   \n",
       "6475 2021-01-02 19:48:44  /r/auckland/comments/koslf5/hey_guys_a_questio...   \n",
       "6476 2021-01-02 20:55:52  /r/auckland/comments/koslf5/hey_guys_a_questio...   \n",
       "6477 2021-01-03 07:17:43  /r/auckland/comments/koslf5/hey_guys_a_questio...   \n",
       "6478 2021-01-02 20:14:05  /r/auckland/comments/koslf5/hey_guys_a_questio...   \n",
       "6479 2021-01-02 19:47:59  /r/auckland/comments/koslf5/hey_guys_a_questio...   \n",
       "6480 2021-01-02 20:15:16  /r/auckland/comments/koslf5/hey_guys_a_questio...   \n",
       "6481 2021-01-02 22:14:59  /r/auckland/comments/koslf5/hey_guys_a_questio...   \n",
       "6482 2021-01-02 23:47:59  /r/auckland/comments/koslf5/hey_guys_a_questio...   \n",
       "6483 2021-01-02 19:42:14  /r/auckland/comments/koslf5/hey_guys_a_questio...   \n",
       "6484 2021-01-06 04:20:20  /r/auckland/comments/koslf5/hey_guys_a_questio...   \n",
       "6485 2021-01-02 19:42:00  /r/auckland/comments/koslf5/hey_guys_a_questio...   \n",
       "6486 2021-01-02 19:56:02  /r/auckland/comments/koslf5/hey_guys_a_questio...   \n",
       "6487 2021-01-02 22:02:30  /r/auckland/comments/koslf5/hey_guys_a_questio...   \n",
       "6488 2021-01-02 22:07:37  /r/auckland/comments/koslf5/hey_guys_a_questio...   \n",
       "6489 2021-01-02 22:43:56  /r/auckland/comments/koslf5/hey_guys_a_questio...   \n",
       "6490 2021-01-05 00:57:20  /r/auckland/comments/koslf5/hey_guys_a_questio...   \n",
       "6491 2021-01-02 19:38:06  /r/auckland/comments/koslf5/hey_guys_a_questio...   \n",
       "\n",
       "      comment_score  \n",
       "0               133  \n",
       "1               283  \n",
       "2                56  \n",
       "3               152  \n",
       "4                30  \n",
       "5                83  \n",
       "6                83  \n",
       "7                88  \n",
       "8                16  \n",
       "9                44  \n",
       "10               14  \n",
       "11               69  \n",
       "12               54  \n",
       "13               11  \n",
       "14               44  \n",
       "15               44  \n",
       "16                9  \n",
       "17                9  \n",
       "18               21  \n",
       "19               41  \n",
       "20               27  \n",
       "21               16  \n",
       "22                5  \n",
       "23                5  \n",
       "24                5  \n",
       "25                6  \n",
       "26               16  \n",
       "27               15  \n",
       "28               15  \n",
       "29               14  \n",
       "...             ...  \n",
       "6462              2  \n",
       "6463              1  \n",
       "6464              0  \n",
       "6465             -3  \n",
       "6466             -3  \n",
       "6467              1  \n",
       "6468             12  \n",
       "6469             22  \n",
       "6470              3  \n",
       "6471              5  \n",
       "6472              3  \n",
       "6473              1  \n",
       "6474              1  \n",
       "6475             14  \n",
       "6476             11  \n",
       "6477              7  \n",
       "6478              6  \n",
       "6479             11  \n",
       "6480              5  \n",
       "6481              4  \n",
       "6482              3  \n",
       "6483              7  \n",
       "6484              2  \n",
       "6485              3  \n",
       "6486              2  \n",
       "6487              1  \n",
       "6488              1  \n",
       "6489              1  \n",
       "6490              1  \n",
       "6491             -3  \n",
       "\n",
       "[6492 rows x 12 columns]"
      ]
     },
     "execution_count": 88,
     "metadata": {},
     "output_type": "execute_result"
    }
   ],
   "source": [
    "# lets explore this dataset a little...\n",
    "\n",
    "# load reddit_df from the csv we created.\n",
    "filename=\"old_rAuckland_top_comments.csv\"\n",
    "reddit_df = pd.read_csv(filename,parse_dates=[\"created_datetime\"]) # read the file and parse the datetime test as pandas datetime objets\n",
    "\n",
    "reddit_df"
   ]
  },
  {
   "cell_type": "markdown",
   "metadata": {
    "slideshow": {
     "slide_type": "slide"
    }
   },
   "source": [
    "### thats a lot of data. also a lot of posts with few comments.\n",
    "- lets investigate!"
   ]
  },
  {
   "cell_type": "code",
   "execution_count": null,
   "metadata": {
    "slideshow": {
     "slide_type": "fragment"
    }
   },
   "outputs": [],
   "source": [
    "reddit_df[\"comment_score\"].describe()"
   ]
  },
  {
   "cell_type": "code",
   "execution_count": 89,
   "metadata": {
    "slideshow": {
     "slide_type": "fragment"
    }
   },
   "outputs": [
    {
     "data": {
      "text/plain": [
       "<matplotlib.axes._subplots.AxesSubplot at 0x199dad38e10>"
      ]
     },
     "execution_count": 89,
     "metadata": {},
     "output_type": "execute_result"
    },
    {
     "data": {
      "image/png": "[encoded data removed]",
      "text/plain": [
       "<Figure size 432x288 with 1 Axes>"
      ]
     },
     "metadata": {
      "needs_background": "light"
     },
     "output_type": "display_data"
    }
   ],
   "source": [
    "reddit_df[\"comment_score\"].plot()"
   ]
  },
  {
   "cell_type": "markdown",
   "metadata": {
    "slideshow": {
     "slide_type": "slide"
    }
   },
   "source": [
    "### investigation. When is the best time to post for max comments?"
   ]
  },
  {
   "cell_type": "code",
   "execution_count": 90,
   "metadata": {
    "slideshow": {
     "slide_type": "fragment"
    }
   },
   "outputs": [
    {
     "data": {
      "image/png": "[encoded data removed]",
      "text/plain": [
       "<Figure size 864x288 with 1 Axes>"
      ]
     },
     "metadata": {
      "needs_background": "light"
     },
     "output_type": "display_data"
    }
   ],
   "source": [
    "# https://pandas.pydata.org/docs/getting_started/intro_tutorials/09_timeseries.html\n",
    "import matplotlib.pyplot as plt\n",
    "fig,axs = plt.subplots(figsize=(12,4))\n",
    "reddit_df.groupby(reddit_df[\"created_datetime\"].dt.hour)[\"comment_score\"].max().plot(kind='bar',rot=0,ax=axs)\n",
    "plt.xlabel(\"hour of the day\");\n",
    "plt.ylabel(\"avg comment score\");"
   ]
  },
  {
   "cell_type": "markdown",
   "metadata": {
    "slideshow": {
     "slide_type": "slide"
    }
   },
   "source": [
    "### does comment length correlate to karma?"
   ]
  },
  {
   "cell_type": "code",
   "execution_count": null,
   "metadata": {
    "slideshow": {
     "slide_type": "fragment"
    }
   },
   "outputs": [],
   "source": [
    "# https://pandas.pydata.org/docs/getting_started/intro_tutorials/10_text_data.html\n",
    "reddit_df[\"comment_length\"] = reddit_df[\"comment_body\"].str.len()\n",
    "reddit_df.plot.scatter(y=\"comment_score\",x=\"comment_length\",alpha=0.5,figsize=(12,6),logx=True) # Check out the axis!"
   ]
  },
  {
   "cell_type": "markdown",
   "metadata": {
    "slideshow": {
     "slide_type": "slide"
    }
   },
   "source": [
    "### investigation. Who has the most single comment karma from r/auckland?\n",
    "- to answer this question we have to do something quite algorithmically taxing, groupby\n",
    "  - to group all of the posts that are related to specific users, we have to sort, then summarize\n",
    "  - in this groupby clause we use the .max() method that sums as it goes. Its kind of like the summary statistic you can add to a spatial join function in ArcGIS (*hiss*)"
   ]
  },
  {
   "cell_type": "code",
   "execution_count": null,
   "metadata": {
    "slideshow": {
     "slide_type": "fragment"
    }
   },
   "outputs": [],
   "source": [
    "fig,axs = plt.subplots(figsize=(12,4))\n",
    "# in this clause we use groupby. its a taxing operation\n",
    "reddit_df.groupby(reddit_df[\"comment_author\"])[\"comment_score\"].max().plot(kind='bar',rot=0,ax=axs)\n",
    "plt.xlabel(\"comment author\");\n",
    "plt.ylabel(\"avg comment score\");"
   ]
  },
  {
   "cell_type": "markdown",
   "metadata": {
    "slideshow": {
     "slide_type": "slide"
    }
   },
   "source": [
    "### final investigation. What user has the highest karma, from r/Auckland?"
   ]
  },
  {
   "cell_type": "code",
   "execution_count": null,
   "metadata": {
    "scrolled": true,
    "slideshow": {
     "slide_type": "fragment"
    }
   },
   "outputs": [],
   "source": [
    "# create a new series 'k' by grouping name with summed karma\n",
    "k = reddit_df.groupby(reddit_df[\"comment_author\"])[\"comment_score\"].sum() \n",
    "#convert the series to a dataframe\n",
    "l = pd.DataFrame(k) \n",
    "# output a sorted version, and make permanent\n",
    "l.sort_values(by=[\"comment_score\"],ascending=False,inplace=True)\n",
    "\n",
    "# the default version of this is too big a table, so lets just grab\n",
    "# the top and bottom 5\n",
    "overall_karma = pd.concat([l.head(5),l.tail(5)])\n",
    "overall_karma"
   ]
  },
  {
   "cell_type": "code",
   "execution_count": null,
   "metadata": {
    "slideshow": {
     "slide_type": "slide"
    }
   },
   "outputs": [],
   "source": [
    "overall_karma.plot()"
   ]
  },
  {
   "cell_type": "markdown",
   "metadata": {
    "slideshow": {
     "slide_type": "slide"
    }
   },
   "source": [
    "# Group Activity\n",
    "- in your groups, go through the /r/wallstreetbets dataset and see what you can come up with!\n",
    "  - I've put a dataset in this week's zip file on Canvas called 'reddit_wsb.csv'\n",
    "  - the data comes from Kaggle.com\n",
    "- Using we just looked at, plus using the pandas website, what can you hack together right now?\n",
    "  - some ideas to get you started:\n",
    "    - who posted the most?\n",
    "    - when was the best time to get karma?"
   ]
  },
  {
   "cell_type": "code",
   "execution_count": null,
   "metadata": {},
   "outputs": [],
   "source": [
    "# a dataset from r/wallstreetbets\n",
    "# collected on kaggle using python lib praw\n",
    "# dataset url: https://www.kaggle.com/gpreda/reddit-wallstreetsbets-posts\n",
    "\n",
    "# here is some code to get you started\n",
    "import pandas as pd\n",
    "wsb = pd.read_csv(\"reddit_wsb.csv\")\n",
    "wsb.describe()"
   ]
  },
  {
   "cell_type": "code",
   "execution_count": null,
   "metadata": {},
   "outputs": [],
   "source": []
  }
 ],
 "metadata": {
  "celltoolbar": "Slideshow",
  "kernelspec": {
   "display_name": "Python 3",
   "language": "python",
   "name": "python3"
  },
  "language_info": {
   "codemirror_mode": {
    "name": "ipython",
    "version": 3
   },
   "file_extension": ".py",
   "mimetype": "text/x-python",
   "name": "python",
   "nbconvert_exporter": "python",
   "pygments_lexer": "ipython3",
   "version": "3.8.5"
  }
 },
 "nbformat": 4,
 "nbformat_minor": 4
}
